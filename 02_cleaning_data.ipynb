{
 "cells": [
  {
   "cell_type": "markdown",
   "id": "6b8a06c7",
   "metadata": {},
   "source": [
    "# Cleaning Data"
   ]
  },
  {
   "cell_type": "markdown",
   "id": "4653862c",
   "metadata": {},
   "source": [
    "## Imports and Loads"
   ]
  },
  {
   "cell_type": "code",
   "execution_count": 121,
   "id": "c03f0ab9",
   "metadata": {},
   "outputs": [],
   "source": [
    "import pandas as pd\n",
    "import numpy as np"
   ]
  },
  {
   "cell_type": "code",
   "execution_count": 122,
   "id": "534686d5",
   "metadata": {},
   "outputs": [],
   "source": [
    "# Load datasets\n",
    "raw_listings = pd.read_parquet('data/raw/listings.parquet')\n",
    "raw_reviews = pd.read_parquet('data/raw/reviews.parquet')"
   ]
  },
  {
   "cell_type": "markdown",
   "id": "da05b2de",
   "metadata": {},
   "source": [
    "## Listings\n",
    "- Converter id para string\n",
    "- filtrar somente regiao de interesse\n",
    "- remover colunas nao necessarias\n",
    "- explidir amenities\n",
    "- ultimo review em 2025"
   ]
  },
  {
   "cell_type": "code",
   "execution_count": 123,
   "id": "835a93e4",
   "metadata": {},
   "outputs": [],
   "source": [
    "listings = raw_listings.copy()"
   ]
  },
  {
   "cell_type": "code",
   "execution_count": 124,
   "id": "bf20e590",
   "metadata": {},
   "outputs": [],
   "source": [
    "listings['id'] = listings['id'].astype(str)\n",
    "listings['host_id'] = listings['host_id'].astype(str)"
   ]
  },
  {
   "cell_type": "code",
   "execution_count": 125,
   "id": "89058c7a",
   "metadata": {},
   "outputs": [],
   "source": [
    "listings['price'] = listings['price'].str.replace('$', '').str.replace(',', '').astype(float)"
   ]
  },
  {
   "cell_type": "code",
   "execution_count": 126,
   "id": "90a32103",
   "metadata": {},
   "outputs": [
    {
     "name": "stdout",
     "output_type": "stream",
     "text": [
      "Preços extremos: Mín $34 | Máx $500000 | P99 $6131\n",
      "Suspeitos: 1312 muito baixos, 1614 muito altos\n"
     ]
    },
    {
     "data": {
      "image/png": "[encoded data removed]",
      "text/plain": [
       "<Figure size 1200x400 with 2 Axes>"
      ]
     },
     "metadata": {},
     "output_type": "display_data"
    }
   ],
   "source": [
    "# Análise simples de anomalias de preço\n",
    "print(f\"Preços extremos: Mín ${prices.min():.0f} | Máx ${prices.max():.0f} | P99 ${prices.quantile(0.99):.0f}\")\n",
    "print(f\"Suspeitos: {len(prices[prices < 100])} muito baixos, {len(prices[prices > 2000])} muito altos\")\n",
    "\n",
    "# Boxplot simples\n",
    "plt.figure(figsize=(12,4))\n",
    "plt.subplot(1,2,1)\n",
    "sns.boxplot(y=prices)\n",
    "plt.title('Boxplot - Todos os Preços')\n",
    "\n",
    "plt.subplot(1,2,2)\n",
    "sns.boxplot(y=prices[prices <= prices.quantile(0.95)])\n",
    "plt.title('Boxplot - Até P95')\n",
    "\n",
    "plt.tight_layout()\n",
    "plt.show()"
   ]
  },
  {
   "cell_type": "markdown",
   "id": "356fb7f6",
   "metadata": {},
   "source": [
    "Nao vamos mexer nos outliers aqui por que sao os imoveis de luxo, entao faz sentido manter ainda"
   ]
  },
  {
   "cell_type": "code",
   "execution_count": 127,
   "id": "9e6157aa",
   "metadata": {},
   "outputs": [],
   "source": [
    "listings = listings[listings['last_review'] >= '2024-01-01']"
   ]
  },
  {
   "cell_type": "code",
   "execution_count": 128,
   "id": "156687e5",
   "metadata": {},
   "outputs": [],
   "source": [
    "listings['host_acceptance_rate'] = listings['host_acceptance_rate'].str.replace('%', '').astype(float)"
   ]
  },
  {
   "cell_type": "code",
   "execution_count": 129,
   "id": "fa21377f",
   "metadata": {},
   "outputs": [],
   "source": [
    "listings['host_is_superhost'] = listings['host_is_superhost'].map({'t': True, 'f': False})"
   ]
  },
  {
   "cell_type": "code",
   "execution_count": 130,
   "id": "h3e14f6oig9",
   "metadata": {},
   "outputs": [
    {
     "name": "stderr",
     "output_type": "stream",
     "text": [
      "/var/folders/80/0vb7fb6j0zzg0v8wfvg3_snw0000gr/T/ipykernel_32926/896374290.py:2: FutureWarning: Downcasting object dtype arrays on .fillna, .ffill, .bfill is deprecated and will change in a future version. Call result.infer_objects(copy=False) instead. To opt-in to the future behavior, set `pd.set_option('future.no_silent_downcasting', True)`\n",
      "  listings['host_is_superhost'] = listings['host_is_superhost'].fillna(False)\n"
     ]
    }
   ],
   "source": [
    "# Tratar valores NaN\n",
    "listings['host_is_superhost'] = listings['host_is_superhost'].fillna(False)"
   ]
  },
  {
   "cell_type": "code",
   "execution_count": 131,
   "id": "656e8276",
   "metadata": {},
   "outputs": [
    {
     "data": {
      "application/vnd.microsoft.datawrangler.viewer.v0+json": {
       "columns": [
        {
         "name": "neighbourhood_cleansed",
         "rawType": "object",
         "type": "string"
        },
        {
         "name": "count",
         "rawType": "int64",
         "type": "integer"
        }
       ],
       "ref": "a2701d58-017e-4403-8245-3c5428b7c097",
       "rows": [
        [
         "Copacabana",
         "10567"
        ],
        [
         "Ipanema",
         "2860"
        ],
        [
         "Barra da Tijuca",
         "2484"
        ],
        [
         "Centro",
         "1772"
        ],
        [
         "Leblon",
         "1492"
        ],
        [
         "Botafogo",
         "1488"
        ],
        [
         "Recreio dos Bandeirantes",
         "1306"
        ],
        [
         "Jacarepaguá",
         "1085"
        ],
        [
         "Santa Teresa",
         "1075"
        ],
        [
         "Flamengo",
         "768"
        ],
        [
         "Leme",
         "679"
        ],
        [
         "Camorim",
         "629"
        ],
        [
         "Laranjeiras",
         "428"
        ],
        [
         "Catete",
         "309"
        ],
        [
         "Tijuca",
         "294"
        ],
        [
         "Glória",
         "281"
        ],
        [
         "Vidigal",
         "221"
        ],
        [
         "São Conrado",
         "182"
        ],
        [
         "Lagoa",
         "177"
        ],
        [
         "Jardim Botânico",
         "163"
        ],
        [
         "Humaitá",
         "141"
        ],
        [
         "Gávea",
         "140"
        ],
        [
         "Urca",
         "133"
        ],
        [
         "Santo Cristo",
         "123"
        ],
        [
         "Barra de Guaratiba",
         "100"
        ],
        [
         "Campo Grande",
         "99"
        ],
        [
         "São Cristóvão",
         "98"
        ],
        [
         "Guaratiba",
         "97"
        ],
        [
         "Vila Isabel",
         "92"
        ],
        [
         "Rio Comprido",
         "91"
        ],
        [
         "Maracanã",
         "86"
        ],
        [
         "Vargem Pequena",
         "86"
        ],
        [
         "Itanhangá",
         "83"
        ],
        [
         "Freguesia (Jacarepaguá)",
         "69"
        ],
        [
         "Vargem Grande",
         "67"
        ],
        [
         "Joá",
         "67"
        ],
        [
         "Taquara",
         "65"
        ],
        [
         "Praça da Bandeira",
         "61"
        ],
        [
         "Cosme Velho",
         "57"
        ],
        [
         "Estácio",
         "55"
        ],
        [
         "Engenho de Dentro",
         "52"
        ],
        [
         "Curicica",
         "44"
        ],
        [
         "Méier",
         "44"
        ],
        [
         "Grajaú",
         "43"
        ],
        [
         "Pechincha",
         "40"
        ],
        [
         "Andaraí",
         "38"
        ],
        [
         "Paquetá",
         "36"
        ],
        [
         "Engenho Novo",
         "35"
        ],
        [
         "Jardim Guanabara",
         "34"
        ],
        [
         "Saúde",
         "34"
        ]
       ],
       "shape": {
        "columns": 1,
        "rows": 148
       }
      },
      "text/plain": [
       "neighbourhood_cleansed\n",
       "Copacabana            10567\n",
       "Ipanema                2860\n",
       "Barra da Tijuca        2484\n",
       "Centro                 1772\n",
       "Leblon                 1492\n",
       "                      ...  \n",
       "Galeão                    1\n",
       "Complexo do Alemão        1\n",
       "Turiaçú                   1\n",
       "Senador Camará            1\n",
       "Colégio                   1\n",
       "Name: count, Length: 148, dtype: int64"
      ]
     },
     "execution_count": 131,
     "metadata": {},
     "output_type": "execute_result"
    }
   ],
   "source": [
    "listings['neighbourhood_cleansed'].value_counts()"
   ]
  },
  {
   "cell_type": "code",
   "execution_count": null,
   "id": "e0be5dc0",
   "metadata": {},
   "outputs": [],
   "source": [
    "listings = listings[listings['neighbourhood_cleansed'].isin(['Leblon'])].reset_index(drop=True) # ['Copacabana', 'Ipanema', 'Copacabana']"
   ]
  },
  {
   "cell_type": "code",
   "execution_count": 133,
   "id": "f28b8b9b",
   "metadata": {},
   "outputs": [
    {
     "data": {
      "application/vnd.microsoft.datawrangler.viewer.v0+json": {
       "columns": [
        {
         "name": "property_type",
         "rawType": "object",
         "type": "string"
        },
        {
         "name": "count",
         "rawType": "int64",
         "type": "integer"
        }
       ],
       "ref": "783e013e-3f63-4445-9171-1bbaa37dc9c8",
       "rows": [
        [
         "Entire rental unit",
         "12082"
        ],
        [
         "Private room in rental unit",
         "1572"
        ],
        [
         "Entire condo",
         "525"
        ],
        [
         "Entire loft",
         "368"
        ],
        [
         "Entire serviced apartment",
         "233"
        ],
        [
         "Private room in home",
         "80"
        ],
        [
         "Entire home",
         "72"
        ],
        [
         "Private room in condo",
         "63"
        ],
        [
         "Room in aparthotel",
         "61"
        ],
        [
         "Shared room in rental unit",
         "40"
        ],
        [
         "Private room in bed and breakfast",
         "28"
        ],
        [
         "Shared room in guesthouse",
         "13"
        ],
        [
         "Entire guest suite",
         "13"
        ],
        [
         "Private room in guesthouse",
         "12"
        ],
        [
         "Private room in guest suite",
         "11"
        ],
        [
         "Entire guesthouse",
         "10"
        ],
        [
         "Private room in hostel",
         "10"
        ],
        [
         "Room in hotel",
         "9"
        ],
        [
         "Private room in serviced apartment",
         "8"
        ],
        [
         "Private room in casa particular",
         "7"
        ],
        [
         "Private room",
         "6"
        ],
        [
         "Entire place",
         "6"
        ],
        [
         "Shared room in hostel",
         "6"
        ],
        [
         "Entire villa",
         "4"
        ],
        [
         "Entire vacation home",
         "3"
        ],
        [
         "Tiny home",
         "3"
        ],
        [
         "Room in serviced apartment",
         "3"
        ],
        [
         "Private room in villa",
         "2"
        ],
        [
         "Private room in loft",
         "2"
        ],
        [
         "Entire townhouse",
         "2"
        ],
        [
         "Shared room in bed and breakfast",
         "1"
        ],
        [
         "Shared room in guest suite",
         "1"
        ],
        [
         "Casa particular",
         "1"
        ],
        [
         "Room in bed and breakfast",
         "1"
        ],
        [
         "Entire cottage",
         "1"
        ]
       ],
       "shape": {
        "columns": 1,
        "rows": 35
       }
      },
      "text/plain": [
       "property_type\n",
       "Entire rental unit                    12082\n",
       "Private room in rental unit            1572\n",
       "Entire condo                            525\n",
       "Entire loft                             368\n",
       "Entire serviced apartment               233\n",
       "Private room in home                     80\n",
       "Entire home                              72\n",
       "Private room in condo                    63\n",
       "Room in aparthotel                       61\n",
       "Shared room in rental unit               40\n",
       "Private room in bed and breakfast        28\n",
       "Shared room in guesthouse                13\n",
       "Entire guest suite                       13\n",
       "Private room in guesthouse               12\n",
       "Private room in guest suite              11\n",
       "Entire guesthouse                        10\n",
       "Private room in hostel                   10\n",
       "Room in hotel                             9\n",
       "Private room in serviced apartment        8\n",
       "Private room in casa particular           7\n",
       "Private room                              6\n",
       "Entire place                              6\n",
       "Shared room in hostel                     6\n",
       "Entire villa                              4\n",
       "Entire vacation home                      3\n",
       "Tiny home                                 3\n",
       "Room in serviced apartment                3\n",
       "Private room in villa                     2\n",
       "Private room in loft                      2\n",
       "Entire townhouse                          2\n",
       "Shared room in bed and breakfast          1\n",
       "Shared room in guest suite                1\n",
       "Casa particular                           1\n",
       "Room in bed and breakfast                 1\n",
       "Entire cottage                            1\n",
       "Name: count, dtype: int64"
      ]
     },
     "execution_count": 133,
     "metadata": {},
     "output_type": "execute_result"
    }
   ],
   "source": [
    "listings['property_type'].value_counts()"
   ]
  },
  {
   "cell_type": "code",
   "execution_count": 134,
   "id": "7c72f392",
   "metadata": {},
   "outputs": [],
   "source": [
    "listings = listings[~listings['property_type'].str.contains('Private|Shared|Room', na=False)]"
   ]
  },
  {
   "cell_type": "code",
   "execution_count": 135,
   "id": "18984e7d",
   "metadata": {},
   "outputs": [],
   "source": [
    "columns_to_keep = [\n",
    "    'id', 'name', 'host_id', 'host_is_superhost', \n",
    "    'neighbourhood_cleansed', 'property_type', 'amenities', 'price',\n",
    "    'review_scores_rating', 'review_scores_accuracy', 'review_scores_cleanliness',\n",
    "    'review_scores_checkin', 'review_scores_communication', 'review_scores_location',\n",
    "    'review_scores_value']"
   ]
  },
  {
   "cell_type": "code",
   "execution_count": 136,
   "id": "b9f5cd67",
   "metadata": {},
   "outputs": [],
   "source": [
    "listings = listings[columns_to_keep]"
   ]
  },
  {
   "cell_type": "code",
   "execution_count": 137,
   "id": "euzo6migpr4",
   "metadata": {},
   "outputs": [
    {
     "name": "stdout",
     "output_type": "stream",
     "text": [
      "Amenities mais comuns:\n",
      "amenity\n",
      "Kitchen                  12989\n",
      "Wifi                     12045\n",
      "Hot water                10669\n",
      "Dishes and silverware    10543\n",
      "Bed linens               10037\n",
      "Iron                      9592\n",
      "Cooking basics            9575\n",
      "Hangers                   9572\n",
      "Microwave                 9541\n",
      "Elevator                  8622\n",
      "Name: count, dtype: int64\n"
     ]
    }
   ],
   "source": [
    "# Tratar amenities - converter de string para lista e explodir\n",
    "import ast\n",
    "\n",
    "def parse_amenities(amenities_str):\n",
    "    try:\n",
    "        return ast.literal_eval(amenities_str)\n",
    "    except:\n",
    "        return []\n",
    "\n",
    "listings['amenities_list'] = listings['amenities'].apply(parse_amenities)\n",
    "\n",
    "# Criar DataFrame explodido de amenities\n",
    "amenities_exploded = listings[['id', 'amenities_list']].explode('amenities_list')\n",
    "amenities_exploded = amenities_exploded[amenities_exploded['amenities_list'].notna()]\n",
    "amenities_exploded.rename(columns={'amenities_list': 'amenity'}, inplace=True)\n",
    "\n",
    "# Salvar amenities separadamente\n",
    "amenities_exploded.to_csv('data/processed/amenities.csv', index=False)\n",
    "\n",
    "print(f\"Amenities mais comuns:\")\n",
    "print(amenities_exploded['amenity'].value_counts().head(10))"
   ]
  },
  {
   "cell_type": "code",
   "execution_count": 138,
   "id": "db79f4c9",
   "metadata": {},
   "outputs": [
    {
     "data": {
      "application/vnd.microsoft.datawrangler.viewer.v0+json": {
       "columns": [
        {
         "name": "index",
         "rawType": "object",
         "type": "string"
        },
        {
         "name": "0",
         "rawType": "int64",
         "type": "integer"
        }
       ],
       "ref": "1935916b-1b10-4726-b6d8-b909c81d5ab5",
       "rows": [
        [
         "id",
         "0"
        ],
        [
         "name",
         "0"
        ],
        [
         "host_id",
         "0"
        ],
        [
         "host_is_superhost",
         "0"
        ],
        [
         "neighbourhood_cleansed",
         "0"
        ],
        [
         "property_type",
         "0"
        ],
        [
         "amenities",
         "0"
        ],
        [
         "price",
         "894"
        ],
        [
         "review_scores_rating",
         "0"
        ],
        [
         "review_scores_accuracy",
         "2"
        ],
        [
         "review_scores_cleanliness",
         "2"
        ],
        [
         "review_scores_checkin",
         "2"
        ],
        [
         "review_scores_communication",
         "2"
        ],
        [
         "review_scores_location",
         "2"
        ],
        [
         "review_scores_value",
         "2"
        ],
        [
         "amenities_list",
         "0"
        ]
       ],
       "shape": {
        "columns": 1,
        "rows": 16
       }
      },
      "text/plain": [
       "id                               0\n",
       "name                             0\n",
       "host_id                          0\n",
       "host_is_superhost                0\n",
       "neighbourhood_cleansed           0\n",
       "property_type                    0\n",
       "amenities                        0\n",
       "price                          894\n",
       "review_scores_rating             0\n",
       "review_scores_accuracy           2\n",
       "review_scores_cleanliness        2\n",
       "review_scores_checkin            2\n",
       "review_scores_communication      2\n",
       "review_scores_location           2\n",
       "review_scores_value              2\n",
       "amenities_list                   0\n",
       "dtype: int64"
      ]
     },
     "execution_count": 138,
     "metadata": {},
     "output_type": "execute_result"
    }
   ],
   "source": [
    "listings.isnull().sum()"
   ]
  },
  {
   "cell_type": "code",
   "execution_count": 139,
   "id": "9c0b19e7",
   "metadata": {},
   "outputs": [],
   "source": [
    "# remover as linhas que tem NaN em algum review score\n",
    "listings = listings.dropna(subset=['review_scores_rating', 'review_scores_accuracy', 'review_scores_cleanliness',\n",
    "                                 'review_scores_checkin', 'review_scores_communication', 'review_scores_location',\n",
    "                                 'review_scores_value']).reset_index(drop=True)"
   ]
  },
  {
   "cell_type": "markdown",
   "id": "1f008da0",
   "metadata": {},
   "source": [
    "Vamos manter o price NaN para analises futuras"
   ]
  },
  {
   "cell_type": "code",
   "execution_count": 140,
   "id": "cfbfce2d",
   "metadata": {},
   "outputs": [
    {
     "data": {
      "application/vnd.microsoft.datawrangler.viewer.v0+json": {
       "columns": [
        {
         "name": "index",
         "rawType": "int64",
         "type": "integer"
        },
        {
         "name": "id",
         "rawType": "object",
         "type": "string"
        },
        {
         "name": "name",
         "rawType": "object",
         "type": "string"
        },
        {
         "name": "host_id",
         "rawType": "object",
         "type": "string"
        },
        {
         "name": "host_is_superhost",
         "rawType": "bool",
         "type": "boolean"
        },
        {
         "name": "neighbourhood_cleansed",
         "rawType": "object",
         "type": "string"
        },
        {
         "name": "property_type",
         "rawType": "object",
         "type": "string"
        },
        {
         "name": "amenities",
         "rawType": "object",
         "type": "string"
        },
        {
         "name": "price",
         "rawType": "float64",
         "type": "float"
        },
        {
         "name": "review_scores_rating",
         "rawType": "float64",
         "type": "float"
        },
        {
         "name": "review_scores_accuracy",
         "rawType": "float64",
         "type": "float"
        },
        {
         "name": "review_scores_cleanliness",
         "rawType": "float64",
         "type": "float"
        },
        {
         "name": "review_scores_checkin",
         "rawType": "float64",
         "type": "float"
        },
        {
         "name": "review_scores_communication",
         "rawType": "float64",
         "type": "float"
        },
        {
         "name": "review_scores_location",
         "rawType": "float64",
         "type": "float"
        },
        {
         "name": "review_scores_value",
         "rawType": "float64",
         "type": "float"
        },
        {
         "name": "amenities_list",
         "rawType": "object",
         "type": "unknown"
        }
       ],
       "ref": "e2fc4bb8-f373-40a6-b079-0f30622fa9b6",
       "rows": [
        [
         "0",
         "17878",
         "Very Nice 2Br in Copacabana w. balcony, fast WiFi",
         "68997",
         "False",
         "Copacabana",
         "Entire condo",
         "[\"Oven\", \"Building staff\", \"TV with standard cable\", \"Smoking allowed\", \"Bed linens\", \"Bathtub\", \"Paid parking off premises\", \"Hot water\", \"Hair dryer\", \"Patio or balcony\", \"Hangers\", \"Coffee maker\", \"Refrigerator\", \"Essentials\", \"Kitchen\", \"Iron\", \"Stove\", \"Wifi\", \"Dishes and silverware\", \"Cooking basics\", \"Microwave\", \"Private entrance\", \"Elevator\", \"Luggage dropoff allowed\", \"Self check-in\", \"Air conditioning\"]",
         "254.0",
         "4.71",
         "4.76",
         "4.64",
         "4.83",
         "4.91",
         "4.78",
         "4.67",
         "['Oven', 'Building staff', 'TV with standard cable', 'Smoking allowed', 'Bed linens', 'Bathtub', 'Paid parking off premises', 'Hot water', 'Hair dryer', 'Patio or balcony', 'Hangers', 'Coffee maker', 'Refrigerator', 'Essentials', 'Kitchen', 'Iron', 'Stove', 'Wifi', 'Dishes and silverware', 'Cooking basics', 'Microwave', 'Private entrance', 'Elevator', 'Luggage dropoff allowed', 'Self check-in', 'Air conditioning']"
        ],
        [
         "1",
         "25026",
         "Beautiful Modern Decorated Studio in Copacabana",
         "102840",
         "True",
         "Copacabana",
         "Entire rental unit",
         "[\"Window AC unit\", \"Room-darkening shades\", \"Dedicated workspace\", \"Stove\", \"Oven\", \"Essentials\", \"Wine glasses\", \"Self check-in\", \"Clothing storage: wardrobe\", \"Coffee\", \"Iron\", \"Body soap\", \"Refrigerator\", \"TV with standard cable\", \"Hammock\", \"Keypad\", \"Blender\", \"Bed linens\", \"Cooking basics\", \"Hot water\", \"Fast wifi \\u2013 501 Mbps\", \"Kitchen\", \"Single level home\", \"Paid street parking off premises\", \"Books and reading material\", \"Coffee maker\", \"Extra pillows and blankets\", \"Microwave\", \"Dining table\", \"Hair dryer\", \"Drying rack for clothing\", \"Laundromat nearby\", \"Hangers\", \"Elevator\", \"Toaster\", \"Shared beach access\", \"Dishes and silverware\", \"Ceiling fan\"]",
         "252.0",
         "4.75",
         "4.74",
         "4.81",
         "4.83",
         "4.93",
         "4.85",
         "4.65",
         "['Window AC unit', 'Room-darkening shades', 'Dedicated workspace', 'Stove', 'Oven', 'Essentials', 'Wine glasses', 'Self check-in', 'Clothing storage: wardrobe', 'Coffee', 'Iron', 'Body soap', 'Refrigerator', 'TV with standard cable', 'Hammock', 'Keypad', 'Blender', 'Bed linens', 'Cooking basics', 'Hot water', 'Fast wifi – 501 Mbps', 'Kitchen', 'Single level home', 'Paid street parking off premises', 'Books and reading material', 'Coffee maker', 'Extra pillows and blankets', 'Microwave', 'Dining table', 'Hair dryer', 'Drying rack for clothing', 'Laundromat nearby', 'Hangers', 'Elevator', 'Toaster', 'Shared beach access', 'Dishes and silverware', 'Ceiling fan']"
        ],
        [
         "2",
         "35764",
         "COPACABANA SEA BREEZE  -  RIO - 25  X Superhost",
         "153691",
         "True",
         "Copacabana",
         "Entire loft",
         "[\"Building staff\", \"Bed linens\", \"Heating\", \"Paid parking off premises\", \"Hot water\", \"Hair dryer\", \"Hangers\", \"Coffee maker\", \"Room-darkening shades\", \"Refrigerator\", \"Essentials\", \"Fire extinguisher\", \"Kitchen\", \"Iron\", \"Window AC unit\", \"Carbon monoxide alarm\", \"Smoke alarm\", \"Stove\", \"Pocket wifi\", \"Wifi\", \"32 inch HDTV with standard cable\", \"Cooking basics\", \"Dishes and silverware\", \"Microwave\", \"Beach view\", \"Extra pillows and blankets\", \"Elevator\", \"Luggage dropoff allowed\", \"Beach access \\u2013 Beachfront\", \"Self check-in\"]",
         "190.0",
         "4.91",
         "4.94",
         "4.92",
         "4.97",
         "4.95",
         "4.95",
         "4.89",
         "['Building staff', 'Bed linens', 'Heating', 'Paid parking off premises', 'Hot water', 'Hair dryer', 'Hangers', 'Coffee maker', 'Room-darkening shades', 'Refrigerator', 'Essentials', 'Fire extinguisher', 'Kitchen', 'Iron', 'Window AC unit', 'Carbon monoxide alarm', 'Smoke alarm', 'Stove', 'Pocket wifi', 'Wifi', '32 inch HDTV with standard cable', 'Cooking basics', 'Dishes and silverware', 'Microwave', 'Beach view', 'Extra pillows and blankets', 'Elevator', 'Luggage dropoff allowed', 'Beach access – Beachfront', 'Self check-in']"
        ],
        [
         "3",
         "48305",
         "Bright 6bed Penthouse Seconds from Beach",
         "70933",
         "True",
         "Ipanema",
         "Entire rental unit",
         "[\"Pack \\u2019n play/Travel crib\", \"Private patio or balcony\", \"Oven\", \"Paid parking garage off premises\", \"Bed linens\", \"Shampoo\", \"Baby bath\", \"Sea view\", \"Host greets you\", \"Hot water\", \"Hair dryer\", \"40 inch HDTV with premium cable\", \"Hangers\", \"Coffee maker\", \"Room-darkening shades\", \"Luggage dropoff allowed\", \"AC - split type ductless system\", \"Refrigerator\", \"Essentials\", \"Fire extinguisher\", \"Kitchen\", \"Long term stays allowed\", \"Iron\", \"Carbon monoxide alarm\", \"Stove\", \"Wifi\", \"Dishes and silverware\", \"Microwave\", \"Private entrance\", \"Beach view\", \"Crib\", \"Extra pillows and blankets\", \"BBQ grill\"]",
         "2239.0",
         "4.77",
         "4.74",
         "4.73",
         "4.84",
         "4.84",
         "4.95",
         "4.59",
         "['Pack ’n play/Travel crib', 'Private patio or balcony', 'Oven', 'Paid parking garage off premises', 'Bed linens', 'Shampoo', 'Baby bath', 'Sea view', 'Host greets you', 'Hot water', 'Hair dryer', '40 inch HDTV with premium cable', 'Hangers', 'Coffee maker', 'Room-darkening shades', 'Luggage dropoff allowed', 'AC - split type ductless system', 'Refrigerator', 'Essentials', 'Fire extinguisher', 'Kitchen', 'Long term stays allowed', 'Iron', 'Carbon monoxide alarm', 'Stove', 'Wifi', 'Dishes and silverware', 'Microwave', 'Private entrance', 'Beach view', 'Crib', 'Extra pillows and blankets', 'BBQ grill']"
        ],
        [
         "4",
         "48901",
         "Extra large 4BD 3BT on the AtlanticAve. Copacabana",
         "222884",
         "False",
         "Copacabana",
         "Entire rental unit",
         "[\"Microwave\", \"Dedicated workspace\", \"Hot water\", \"Kitchen\", \"Blender\", \"Stove\", \"Bed linens\", \"Beach access \\u2013 Beachfront\", \"Window AC unit\", \"Room-darkening shades\", \"Toaster\", \"Beach view\", \"Host greets you\", \"Exterior security cameras on property\", \"Essentials\", \"Elevator\", \"Portable fans\", \"TV with standard cable\", \"Clothing storage: wardrobe\", \"Dishes and silverware\", \"Iron\", \"Smoking allowed\", \"Refrigerator\", \"Oven\", \"Long term stays allowed\", \"Wifi\", \"Paid parking garage on premises \\u2013 1 space\", \"Hair dryer\", \"Dining table\", \"Hangers\", \"Cooking basics\", \"Hot water kettle\", \"Pets allowed\"]",
         "743.0",
         "4.63",
         "4.67",
         "4.42",
         "4.88",
         "4.83",
         "4.94",
         "4.6",
         "['Microwave', 'Dedicated workspace', 'Hot water', 'Kitchen', 'Blender', 'Stove', 'Bed linens', 'Beach access – Beachfront', 'Window AC unit', 'Room-darkening shades', 'Toaster', 'Beach view', 'Host greets you', 'Exterior security cameras on property', 'Essentials', 'Elevator', 'Portable fans', 'TV with standard cable', 'Clothing storage: wardrobe', 'Dishes and silverware', 'Iron', 'Smoking allowed', 'Refrigerator', 'Oven', 'Long term stays allowed', 'Wifi', 'Paid parking garage on premises – 1 space', 'Hair dryer', 'Dining table', 'Hangers', 'Cooking basics', 'Hot water kettle', 'Pets allowed']"
        ],
        [
         "5",
         "49179",
         "Djalma Ocean View Studio with Amazing Views",
         "224192",
         "True",
         "Copacabana",
         "Entire rental unit",
         "[\"Mini fridge\", \"Dedicated workspace\", \"Building staff\", \"Ethernet connection\", \"Bed linens\", \"Ocean view\", \"Paid street parking off premises\", \"Laundromat nearby\", \"Hot water\", \"Hangers\", \"Coffee maker\", \"Room-darkening shades\", \"Refrigerator\", \"Essentials\", \"Ceiling fan\", \"Kitchen\", \"2 Burner Hot plate electric stove\", \"Long term stays allowed\", \"Iron\", \"Window AC unit\", \"Shared beach access\", \"Wifi\", \"Dishes and silverware\", \"Cooking basics\", \"40 inch HDTV with Netflix, standard cable\", \"Clothing storage: wardrobe\", \"Microwave\", \"Beach view\", \"Safe\", \"Extra pillows and blankets\", \"Elevator\", \"Luggage dropoff allowed\", \"Self check-in\"]",
         "189.0",
         "4.84",
         "4.88",
         "4.7",
         "4.91",
         "4.93",
         "4.91",
         "4.75",
         "['Mini fridge', 'Dedicated workspace', 'Building staff', 'Ethernet connection', 'Bed linens', 'Ocean view', 'Paid street parking off premises', 'Laundromat nearby', 'Hot water', 'Hangers', 'Coffee maker', 'Room-darkening shades', 'Refrigerator', 'Essentials', 'Ceiling fan', 'Kitchen', '2 Burner Hot plate electric stove', 'Long term stays allowed', 'Iron', 'Window AC unit', 'Shared beach access', 'Wifi', 'Dishes and silverware', 'Cooking basics', '40 inch HDTV with Netflix, standard cable', 'Clothing storage: wardrobe', 'Microwave', 'Beach view', 'Safe', 'Extra pillows and blankets', 'Elevator', 'Luggage dropoff allowed', 'Self check-in']"
        ],
        [
         "6",
         "51703",
         "Ocean view, block of the beach, Copacabana,Ipanema",
         "238091",
         "True",
         "Copacabana",
         "Entire rental unit",
         "[\"Building staff\", \"Body soap\", \"Bed linens\", \"Shampoo\", \"Free washer \\u2013 In building\", \"Bay view\", \"Waterfront\", \"Beach essentials\", \"Hot water\", \"Hair dryer\", \"Hangers\", \"Room-darkening shades\", \"Refrigerator\", \"HDTV with standard cable, Netflix\", \"Essentials\", \"Fire extinguisher\", \"Kitchen\", \"Long term stays allowed\", \"Iron\", \"Window AC unit\", \"Drying rack for clothing\", \"Stove\", \"Conditioner\", \"Wifi\", \"Dishes and silverware\", \"Cooking basics\", \"Toaster\", \"Clothing storage: wardrobe\", \"Microwave\", \"Private entrance\", \"Beach view\", \"Coffee maker: pour-over coffee\", \"Cleaning products\", \"Elevator\", \"Luggage dropoff allowed\", \"Beach access \\u2013 Beachfront\", \"Self check-in\"]",
         "201.0",
         "4.78",
         "4.76",
         "4.79",
         "4.91",
         "4.92",
         "4.93",
         "4.67",
         "['Building staff', 'Body soap', 'Bed linens', 'Shampoo', 'Free washer – In building', 'Bay view', 'Waterfront', 'Beach essentials', 'Hot water', 'Hair dryer', 'Hangers', 'Room-darkening shades', 'Refrigerator', 'HDTV with standard cable, Netflix', 'Essentials', 'Fire extinguisher', 'Kitchen', 'Long term stays allowed', 'Iron', 'Window AC unit', 'Drying rack for clothing', 'Stove', 'Conditioner', 'Wifi', 'Dishes and silverware', 'Cooking basics', 'Toaster', 'Clothing storage: wardrobe', 'Microwave', 'Private entrance', 'Beach view', 'Coffee maker: pour-over coffee', 'Cleaning products', 'Elevator', 'Luggage dropoff allowed', 'Beach access – Beachfront', 'Self check-in']"
        ],
        [
         "7",
         "290503",
         "5 min a pé - Praia de Copacabana e Metrô III",
         "449677",
         "True",
         "Copacabana",
         "Entire rental unit",
         "[\"TV\", \"Body soap\", \"Bed linens\", \"Dining table\", \"Host greets you\", \"Laundromat nearby\", \"Hot water\", \"Hangers\", \"Coffee maker\", \"Refrigerator\", \"AC - split type ductless system\", \"Exterior security cameras on property\", \"Essentials\", \"Fire extinguisher\", \"Long term stays allowed\", \"Wifi\", \"Dishes and silverware\", \"Clothing storage: wardrobe\", \"Microwave\", \"Beach access \\u2013 Beachfront\"]",
         "152.0",
         "4.94",
         "4.93",
         "4.94",
         "4.99",
         "5.0",
         "4.59",
         "4.88",
         "['TV', 'Body soap', 'Bed linens', 'Dining table', 'Host greets you', 'Laundromat nearby', 'Hot water', 'Hangers', 'Coffee maker', 'Refrigerator', 'AC - split type ductless system', 'Exterior security cameras on property', 'Essentials', 'Fire extinguisher', 'Long term stays allowed', 'Wifi', 'Dishes and silverware', 'Clothing storage: wardrobe', 'Microwave', 'Beach access – Beachfront']"
        ],
        [
         "8",
         "291290",
         "Apartment in Copacabana / RIO with Fast Internet",
         "402478",
         "False",
         "Copacabana",
         "Entire rental unit",
         "[\"Cooking basics\", \"Essentials\", \"Clothing storage: wardrobe\", \"TV\", \"Ceiling fan\", \"Hot water\", \"Hair dryer\", \"Kitchen\", \"Bed linens\", \"Iron\", \"Gas stove\", \"Shared beach access\", \"Elevator\", \"Refrigerator\", \"Air conditioning\", \"Wifi\"]",
         "234.0",
         "4.67",
         "4.67",
         "4.53",
         "5.0",
         "5.0",
         "5.0",
         "4.4",
         "['Cooking basics', 'Essentials', 'Clothing storage: wardrobe', 'TV', 'Ceiling fan', 'Hot water', 'Hair dryer', 'Kitchen', 'Bed linens', 'Iron', 'Gas stove', 'Shared beach access', 'Elevator', 'Refrigerator', 'Air conditioning', 'Wifi']"
        ],
        [
         "9",
         "64795",
         "Ipanema amazing 3 bedrooms apartment",
         "93005",
         "True",
         "Ipanema",
         "Entire rental unit",
         "[\"Coffee maker: drip coffee maker\", \"Pack \\u2019n play/Travel crib\", \"Dedicated workspace\", \"Ethernet connection\", \"Bed linens\", \"Clothing storage\", \"Dining table\", \"Bathtub\", \"Electrolux  stove\", \"Washer\", \"Heating\", \"Laundromat nearby\", \"Hot water\", \"Hair dryer\", \"Brastemp  refrigerator\", \"Dryer\", \"Hangers\", \"First aid kit\", \"Wine glasses\", \"Room-darkening shades\", \"Blender\", \"Dishwasher\", \"Freezer\", \"Essentials\", \"Babysitter recommendations\", \"Ceiling fan\", \"Kitchen\", \"Long term stays allowed\", \"Iron\", \"Private hot tub\", \"Drying rack for clothing\", \"Pocket wifi\", \"Free parking garage on premises\", \"Books and reading material\", \"HDTV with standard cable\", \"Wifi\", \"Dishes and silverware\", \"Cooking basics\", \"Microwave\", \"Private entrance\", \"Stainless steel oven\", \"Lake access\", \"Crib\", \"Hammock\", \"Extra pillows and blankets\", \"Elevator\", \"Beach access \\u2013 Beachfront\", \"Air conditioning\"]",
         "676.0",
         "4.75",
         "4.75",
         "4.62",
         "4.86",
         "4.85",
         "4.94",
         "4.64",
         "['Coffee maker: drip coffee maker', 'Pack ’n play/Travel crib', 'Dedicated workspace', 'Ethernet connection', 'Bed linens', 'Clothing storage', 'Dining table', 'Bathtub', 'Electrolux  stove', 'Washer', 'Heating', 'Laundromat nearby', 'Hot water', 'Hair dryer', 'Brastemp  refrigerator', 'Dryer', 'Hangers', 'First aid kit', 'Wine glasses', 'Room-darkening shades', 'Blender', 'Dishwasher', 'Freezer', 'Essentials', 'Babysitter recommendations', 'Ceiling fan', 'Kitchen', 'Long term stays allowed', 'Iron', 'Private hot tub', 'Drying rack for clothing', 'Pocket wifi', 'Free parking garage on premises', 'Books and reading material', 'HDTV with standard cable', 'Wifi', 'Dishes and silverware', 'Cooking basics', 'Microwave', 'Private entrance', 'Stainless steel oven', 'Lake access', 'Crib', 'Hammock', 'Extra pillows and blankets', 'Elevator', 'Beach access – Beachfront', 'Air conditioning']"
        ],
        [
         "10",
         "66797",
         "Studio Apart  for rent in ipanema.",
         "328096",
         "True",
         "Copacabana",
         "Entire rental unit",
         "[\"TV with standard cable\", \"Bed linens\", \"Laundromat nearby\", \"Hot water\", \"Hair dryer\", \"Hangers\", \"First aid kit\", \"Coffee maker\", \"Wine glasses\", \"Room-darkening shades\", \"Refrigerator\", \"Protex body soap\", \"Essentials\", \"Ceiling fan\", \"Fire extinguisher\", \"Kitchen\", \"Iron\", \"Stove\", \"Wifi\", \"Dishes and silverware\", \"Cooking basics\", \"Toaster\", \"Clothing storage: walk-in closet\", \"Microwave\", \"Cleaning products\", \"Elevator\", \"Air conditioning\"]",
         "217.0",
         "4.88",
         "4.92",
         "4.87",
         "4.95",
         "4.94",
         "4.84",
         "4.82",
         "['TV with standard cable', 'Bed linens', 'Laundromat nearby', 'Hot water', 'Hair dryer', 'Hangers', 'First aid kit', 'Coffee maker', 'Wine glasses', 'Room-darkening shades', 'Refrigerator', 'Protex body soap', 'Essentials', 'Ceiling fan', 'Fire extinguisher', 'Kitchen', 'Iron', 'Stove', 'Wifi', 'Dishes and silverware', 'Cooking basics', 'Toaster', 'Clothing storage: walk-in closet', 'Microwave', 'Cleaning products', 'Elevator', 'Air conditioning']"
        ],
        [
         "11",
         "70080",
         "Apart-hotel em Ipanema com garagem e  camareira",
         "319672",
         "True",
         "Ipanema",
         "Entire rental unit",
         "[\"Fast wifi \\u2013 301 Mbps\", \"Private patio or balcony\", \"Oven\", \"Electrolux stainless steel gas stove\", \"Building staff\", \"Bed linens\", \"Clothing storage\", \"Dining table\", \"Free washer \\u2013 In building\", \"Paid parking off premises\", \"Laundromat nearby\", \"Hot water\", \"Hair dryer\", \"Hangers\", \"Coffee maker\", \"Wine glasses\", \"Cleaning available during stay\", \"Room-darkening shades\", \"Baking sheet\", \"Blender\", \"42 inch HDTV\", \"Refrigerator\", \"Shared sauna\", \"Children\\u2019s dinnerware\", \"Essentials\", \"Babysitter recommendations\", \"Ceiling fan\", \"Fire extinguisher\", \"Kitchen\", \"Hot water kettle\", \"Long term stays allowed\", \"Iron\", \"Carbon monoxide alarm\", \"Smoke alarm\", \"Shared outdoor pool - available all year, open specific hours\", \"Drying rack for clothing\", \"Central air conditioning\", \"Conditioner\", \"Free dryer \\u2013 In building\", \"Cooking basics\", \"Dishes and silverware\", \"Toaster\", \"Free street parking\", \"Microwave\", \"Safe\", \"Crib\", \"Extra pillows and blankets\", \"Free parking on premises\", \"Elevator\", \"Luggage dropoff allowed\", \"Self check-in\"]",
         "425.0",
         "4.82",
         "4.88",
         "4.83",
         "4.91",
         "4.94",
         "4.89",
         "4.71",
         "['Fast wifi – 301 Mbps', 'Private patio or balcony', 'Oven', 'Electrolux stainless steel gas stove', 'Building staff', 'Bed linens', 'Clothing storage', 'Dining table', 'Free washer – In building', 'Paid parking off premises', 'Laundromat nearby', 'Hot water', 'Hair dryer', 'Hangers', 'Coffee maker', 'Wine glasses', 'Cleaning available during stay', 'Room-darkening shades', 'Baking sheet', 'Blender', '42 inch HDTV', 'Refrigerator', 'Shared sauna', 'Children’s dinnerware', 'Essentials', 'Babysitter recommendations', 'Ceiling fan', 'Fire extinguisher', 'Kitchen', 'Hot water kettle', 'Long term stays allowed', 'Iron', 'Carbon monoxide alarm', 'Smoke alarm', 'Shared outdoor pool - available all year, open specific hours', 'Drying rack for clothing', 'Central air conditioning', 'Conditioner', 'Free dryer – In building', 'Cooking basics', 'Dishes and silverware', 'Toaster', 'Free street parking', 'Microwave', 'Safe', 'Crib', 'Extra pillows and blankets', 'Free parking on premises', 'Elevator', 'Luggage dropoff allowed', 'Self check-in']"
        ],
        [
         "12",
         "75148",
         "Modern Copacabana near Ipanema",
         "241334",
         "True",
         "Copacabana",
         "Entire rental unit",
         "[\"Dedicated workspace\", \"Building staff\", \"TV with standard cable\", \"Bed linens\", \"High chair\", \"Clothing storage\", \"Trash compactor\", \"Hot water\", \"Hair dryer\", \"Hangers\", \"Coffee maker\", \"Wine glasses\", \"Blender\", \"Refrigerator\", \"Freezer\", \"Essentials\", \"Ceiling fan\", \"Kitchen\", \"Hot water kettle\", \"Long term stays allowed\", \"Stove\", \"Wifi\", \"Dishes and silverware\", \"Cooking basics\", \"Microwave\", \"Cleaning products\", \"Elevator\", \"Beach access \\u2013 Beachfront\", \"Self check-in\", \"Air conditioning\"]",
         "262.0",
         "4.71",
         "4.84",
         "4.82",
         "4.91",
         "4.83",
         "4.63",
         "4.67",
         "['Dedicated workspace', 'Building staff', 'TV with standard cable', 'Bed linens', 'High chair', 'Clothing storage', 'Trash compactor', 'Hot water', 'Hair dryer', 'Hangers', 'Coffee maker', 'Wine glasses', 'Blender', 'Refrigerator', 'Freezer', 'Essentials', 'Ceiling fan', 'Kitchen', 'Hot water kettle', 'Long term stays allowed', 'Stove', 'Wifi', 'Dishes and silverware', 'Cooking basics', 'Microwave', 'Cleaning products', 'Elevator', 'Beach access – Beachfront', 'Self check-in', 'Air conditioning']"
        ],
        [
         "13",
         "75504",
         "Cozy place near Copacabana beach RJ",
         "391712",
         "False",
         "Copacabana",
         "Entire rental unit",
         "[\"Coffee maker: drip coffee maker\", \"Smoking allowed\", \"Bed linens\", \"Dining table\", \"Bathtub\", \"TV with Amazon Prime Video, Netflix\", \"Host greets you\", \"Washer\", \"Laundromat nearby\", \"Hot water\", \"Hangers\", \"Blender\", \"AC - split type ductless system\", \"Refrigerator\", \"Essentials\", \"Heating - split type ductless system\", \"Ceiling fan\", \"Pets allowed\", \"Kitchen\", \"Long term stays allowed\", \"Iron\", \"Wifi\", \"Dishes and silverware\", \"Life size games\", \"Clothing storage: wardrobe\", \"Microwave\", \"Portable fans\", \"Extra pillows and blankets\", \"Elevator\", \"Beach access \\u2013 Beachfront\"]",
         "492.0",
         "4.79",
         "4.67",
         "4.83",
         "4.93",
         "4.81",
         "4.81",
         "4.5",
         "['Coffee maker: drip coffee maker', 'Smoking allowed', 'Bed linens', 'Dining table', 'Bathtub', 'TV with Amazon Prime Video, Netflix', 'Host greets you', 'Washer', 'Laundromat nearby', 'Hot water', 'Hangers', 'Blender', 'AC - split type ductless system', 'Refrigerator', 'Essentials', 'Heating - split type ductless system', 'Ceiling fan', 'Pets allowed', 'Kitchen', 'Long term stays allowed', 'Iron', 'Wifi', 'Dishes and silverware', 'Life size games', 'Clothing storage: wardrobe', 'Microwave', 'Portable fans', 'Extra pillows and blankets', 'Elevator', 'Beach access – Beachfront']"
        ],
        [
         "14",
         "76245",
         "Espaçosa Casa  no Coração do Rio 290m4QT.8camas",
         "406651",
         "False",
         "Copacabana",
         "Entire rental unit",
         "[\"Dishes and silverware\", \"Oven\", \"Essentials\", \"Microwave\", \"Hot water\", \"TV with standard cable\", \"Kitchen\", \"Bed linens\", \"Hangers\", \"Stove\", \"Iron\", \"Coffee maker\", \"Refrigerator\", \"Free parking on premises\", \"Elevator\", \"Washer\", \"Air conditioning\", \"Wifi\"]",
         "1111.0",
         "4.4",
         "4.59",
         "4.33",
         "4.88",
         "4.77",
         "4.45",
         "4.28",
         "['Dishes and silverware', 'Oven', 'Essentials', 'Microwave', 'Hot water', 'TV with standard cable', 'Kitchen', 'Bed linens', 'Hangers', 'Stove', 'Iron', 'Coffee maker', 'Refrigerator', 'Free parking on premises', 'Elevator', 'Washer', 'Air conditioning', 'Wifi']"
        ],
        [
         "15",
         "86670",
         "Leblon/Recém reformado-Vista fantástica!",
         "474221",
         "True",
         "Leblon",
         "Entire rental unit",
         "[\"Dedicated workspace\", \"Oven\", \"Ethernet connection\", \"Canal view\", \"TV with standard cable\", \"Body soap\", \"Bed linens\", \"Shower gel\", \"Ocean view\", \"Dining table\", \"Sea view\", \"Washer\", \"Paid parking off premises\", \"Lockbox\", \"Coffee\", \"Hot water\", \"Hair dryer\", \"Hangers\", \"Coffee maker\", \"Wine glasses\", \"Room-darkening shades\", \"Blender\", \"Refrigerator\", \"Freezer\", \"Essentials\", \"Ceiling fan\", \"Kitchen\", \"Iron\", \"Window AC unit\", \"Park view\", \"Drying rack for clothing\", \"Stove\", \"Wifi\", \"Dishes and silverware\", \"Cooking basics\", \"Clothing storage: wardrobe\", \"Microwave\", \"Beach view\", \"Cleaning products\", \"Elevator\", \"Beach access \\u2013 Beachfront\", \"Self check-in\"]",
         null,
         "4.7",
         "4.67",
         "4.71",
         "4.77",
         "4.66",
         "4.92",
         "4.45",
         "['Dedicated workspace', 'Oven', 'Ethernet connection', 'Canal view', 'TV with standard cable', 'Body soap', 'Bed linens', 'Shower gel', 'Ocean view', 'Dining table', 'Sea view', 'Washer', 'Paid parking off premises', 'Lockbox', 'Coffee', 'Hot water', 'Hair dryer', 'Hangers', 'Coffee maker', 'Wine glasses', 'Room-darkening shades', 'Blender', 'Refrigerator', 'Freezer', 'Essentials', 'Ceiling fan', 'Kitchen', 'Iron', 'Window AC unit', 'Park view', 'Drying rack for clothing', 'Stove', 'Wifi', 'Dishes and silverware', 'Cooking basics', 'Clothing storage: wardrobe', 'Microwave', 'Beach view', 'Cleaning products', 'Elevator', 'Beach access – Beachfront', 'Self check-in']"
        ],
        [
         "16",
         "298395",
         "Copacabana Beach",
         "1393858",
         "True",
         "Copacabana",
         "Entire condo",
         "[\"TV\", \"Bed linens\", \"Dining table\", \"Host greets you\", \"Coffee\", \"Hot water\", \"Hair dryer\", \"Coffee maker: drip coffee maker, Nespresso\", \"Wine glasses\", \"Blender\", \"Refrigerator\", \"AC - split type ductless system\", \"Essentials\", \"Ceiling fan\", \"Kitchen\", \"Long term stays allowed\", \"Iron\", \"Stove\", \"Free washer \\u2013 In unit\", \"Wifi\", \"Dishes and silverware\", \"Cooking basics\", \"Toaster\", \"Microwave\", \"Elevator\", \"Beach access \\u2013 Beachfront\"]",
         "602.0",
         "4.93",
         "4.97",
         "4.84",
         "5.0",
         "4.98",
         "5.0",
         "4.95",
         "['TV', 'Bed linens', 'Dining table', 'Host greets you', 'Coffee', 'Hot water', 'Hair dryer', 'Coffee maker: drip coffee maker, Nespresso', 'Wine glasses', 'Blender', 'Refrigerator', 'AC - split type ductless system', 'Essentials', 'Ceiling fan', 'Kitchen', 'Long term stays allowed', 'Iron', 'Stove', 'Free washer – In unit', 'Wifi', 'Dishes and silverware', 'Cooking basics', 'Toaster', 'Microwave', 'Elevator', 'Beach access – Beachfront']"
        ],
        [
         "17",
         "306113",
         "Copacabana Beach side view 9th floor natural light",
         "1574255",
         "False",
         "Copacabana",
         "Entire rental unit",
         "[\"Dedicated workspace\", \"Ethernet connection\", \"Smoking allowed\", \"Body soap\", \"Bed linens\", \"32 inch HDTV\", \"Shampoo\", \"Host greets you\", \"Waterfront\", \"Paid parking lot off premises\", \"Lockbox\", \"Laundromat nearby\", \"Coffee\", \"Hot water\", \"Hair dryer\", \"Hangers\", \"Wine glasses\", \"Room-darkening shades\", \"Baking sheet\", \"Blender\", \"Consul refrigerator\", \"Essentials\", \"Ceiling fan\", \"Fire extinguisher\", \"Kitchen\", \"Long term stays allowed\", \"Shared beach access \\u2013 Beachfront\", \"Drying rack for clothing\", \"Mountain view\", \"Wifi\", \"Dishes and silverware\", \"Cooking basics\", \"Clothing storage: wardrobe\", \"Microwave\", \"Beach view\", \"Coffee maker: pour-over coffee\", \"Venax forno/fog\\u00e3o.   gas stove\", \"Safe\", \"Portable fans\", \"Venax - 2 bocas + forno  single oven\", \"Extra pillows and blankets\", \"Elevator\", \"Self check-in\"]",
         "220.0",
         "4.56",
         "4.63",
         "4.56",
         "4.86",
         "4.78",
         "4.82",
         "4.56",
         "['Dedicated workspace', 'Ethernet connection', 'Smoking allowed', 'Body soap', 'Bed linens', '32 inch HDTV', 'Shampoo', 'Host greets you', 'Waterfront', 'Paid parking lot off premises', 'Lockbox', 'Laundromat nearby', 'Coffee', 'Hot water', 'Hair dryer', 'Hangers', 'Wine glasses', 'Room-darkening shades', 'Baking sheet', 'Blender', 'Consul refrigerator', 'Essentials', 'Ceiling fan', 'Fire extinguisher', 'Kitchen', 'Long term stays allowed', 'Shared beach access – Beachfront', 'Drying rack for clothing', 'Mountain view', 'Wifi', 'Dishes and silverware', 'Cooking basics', 'Clothing storage: wardrobe', 'Microwave', 'Beach view', 'Coffee maker: pour-over coffee', 'Venax forno/fogão.   gas stove', 'Safe', 'Portable fans', 'Venax - 2 bocas + forno  single oven', 'Extra pillows and blankets', 'Elevator', 'Self check-in']"
        ],
        [
         "18",
         "310233",
         "Sleek, luxurious, in Copacabana",
         "1595467",
         "False",
         "Copacabana",
         "Entire rental unit",
         "[\"Clothing storage: closet\", \"Oven\", \"Smoking allowed\", \"Body soap\", \"Bed linens\", \"Laundromat nearby\", \"Coffee\", \"Hot water\", \"Hangers\", \"Coffee maker\", \"Cleaning available during stay\", \"Room-darkening shades\", \"Refrigerator\", \"Essentials\", \"Ceiling fan\", \"Kitchen\", \"Long term stays allowed\", \"Iron\", \"Window AC unit\", \"Drying rack for clothing\", \"Stove\", \"Wifi\", \"Dishes and silverware\", \"Cooking basics\", \"Cleaning products\", \"Extra pillows and blankets\", \"Elevator\"]",
         "330.0",
         "4.9",
         "4.73",
         "4.53",
         "4.97",
         "5.0",
         "4.83",
         "4.73",
         "['Clothing storage: closet', 'Oven', 'Smoking allowed', 'Body soap', 'Bed linens', 'Laundromat nearby', 'Coffee', 'Hot water', 'Hangers', 'Coffee maker', 'Cleaning available during stay', 'Room-darkening shades', 'Refrigerator', 'Essentials', 'Ceiling fan', 'Kitchen', 'Long term stays allowed', 'Iron', 'Window AC unit', 'Drying rack for clothing', 'Stove', 'Wifi', 'Dishes and silverware', 'Cooking basics', 'Cleaning products', 'Extra pillows and blankets', 'Elevator']"
        ],
        [
         "19",
         "313223",
         "Bedroom & living room  in the best part of Ipanema",
         "792218",
         "False",
         "Ipanema",
         "Entire rental unit",
         "[\"Paid parking on premises\", \"Window AC unit\", \"Room-darkening shades\", \"Ethernet connection\", \"High chair\", \"Essentials\", \"Host greets you\", \"Clothing storage: wardrobe\", \"Free street parking\", \"Fire extinguisher\", \"32 inch HDTV with standard cable\", \"Paid parking off premises\", \"Iron\", \"Luggage dropoff allowed\", \"Wifi\", \"Hot water kettle\", \"Crib\", \"Blender\", \"Bed linens\", \"Cooking basics\", \"Hot water\", \"Stainless steel gas stove\", \"Kitchen\", \"Coffee maker\", \"Long term stays allowed\", \"Extra pillows and blankets\", \"Microwave\", \"Dining table\", \"Hair dryer\", \"Drying rack for clothing\", \"Consul  2 portas refrigerator\", \"Hangers\", \"Elevator\", \"Free washer \\u2013 In unit\", \"Courtyard view\", \"Shared beach access\", \"Dishes and silverware\", \"Ceiling fan\"]",
         "276.0",
         "4.75",
         "4.79",
         "4.68",
         "4.93",
         "4.95",
         "4.82",
         "4.62",
         "['Paid parking on premises', 'Window AC unit', 'Room-darkening shades', 'Ethernet connection', 'High chair', 'Essentials', 'Host greets you', 'Clothing storage: wardrobe', 'Free street parking', 'Fire extinguisher', '32 inch HDTV with standard cable', 'Paid parking off premises', 'Iron', 'Luggage dropoff allowed', 'Wifi', 'Hot water kettle', 'Crib', 'Blender', 'Bed linens', 'Cooking basics', 'Hot water', 'Stainless steel gas stove', 'Kitchen', 'Coffee maker', 'Long term stays allowed', 'Extra pillows and blankets', 'Microwave', 'Dining table', 'Hair dryer', 'Drying rack for clothing', 'Consul  2 portas refrigerator', 'Hangers', 'Elevator', 'Free washer – In unit', 'Courtyard view', 'Shared beach access', 'Dishes and silverware', 'Ceiling fan']"
        ],
        [
         "20",
         "87762",
         "Apartamento Blue a 1 quadra da praia de Ipanema",
         "480527",
         "True",
         "Ipanema",
         "Entire rental unit",
         "[\"Mini fridge\", \"Dedicated workspace\", \"Oven\", \"Ethernet connection\", \"Bed linens\", \"Clothing storage\", \"TV with Netflix\", \"Laundromat nearby\", \"Hot water\", \"Coffee maker\", \"Refrigerator\", \"AC - split type ductless system\", \"Freezer\", \"Essentials\", \"Ceiling fan\", \"Pets allowed\", \"Kitchen\", \"Long term stays allowed\", \"Stove\", \"Wifi\", \"Dishes and silverware\", \"Cooking basics\", \"Private entrance\", \"Cleaning products\", \"Elevator\", \"Beach access \\u2013 Beachfront\"]",
         "216.0",
         "4.7",
         "4.7",
         "4.68",
         "4.9",
         "4.86",
         "4.97",
         "4.7",
         "['Mini fridge', 'Dedicated workspace', 'Oven', 'Ethernet connection', 'Bed linens', 'Clothing storage', 'TV with Netflix', 'Laundromat nearby', 'Hot water', 'Coffee maker', 'Refrigerator', 'AC - split type ductless system', 'Freezer', 'Essentials', 'Ceiling fan', 'Pets allowed', 'Kitchen', 'Long term stays allowed', 'Stove', 'Wifi', 'Dishes and silverware', 'Cooking basics', 'Private entrance', 'Cleaning products', 'Elevator', 'Beach access – Beachfront']"
        ],
        [
         "21",
         "88528",
         "COPACABANA - Lindo apartamento na quadra da praia",
         "474221",
         "True",
         "Copacabana",
         "Entire rental unit",
         "[\"Pack \\u2019n play/Travel crib\", \"Room-darkening shades\", \"Dedicated workspace\", \"Air conditioning\", \"Stove\", \"Self check-in\", \"Shampoo\", \"Paid parking off premises\", \"Iron\", \"Body soap\", \"Wifi\", \"Refrigerator\", \"TV with standard cable\", \"Bed linens\", \"Cooking basics\", \"Hot water\", \"Kitchen\", \"Coffee maker\", \"Long term stays allowed\", \"Microwave\", \"Hair dryer\", \"Clothing storage\", \"Cleaning products\", \"Hangers\", \"Elevator\", \"Lockbox\", \"Dishes and silverware\"]",
         "260.0",
         "4.7",
         "4.8",
         "4.82",
         "4.8",
         "4.74",
         "4.92",
         "4.64",
         "['Pack ’n play/Travel crib', 'Room-darkening shades', 'Dedicated workspace', 'Air conditioning', 'Stove', 'Self check-in', 'Shampoo', 'Paid parking off premises', 'Iron', 'Body soap', 'Wifi', 'Refrigerator', 'TV with standard cable', 'Bed linens', 'Cooking basics', 'Hot water', 'Kitchen', 'Coffee maker', 'Long term stays allowed', 'Microwave', 'Hair dryer', 'Clothing storage', 'Cleaning products', 'Hangers', 'Elevator', 'Lockbox', 'Dishes and silverware']"
        ],
        [
         "22",
         "88781",
         "COPACABANA - ÓTIMA LOCALIZAÇÃO",
         "474221",
         "True",
         "Copacabana",
         "Entire rental unit",
         "[\"Pack \\u2019n play/Travel crib\", \"Oven\", \"TV with standard cable\", \"Bed linens\", \"Clothing storage\", \"Paid parking off premises\", \"Lockbox\", \"Hot water\", \"Hair dryer\", \"Hangers\", \"Coffee maker\", \"Room-darkening shades\", \"Refrigerator\", \"Essentials\", \"Kitchen\", \"Iron\", \"Drying rack for clothing\", \"Stove\", \"Wifi\", \"Dishes and silverware\", \"Cooking basics\", \"Microwave\", \"Cleaning products\", \"Elevator\", \"Self check-in\", \"Air conditioning\"]",
         "239.0",
         "4.78",
         "4.74",
         "4.93",
         "4.93",
         "4.77",
         "4.95",
         "4.67",
         "['Pack ’n play/Travel crib', 'Oven', 'TV with standard cable', 'Bed linens', 'Clothing storage', 'Paid parking off premises', 'Lockbox', 'Hot water', 'Hair dryer', 'Hangers', 'Coffee maker', 'Room-darkening shades', 'Refrigerator', 'Essentials', 'Kitchen', 'Iron', 'Drying rack for clothing', 'Stove', 'Wifi', 'Dishes and silverware', 'Cooking basics', 'Microwave', 'Cleaning products', 'Elevator', 'Self check-in', 'Air conditioning']"
        ],
        [
         "23",
         "315102",
         "Nice appartement   in Ipanema Beach in RIO",
         "1618278",
         "True",
         "Ipanema",
         "Entire rental unit",
         "[\"Dedicated workspace\", \"Eletrolux  refrigerator\", \"TV\", \"Bed linens\", \"Clothing storage\", \"Dining table\", \"Paid parking off premises\", \"Coffee maker: espresso machine\", \"Hot water\", \"Hair dryer\", \"Hangers\", \"Wine glasses\", \"AC - split type ductless system\", \"Essentials\", \"Iron\", \"Smoke alarm\", \"Pocket wifi\", \"Books and reading material\", \"Wifi\", \"Dishes and silverware\", \"Microwave\", \"Extra pillows and blankets\", \"Elevator\", \"Beach access \\u2013 Beachfront\"]",
         "383.0",
         "4.64",
         "4.64",
         "4.54",
         "4.84",
         "4.89",
         "4.92",
         "4.54",
         "['Dedicated workspace', 'Eletrolux  refrigerator', 'TV', 'Bed linens', 'Clothing storage', 'Dining table', 'Paid parking off premises', 'Coffee maker: espresso machine', 'Hot water', 'Hair dryer', 'Hangers', 'Wine glasses', 'AC - split type ductless system', 'Essentials', 'Iron', 'Smoke alarm', 'Pocket wifi', 'Books and reading material', 'Wifi', 'Dishes and silverware', 'Microwave', 'Extra pillows and blankets', 'Elevator', 'Beach access – Beachfront']"
        ],
        [
         "24",
         "322004",
         "THE BEST OF IPANEMA I - ONE BEDROOM",
         "1648634",
         "True",
         "Ipanema",
         "Entire rental unit",
         "[\"Washer\", \"Air conditioning\", \"Stove\", \"Oven\", \"Essentials\", \"Host greets you\", \"Paid parking off premises\", \"Iron\", \"Wifi\", \"Refrigerator\", \"TV with standard cable\", \"Crib\", \"Cooking basics\", \"Hot water\", \"Kitchen\", \"Coffee maker\", \"Microwave\", \"Hair dryer\", \"Hangers\", \"Dishes and silverware\"]",
         "332.0",
         "4.95",
         "4.93",
         "4.87",
         "4.99",
         "4.96",
         "4.98",
         "4.87",
         "['Washer', 'Air conditioning', 'Stove', 'Oven', 'Essentials', 'Host greets you', 'Paid parking off premises', 'Iron', 'Wifi', 'Refrigerator', 'TV with standard cable', 'Crib', 'Cooking basics', 'Hot water', 'Kitchen', 'Coffee maker', 'Microwave', 'Hair dryer', 'Hangers', 'Dishes and silverware']"
        ],
        [
         "25",
         "324324",
         "Wonderful location in Copacabana!",
         "1659441",
         "False",
         "Copacabana",
         "Entire rental unit",
         "[\"Smart lock\", \"Paid parking lot off premises\", \"Window AC unit\", \"Room-darkening shades\", \"Dedicated workspace\", \"Outdoor dining area\", \"Oven\", \"Essentials\", \"Resort access\", \"Smoke alarm\", \"Self check-in\", \"Coffee\", \"Iron\", \"Body soap\", \"Luggage dropoff allowed\", \"Wifi\", \"Refrigerator\", \"Freezer\", \"Blender\", \"Bed linens\", \"Cooking basics\", \"Baking sheet\", \"Hot water\", \"HDTV with Netflix\", \"Brastemp stainless steel gas stove\", \"Kitchen\", \"AC - split type ductless system\", \"Outdoor furniture\", \"Coffee maker\", \"Beach access \\u2013 Beachfront\", \"Long term stays allowed\", \"Extra pillows and blankets\", \"Microwave\", \"Dining table\", \"Hair dryer\", \"Drying rack for clothing\", \"Laundromat nearby\", \"Hangers\", \"Clothing storage: wardrobe and dresser\", \"Toaster\", \"Private patio or balcony\", \"Elevator\", \"Dishes and silverware\", \"Ceiling fan\"]",
         "333.0",
         "4.92",
         "4.95",
         "4.96",
         "4.96",
         "4.99",
         "4.95",
         "4.85",
         "['Smart lock', 'Paid parking lot off premises', 'Window AC unit', 'Room-darkening shades', 'Dedicated workspace', 'Outdoor dining area', 'Oven', 'Essentials', 'Resort access', 'Smoke alarm', 'Self check-in', 'Coffee', 'Iron', 'Body soap', 'Luggage dropoff allowed', 'Wifi', 'Refrigerator', 'Freezer', 'Blender', 'Bed linens', 'Cooking basics', 'Baking sheet', 'Hot water', 'HDTV with Netflix', 'Brastemp stainless steel gas stove', 'Kitchen', 'AC - split type ductless system', 'Outdoor furniture', 'Coffee maker', 'Beach access – Beachfront', 'Long term stays allowed', 'Extra pillows and blankets', 'Microwave', 'Dining table', 'Hair dryer', 'Drying rack for clothing', 'Laundromat nearby', 'Hangers', 'Clothing storage: wardrobe and dresser', 'Toaster', 'Private patio or balcony', 'Elevator', 'Dishes and silverware', 'Ceiling fan']"
        ],
        [
         "26",
         "326205",
         "Copa Penthouse Red & White Suite",
         "1603206",
         "False",
         "Copacabana",
         "Entire condo",
         "[\"Coffee maker: drip coffee maker\", \"Bed linens\", \"Free washer \\u2013 In building\", \"Host greets you\", \"Paid street parking off premises\", \"BBQ grill: charcoal\", \"Outdoor dining area\", \"Laundromat nearby\", \"Hot water\", \"Outdoor shower\", \"Hangers\", \"Room-darkening shades\", \"Shared outdoor kitchen\", \"Fast wifi \\u2013 136 Mbps\", \"Exterior security cameras on property\", \"Consul refrigerator\", \"Essentials\", \"Ceiling fan\", \"Fire extinguisher\", \"Kitchen\", \"Long term stays allowed\", \"TV with standard cable, Fire TV, Netflix\", \"Window AC unit\", \"Smoke alarm\", \"Shared outdoor pool - available all year, open 24 hours, rooftop\", \"Drying rack for clothing\", \"Shared beach access\", \"Pool table\", \"Dishes and silverware\", \"Cooking basics\", \"Clothing storage: wardrobe\", \"Microwave\", \"Shared patio or balcony\", \"Outdoor furniture\", \"Elevator\", \"Luggage dropoff allowed\"]",
         "121.0",
         "4.63",
         "4.72",
         "4.49",
         "4.86",
         "4.79",
         "4.87",
         "4.63",
         "['Coffee maker: drip coffee maker', 'Bed linens', 'Free washer – In building', 'Host greets you', 'Paid street parking off premises', 'BBQ grill: charcoal', 'Outdoor dining area', 'Laundromat nearby', 'Hot water', 'Outdoor shower', 'Hangers', 'Room-darkening shades', 'Shared outdoor kitchen', 'Fast wifi – 136 Mbps', 'Exterior security cameras on property', 'Consul refrigerator', 'Essentials', 'Ceiling fan', 'Fire extinguisher', 'Kitchen', 'Long term stays allowed', 'TV with standard cable, Fire TV, Netflix', 'Window AC unit', 'Smoke alarm', 'Shared outdoor pool - available all year, open 24 hours, rooftop', 'Drying rack for clothing', 'Shared beach access', 'Pool table', 'Dishes and silverware', 'Cooking basics', 'Clothing storage: wardrobe', 'Microwave', 'Shared patio or balcony', 'Outdoor furniture', 'Elevator', 'Luggage dropoff allowed']"
        ],
        [
         "27",
         "99971",
         "Right in front of the beach in Rio!",
         "525976",
         "True",
         "Leblon",
         "Entire loft",
         "[\"Dedicated workspace\", \"Oven\", \"Building staff\", \"TV with standard cable\", \"Body soap\", \"Bed linens\", \"Clothing storage\", \"Dining table\", \"Ocean view\", \"Induction stove\", \"Sea view\", \"Waterfront\", \"Hot water\", \"Hair dryer\", \"Hangers\", \"Coffee maker\", \"Wine glasses\", \"Room-darkening shades\", \"AC - split type ductless system\", \"Refrigerator\", \"Essentials\", \"Pets allowed\", \"Kitchen\", \"City skyline view\", \"Long term stays allowed\", \"Iron\", \"Drying rack for clothing\", \"Books and reading material\", \"Dishes and silverware\", \"Cooking basics\", \"Toaster\", \"Private entrance\", \"Fast wifi \\u2013 101 Mbps\", \"Beach view\", \"Cleaning products\", \"Extra pillows and blankets\", \"Free parking on premises\", \"Elevator\", \"Beach access \\u2013 Beachfront\", \"Self check-in\"]",
         "336.0",
         "4.79",
         "4.75",
         "4.68",
         "4.88",
         "4.89",
         "4.57",
         "4.69",
         "['Dedicated workspace', 'Oven', 'Building staff', 'TV with standard cable', 'Body soap', 'Bed linens', 'Clothing storage', 'Dining table', 'Ocean view', 'Induction stove', 'Sea view', 'Waterfront', 'Hot water', 'Hair dryer', 'Hangers', 'Coffee maker', 'Wine glasses', 'Room-darkening shades', 'AC - split type ductless system', 'Refrigerator', 'Essentials', 'Pets allowed', 'Kitchen', 'City skyline view', 'Long term stays allowed', 'Iron', 'Drying rack for clothing', 'Books and reading material', 'Dishes and silverware', 'Cooking basics', 'Toaster', 'Private entrance', 'Fast wifi – 101 Mbps', 'Beach view', 'Cleaning products', 'Extra pillows and blankets', 'Free parking on premises', 'Elevator', 'Beach access – Beachfront', 'Self check-in']"
        ],
        [
         "28",
         "330913",
         "Super Studio at Copacabana Beach",
         "500892",
         "False",
         "Copacabana",
         "Entire rental unit",
         "[\"Kitchen\", \"TV with standard cable\", \"Smoking allowed\", \"Elevator\", \"Air conditioning\", \"Wifi\"]",
         null,
         "4.83",
         "4.73",
         "4.53",
         "5.0",
         "4.93",
         "4.8",
         "4.8",
         "['Kitchen', 'TV with standard cable', 'Smoking allowed', 'Elevator', 'Air conditioning', 'Wifi']"
        ],
        [
         "29",
         "336502",
         "Copacabana, internet wifi, air",
         "241334",
         "True",
         "Copacabana",
         "Entire rental unit",
         "[\"Window AC unit\", \"Dedicated workspace\", \"Essentials\", \"HDTV with Fire TV\", \"Self check-in\", \"Clothing storage: wardrobe\", \"Coffee\", \"Building staff\", \"Body soap\", \"Wifi\", \"Refrigerator\", \"Bed linens\", \"Cooking basics\", \"Hot water\", \"Kitchen\", \"Coffee maker: drip coffee maker\", \"Books and reading material\", \"Microwave\", \"Extra pillows and blankets\", \"Hair dryer\", \"Cleaning products\", \"Hangers\", \"Elevator\", \"Courtyard view\", \"Free washer \\u2013 In unit\", \"Shared beach access\", \"Dishes and silverware\"]",
         "195.0",
         "4.82",
         "4.91",
         "4.88",
         "4.88",
         "4.78",
         "4.88",
         "4.79",
         "['Window AC unit', 'Dedicated workspace', 'Essentials', 'HDTV with Fire TV', 'Self check-in', 'Clothing storage: wardrobe', 'Coffee', 'Building staff', 'Body soap', 'Wifi', 'Refrigerator', 'Bed linens', 'Cooking basics', 'Hot water', 'Kitchen', 'Coffee maker: drip coffee maker', 'Books and reading material', 'Microwave', 'Extra pillows and blankets', 'Hair dryer', 'Cleaning products', 'Hangers', 'Elevator', 'Courtyard view', 'Free washer – In unit', 'Shared beach access', 'Dishes and silverware']"
        ],
        [
         "30",
         "108072",
         "Nice 1 BR Apartment in Copacabana",
         "521514",
         "False",
         "Copacabana",
         "Entire rental unit",
         "[\"Oven\", \"TV with standard cable\", \"Smoking allowed\", \"Host greets you\", \"Paid parking off premises\", \"Hot water\", \"Hair dryer\", \"Hangers\", \"Coffee maker\", \"Refrigerator\", \"Essentials\", \"Pets allowed\", \"Kitchen\", \"Long term stays allowed\", \"Iron\", \"Stove\", \"Wifi\", \"Dishes and silverware\", \"Cooking basics\", \"Microwave\", \"Elevator\", \"Air conditioning\"]",
         "209.0",
         "4.68",
         "4.78",
         "4.66",
         "4.81",
         "4.8",
         "4.84",
         "4.62",
         "['Oven', 'TV with standard cable', 'Smoking allowed', 'Host greets you', 'Paid parking off premises', 'Hot water', 'Hair dryer', 'Hangers', 'Coffee maker', 'Refrigerator', 'Essentials', 'Pets allowed', 'Kitchen', 'Long term stays allowed', 'Iron', 'Stove', 'Wifi', 'Dishes and silverware', 'Cooking basics', 'Microwave', 'Elevator', 'Air conditioning']"
        ],
        [
         "31",
         "109747",
         "Ipanema WOW!  for 6+2",
         "554897",
         "True",
         "Ipanema",
         "Entire rental unit",
         "[\"Dedicated workspace\", \"Private patio or balcony\", \"Panasonic refrigerator\", \"Body soap\", \"Bed linens\", \"Shampoo\", \"Ocean view\", \"Shower gel\", \"Bathtub\", \"Bluetooth sound system\", \"Garden view\", \"Dining table\", \"Bidet\", \"Sea view\", \"Free residential garage on premises \\u2013 1 space\", \"Mosquito net\", \"Waterfront\", \"Paid street parking off premises\", \"Shared gym in building\", \"Coffee maker: Nespresso\", \"Laundromat nearby\", \"Coffee\", \"Hot water\", \"Hair dryer\", \"Beach essentials\", \"Valley view\", \"Outdoor shower\", \"Hangers\", \"First aid kit\", \"Wine glasses\", \"Cleaning available during stay\", \"Room-darkening shades\", \"Baking sheet\", \"Blender\", \"Pack \\u2019n play/Travel crib - available upon request\", \"AC - split type ductless system\", \"Shared outdoor pool - available all year, open specific hours, rooftop\", \"Shared sauna\", \"Dishwasher\", \"Exterior security cameras on property\", \"Freezer\", \"Essentials\", \"Heating - split type ductless system\", \"Fire extinguisher\", \"Kitchen\", \"City skyline view\", \"Hot water kettle\", \"Iron\", \"Carbon monoxide alarm\", \"Long term stays allowed\", \"Park view\", \"Smoke alarm\", \"Drying rack for clothing\", \"Mountain view\", \"Shared beach access\", \"Free washer \\u2013 In unit\", \"Free dryer \\u2013 In unit\", \"40 inch HDTV with Fire TV, premium cable, standard cable, Amazon Prime Video, Netflix, DVD player, Apple TV\", \"Books and reading material\", \"Dishes and silverware\", \"Cooking basics\", \"Toaster\", \"Clothing storage: walk-in closet\", \"Microwave\", \"Beach view\", \"Brastemp stainless steel single oven\", \"Safe\", \"Portable fans\", \"Exercise equipment: free weights, stationary bike, treadmill, yoga mat, workout bench\", \"Cleaning products\", \"Extra pillows and blankets\", \"Fast wifi \\u2013 566 Mbps\", \"Brastemp stainless steel gas stove\", \"Outdoor furniture\", \"Elevator\", \"Pantene conditioner\"]",
         "1340.0",
         "4.92",
         "4.84",
         "4.91",
         "4.98",
         "4.98",
         "4.98",
         "4.78",
         "['Dedicated workspace', 'Private patio or balcony', 'Panasonic refrigerator', 'Body soap', 'Bed linens', 'Shampoo', 'Ocean view', 'Shower gel', 'Bathtub', 'Bluetooth sound system', 'Garden view', 'Dining table', 'Bidet', 'Sea view', 'Free residential garage on premises – 1 space', 'Mosquito net', 'Waterfront', 'Paid street parking off premises', 'Shared gym in building', 'Coffee maker: Nespresso', 'Laundromat nearby', 'Coffee', 'Hot water', 'Hair dryer', 'Beach essentials', 'Valley view', 'Outdoor shower', 'Hangers', 'First aid kit', 'Wine glasses', 'Cleaning available during stay', 'Room-darkening shades', 'Baking sheet', 'Blender', 'Pack ’n play/Travel crib - available upon request', 'AC - split type ductless system', 'Shared outdoor pool - available all year, open specific hours, rooftop', 'Shared sauna', 'Dishwasher', 'Exterior security cameras on property', 'Freezer', 'Essentials', 'Heating - split type ductless system', 'Fire extinguisher', 'Kitchen', 'City skyline view', 'Hot water kettle', 'Iron', 'Carbon monoxide alarm', 'Long term stays allowed', 'Park view', 'Smoke alarm', 'Drying rack for clothing', 'Mountain view', 'Shared beach access', 'Free washer – In unit', 'Free dryer – In unit', '40 inch HDTV with Fire TV, premium cable, standard cable, Amazon Prime Video, Netflix, DVD player, Apple TV', 'Books and reading material', 'Dishes and silverware', 'Cooking basics', 'Toaster', 'Clothing storage: walk-in closet', 'Microwave', 'Beach view', 'Brastemp stainless steel single oven', 'Safe', 'Portable fans', 'Exercise equipment: free weights, stationary bike, treadmill, yoga mat, workout bench', 'Cleaning products', 'Extra pillows and blankets', 'Fast wifi – 566 Mbps', 'Brastemp stainless steel gas stove', 'Outdoor furniture', 'Elevator', 'Pantene conditioner']"
        ],
        [
         "32",
         "125656",
         "Copacabana Studio -  5* Reviews, 5 mins to Beach",
         "624433",
         "False",
         "Copacabana",
         "Entire rental unit",
         "[\"Dedicated workspace\", \"TV with standard cable\", \"Bed linens\", \"Shampoo\", \"Host greets you\", \"Heating\", \"Hot water\", \"Hair dryer\", \"Hangers\", \"First aid kit\", \"Coffee maker\", \"Refrigerator\", \"Essentials\", \"Wifi\", \"Dishes and silverware\", \"Cooking basics\", \"Microwave\", \"Elevator\", \"Luggage dropoff allowed\", \"Air conditioning\"]",
         null,
         "4.98",
         "4.93",
         "4.98",
         "4.98",
         "4.99",
         "4.94",
         "4.8",
         "['Dedicated workspace', 'TV with standard cable', 'Bed linens', 'Shampoo', 'Host greets you', 'Heating', 'Hot water', 'Hair dryer', 'Hangers', 'First aid kit', 'Coffee maker', 'Refrigerator', 'Essentials', 'Wifi', 'Dishes and silverware', 'Cooking basics', 'Microwave', 'Elevator', 'Luggage dropoff allowed', 'Air conditioning']"
        ],
        [
         "33",
         "340432",
         "Beautiful Apartment in Leblon",
         "1450861",
         "True",
         "Leblon",
         "Entire rental unit",
         "[\"Washer\", \"Pack \\u2019n play/Travel crib\", \"Air conditioning\", \"Essentials\", \"Host greets you\", \"Free street parking\", \"Fire extinguisher\", \"Iron\", \"Luggage dropoff allowed\", \"Wifi\", \"Refrigerator\", \"TV with standard cable\", \"Crib\", \"Cooking basics\", \"Hot water\", \"Kitchen\", \"Coffee maker\", \"Long term stays allowed\", \"Microwave\", \"Extra pillows and blankets\", \"Hair dryer\", \"Free parking on premises\", \"Hangers\", \"Private patio or balcony\", \"Elevator\", \"Dishes and silverware\"]",
         "230.0",
         "4.85",
         "4.85",
         "4.93",
         "4.93",
         "4.89",
         "4.95",
         "4.72",
         "['Washer', 'Pack ’n play/Travel crib', 'Air conditioning', 'Essentials', 'Host greets you', 'Free street parking', 'Fire extinguisher', 'Iron', 'Luggage dropoff allowed', 'Wifi', 'Refrigerator', 'TV with standard cable', 'Crib', 'Cooking basics', 'Hot water', 'Kitchen', 'Coffee maker', 'Long term stays allowed', 'Microwave', 'Extra pillows and blankets', 'Hair dryer', 'Free parking on premises', 'Hangers', 'Private patio or balcony', 'Elevator', 'Dishes and silverware']"
        ],
        [
         "34",
         "347295",
         "Copa Penthouse Brown & White Suite",
         "1603206",
         "False",
         "Copacabana",
         "Entire condo",
         "[\"Exterior security cameras on property\", \"Fast wifi \\u2013 52 Mbps\", \"Paid street parking off premises\", \"36 inch TV with standard cable, Fire TV, Netflix\", \"Essentials\", \"Hot water\", \"Kitchen\", \"Hangers\", \"Free washer \\u2013 In building\", \"Long term stays allowed\", \"Elevator\", \"Smoke alarm\", \"Luggage dropoff allowed\", \"Host greets you\", \"Shared pool\", \"Air conditioning\"]",
         "184.0",
         "4.36",
         "4.51",
         "4.23",
         "4.78",
         "4.67",
         "4.73",
         "4.37",
         "['Exterior security cameras on property', 'Fast wifi – 52 Mbps', 'Paid street parking off premises', '36 inch TV with standard cable, Fire TV, Netflix', 'Essentials', 'Hot water', 'Kitchen', 'Hangers', 'Free washer – In building', 'Long term stays allowed', 'Elevator', 'Smoke alarm', 'Luggage dropoff allowed', 'Host greets you', 'Shared pool', 'Air conditioning']"
        ],
        [
         "35",
         "347820",
         "AMAZING BEACH FRONT IN COPACABANA",
         "235496",
         "True",
         "Copacabana",
         "Entire rental unit",
         "[\"Dedicated workspace\", \"Oven\", \"Ethernet connection\", \"Body soap\", \"Bed linens\", \"Shampoo\", \"Ocean view\", \"Shower gel\", \"Bathtub\", \"Gas stove\", \"Dining table\", \"Sea view\", \"Waterfront\", \"Window guards\", \"Lockbox\", \"HDTV with Chromecast, standard cable\", \"Laundromat nearby\", \"Hot water\", \"Hair dryer\", \"Hangers\", \"Coffee maker\", \"Wine glasses\", \"Room-darkening shades\", \"Baking sheet\", \"Blender\", \"AC - split type ductless system\", \"Refrigerator\", \"Freezer\", \"Essentials\", \"Ceiling fan\", \"Kitchen\", \"Single level home\", \"Hot water kettle\", \"Iron\", \"Smoke alarm\", \"Private hot tub\", \"Drying rack for clothing\", \"Conditioner\", \"Free washer \\u2013 In unit\", \"Books and reading material\", \"Wifi\", \"Pocket wifi\", \"Dishes and silverware\", \"Cooking basics\", \"Toaster\", \"Clothing storage: wardrobe\", \"Microwave\", \"Beach view\", \"Safe\", \"Portable fans\", \"Hammock\", \"Cleaning products\", \"Extra pillows and blankets\", \"Elevator\", \"Beach access \\u2013 Beachfront\", \"Self check-in\"]",
         "985.0",
         "4.86",
         "4.88",
         "4.78",
         "4.95",
         "4.96",
         "4.96",
         "4.77",
         "['Dedicated workspace', 'Oven', 'Ethernet connection', 'Body soap', 'Bed linens', 'Shampoo', 'Ocean view', 'Shower gel', 'Bathtub', 'Gas stove', 'Dining table', 'Sea view', 'Waterfront', 'Window guards', 'Lockbox', 'HDTV with Chromecast, standard cable', 'Laundromat nearby', 'Hot water', 'Hair dryer', 'Hangers', 'Coffee maker', 'Wine glasses', 'Room-darkening shades', 'Baking sheet', 'Blender', 'AC - split type ductless system', 'Refrigerator', 'Freezer', 'Essentials', 'Ceiling fan', 'Kitchen', 'Single level home', 'Hot water kettle', 'Iron', 'Smoke alarm', 'Private hot tub', 'Drying rack for clothing', 'Conditioner', 'Free washer – In unit', 'Books and reading material', 'Wifi', 'Pocket wifi', 'Dishes and silverware', 'Cooking basics', 'Toaster', 'Clothing storage: wardrobe', 'Microwave', 'Beach view', 'Safe', 'Portable fans', 'Hammock', 'Cleaning products', 'Extra pillows and blankets', 'Elevator', 'Beach access – Beachfront', 'Self check-in']"
        ],
        [
         "36",
         "347883",
         "Virtually On The Beach!!!",
         "1763389",
         "True",
         "Copacabana",
         "Entire condo",
         "[\"Smart lock\", \"TV with standard cable\", \"Body soap\", \"Bed linens\", \"Shampoo\", \"Shower gel\", \"Waterfront\", \"Paid parking off premises\", \"Laundromat nearby\", \"Hot water\", \"Hair dryer\", \"Hangers\", \"Coffee maker\", \"Wine glasses\", \"Room-darkening shades\", \"AC - split type ductless system\", \"Refrigerator\", \"Essentials\", \"Heating - split type ductless system\", \"Kitchen\", \"Single level home\", \"City skyline view\", \"Hot water kettle\", \"Iron\", \"Carbon monoxide alarm\", \"Long term stays allowed\", \"Drying rack for clothing\", \"Stove\", \"Free dryer \\u2013 In unit\", \"Free washer \\u2013 In unit\", \"Wifi\", \"Dishes and silverware\", \"Cooking basics\", \"Microwave\", \"Clothing storage: closet and dresser\", \"Cleaning products\", \"Extra pillows and blankets\", \"Elevator\", \"Beach access \\u2013 Beachfront\", \"Self check-in\"]",
         "215.0",
         "4.78",
         "4.85",
         "4.79",
         "4.81",
         "4.89",
         "4.88",
         "4.74",
         "['Smart lock', 'TV with standard cable', 'Body soap', 'Bed linens', 'Shampoo', 'Shower gel', 'Waterfront', 'Paid parking off premises', 'Laundromat nearby', 'Hot water', 'Hair dryer', 'Hangers', 'Coffee maker', 'Wine glasses', 'Room-darkening shades', 'AC - split type ductless system', 'Refrigerator', 'Essentials', 'Heating - split type ductless system', 'Kitchen', 'Single level home', 'City skyline view', 'Hot water kettle', 'Iron', 'Carbon monoxide alarm', 'Long term stays allowed', 'Drying rack for clothing', 'Stove', 'Free dryer – In unit', 'Free washer – In unit', 'Wifi', 'Dishes and silverware', 'Cooking basics', 'Microwave', 'Clothing storage: closet and dresser', 'Cleaning products', 'Extra pillows and blankets', 'Elevator', 'Beach access – Beachfront', 'Self check-in']"
        ],
        [
         "37",
         "357554",
         "EXCELLENT LOCATION IN COPACABANA",
         "1809627",
         "True",
         "Copacabana",
         "Entire rental unit",
         "[\"Dedicated workspace\", \"Ethernet connection\", \"Bed linens\", \"32 inch HDTV\", \"Rice maker\", \"Host greets you\", \"Laundromat nearby\", \"Coffee\", \"Hot water\", \"Hair dryer\", \"Hangers\", \"First aid kit\", \"Coffee maker\", \"Sabonete em barra para o banho e l\\u00edquido para o lavat\\u00f3rio body soap\", \"Room-darkening shades\", \"Blender\", \"AC - split type ductless system\", \"Refrigerator\", \"Exterior security cameras on property\", \"Essentials\", \"Ceiling fan\", \"Fire extinguisher\", \"Kitchen\", \"Long term stays allowed\", \"Iron\", \"Carbon monoxide alarm\", \"Smoke alarm\", \"Wifi\", \"Dishes and silverware\", \"Cooking basics\", \"Toaster\", \"Clothing storage: wardrobe\", \"Microwave\", \"Private entrance\", \"Hammock\", \"Cleaning products\", \"Extra pillows and blankets\", \"Luggage dropoff allowed\", \"Beach access \\u2013 Beachfront\"]",
         "193.0",
         "4.84",
         "4.85",
         "4.77",
         "4.98",
         "4.98",
         "4.92",
         "4.8",
         "['Dedicated workspace', 'Ethernet connection', 'Bed linens', '32 inch HDTV', 'Rice maker', 'Host greets you', 'Laundromat nearby', 'Coffee', 'Hot water', 'Hair dryer', 'Hangers', 'First aid kit', 'Coffee maker', 'Sabonete em barra para o banho e líquido para o lavatório body soap', 'Room-darkening shades', 'Blender', 'AC - split type ductless system', 'Refrigerator', 'Exterior security cameras on property', 'Essentials', 'Ceiling fan', 'Fire extinguisher', 'Kitchen', 'Long term stays allowed', 'Iron', 'Carbon monoxide alarm', 'Smoke alarm', 'Wifi', 'Dishes and silverware', 'Cooking basics', 'Toaster', 'Clothing storage: wardrobe', 'Microwave', 'Private entrance', 'Hammock', 'Cleaning products', 'Extra pillows and blankets', 'Luggage dropoff allowed', 'Beach access – Beachfront']"
        ],
        [
         "38",
         "137002",
         "Leblon House Very sophisticated in the mettle of L",
         "635510",
         "True",
         "Leblon",
         "Entire rental unit",
         "[\"Pack \\u2019n play/Travel crib\", \"Oven\", \"Building staff\", \"TV with standard cable\", \"Bed linens\", \"Clothing storage\", \"Washer\", \"Hot water\", \"Hair dryer\", \"Dryer\", \"Coffee maker\", \"Refrigerator\", \"Essentials\", \"Kitchen\", \"Iron\", \"Stove\", \"Wifi\", \"Dishes and silverware\", \"Toaster\", \"Microwave\", \"Crib\", \"Free parking on premises\", \"Elevator\", \"Self check-in\", \"Air conditioning\"]",
         "887.0",
         "4.95",
         "4.9",
         "4.9",
         "4.95",
         "5.0",
         "5.0",
         "4.74",
         "['Pack ’n play/Travel crib', 'Oven', 'Building staff', 'TV with standard cable', 'Bed linens', 'Clothing storage', 'Washer', 'Hot water', 'Hair dryer', 'Dryer', 'Coffee maker', 'Refrigerator', 'Essentials', 'Kitchen', 'Iron', 'Stove', 'Wifi', 'Dishes and silverware', 'Toaster', 'Microwave', 'Crib', 'Free parking on premises', 'Elevator', 'Self check-in', 'Air conditioning']"
        ],
        [
         "39",
         "137048",
         "Charming 2 bedroom flat in Leblon",
         "670198",
         "False",
         "Leblon",
         "Entire rental unit",
         "[\"Dedicated workspace\", \"Private patio or balcony\", \"Oven\", \"TV with standard cable\", \"Smoking allowed\", \"Bed linens\", \"Host greets you\", \"Washer\", \"Hot water\", \"Hair dryer\", \"Hangers\", \"Coffee maker\", \"Refrigerator\", \"Exterior security cameras on property\", \"Essentials\", \"Kitchen\", \"Long term stays allowed\", \"Iron\", \"Stove\", \"Wifi\", \"Dishes and silverware\", \"Cooking basics\", \"Microwave\", \"Extra pillows and blankets\", \"Air conditioning\"]",
         "361.0",
         "4.85",
         "4.97",
         "4.76",
         "4.97",
         "4.98",
         "4.98",
         "4.87",
         "['Dedicated workspace', 'Private patio or balcony', 'Oven', 'TV with standard cable', 'Smoking allowed', 'Bed linens', 'Host greets you', 'Washer', 'Hot water', 'Hair dryer', 'Hangers', 'Coffee maker', 'Refrigerator', 'Exterior security cameras on property', 'Essentials', 'Kitchen', 'Long term stays allowed', 'Iron', 'Stove', 'Wifi', 'Dishes and silverware', 'Cooking basics', 'Microwave', 'Extra pillows and blankets', 'Air conditioning']"
        ],
        [
         "40",
         "137343",
         "2BR, 2 blocks from Ipanema Beach",
         "671579",
         "True",
         "Ipanema",
         "Entire rental unit",
         "[\"Dedicated workspace\", \"Oven\", \"TV\", \"Bed linens\", \"Clothing storage\", \"Hangers\", \"Coffee maker\", \"Wine glasses\", \"Room-darkening shades\", \"Refrigerator\", \"Freezer\", \"Kitchen\", \"Hot water kettle\", \"Iron\", \"Stove\", \"Free washer \\u2013 In unit\", \"Books and reading material\", \"Wifi\", \"Dishes and silverware\", \"Cooking basics\", \"Toaster\", \"Microwave\", \"Extra pillows and blankets\", \"Free parking on premises\", \"Elevator\", \"Air conditioning\"]",
         "293.0",
         "4.61",
         "4.51",
         "4.41",
         "4.46",
         "4.44",
         "4.9",
         "4.61",
         "['Dedicated workspace', 'Oven', 'TV', 'Bed linens', 'Clothing storage', 'Hangers', 'Coffee maker', 'Wine glasses', 'Room-darkening shades', 'Refrigerator', 'Freezer', 'Kitchen', 'Hot water kettle', 'Iron', 'Stove', 'Free washer – In unit', 'Books and reading material', 'Wifi', 'Dishes and silverware', 'Cooking basics', 'Toaster', 'Microwave', 'Extra pillows and blankets', 'Free parking on premises', 'Elevator', 'Air conditioning']"
        ],
        [
         "41",
         "360877",
         "LUXE Loft in Copacabana - 1 Block from the Beach",
         "1824379",
         "True",
         "Copacabana",
         "Entire rental unit",
         "[\"Frigobar Electrolux Azul refrigerator\", \"Mini fridge\", \"Dove body soap\", \"Building staff\", \"Smoking allowed\", \"Bed linens\", \"Dove shampoo\", \"Shower gel\", \"Dining table\", \"Trash compactor\", \"Dove conditioner\", \"Paid street parking off premises\", \"Coffee maker: Nespresso\", \"Laundromat nearby\", \"Coffee\", \"Hot water\", \"Hair dryer\", \"Hangers\", \"First aid kit\", \"Wine glasses\", \"Room-darkening shades\", \"AC - split type ductless system\", \"Freezer\", \"Essentials\", \"Pets allowed\", \"TRAMONTINA stainless steel gas stove\", \"Fire extinguisher\", \"Kitchen\", \"40 inch HDTV with premium cable, standard cable\", \"Long term stays allowed\", \"Iron\", \"Carbon monoxide alarm\", \"Smoke alarm\", \"Shared beach access\", \"Pocket wifi\", \"Wifi\", \"Dishes and silverware\", \"Cooking basics\", \"Free street parking\", \"Clothing storage: wardrobe\", \"Microwave\", \"Private entrance\", \"Portable fans\", \"Cleaning products\", \"Extra pillows and blankets\", \"Elevator\", \"Luggage dropoff allowed\", \"Self check-in\"]",
         "504.0",
         "4.88",
         "4.91",
         "4.9",
         "4.96",
         "4.98",
         "4.93",
         "4.85",
         "['Frigobar Electrolux Azul refrigerator', 'Mini fridge', 'Dove body soap', 'Building staff', 'Smoking allowed', 'Bed linens', 'Dove shampoo', 'Shower gel', 'Dining table', 'Trash compactor', 'Dove conditioner', 'Paid street parking off premises', 'Coffee maker: Nespresso', 'Laundromat nearby', 'Coffee', 'Hot water', 'Hair dryer', 'Hangers', 'First aid kit', 'Wine glasses', 'Room-darkening shades', 'AC - split type ductless system', 'Freezer', 'Essentials', 'Pets allowed', 'TRAMONTINA stainless steel gas stove', 'Fire extinguisher', 'Kitchen', '40 inch HDTV with premium cable, standard cable', 'Long term stays allowed', 'Iron', 'Carbon monoxide alarm', 'Smoke alarm', 'Shared beach access', 'Pocket wifi', 'Wifi', 'Dishes and silverware', 'Cooking basics', 'Free street parking', 'Clothing storage: wardrobe', 'Microwave', 'Private entrance', 'Portable fans', 'Cleaning products', 'Extra pillows and blankets', 'Elevator', 'Luggage dropoff allowed', 'Self check-in']"
        ],
        [
         "42",
         "368146",
         "Ótimo Apartamento em Ipanema",
         "1858602",
         "True",
         "Ipanema",
         "Entire condo",
         "[\"Washer\", \"Paid parking on premises\", \"Pack \\u2019n play/Travel crib\", \"Room-darkening shades\", \"Dedicated workspace\", \"Air conditioning\", \"Stove\", \"Oven\", \"Essentials\", \"Wine glasses\", \"Self check-in\", \"Shampoo\", \"Paid parking off premises\", \"Iron\", \"Building staff\", \"Body soap\", \"Luggage dropoff allowed\", \"Wifi\", \"Refrigerator\", \"TV with standard cable\", \"Crib\", \"Freezer\", \"Blender\", \"Bed linens\", \"Cooking basics\", \"Hot water\", \"Kitchen\", \"Coffee maker\", \"Long term stays allowed\", \"Microwave\", \"Dining table\", \"Hair dryer\", \"Conditioner\", \"Drying rack for clothing\", \"Clothing storage\", \"Laundromat nearby\", \"Hangers\", \"Elevator\", \"Shared beach access\", \"Dishes and silverware\"]",
         "321.0",
         "4.83",
         "4.84",
         "4.77",
         "4.95",
         "4.92",
         "4.97",
         "4.78",
         "['Washer', 'Paid parking on premises', 'Pack ’n play/Travel crib', 'Room-darkening shades', 'Dedicated workspace', 'Air conditioning', 'Stove', 'Oven', 'Essentials', 'Wine glasses', 'Self check-in', 'Shampoo', 'Paid parking off premises', 'Iron', 'Building staff', 'Body soap', 'Luggage dropoff allowed', 'Wifi', 'Refrigerator', 'TV with standard cable', 'Crib', 'Freezer', 'Blender', 'Bed linens', 'Cooking basics', 'Hot water', 'Kitchen', 'Coffee maker', 'Long term stays allowed', 'Microwave', 'Dining table', 'Hair dryer', 'Conditioner', 'Drying rack for clothing', 'Clothing storage', 'Laundromat nearby', 'Hangers', 'Elevator', 'Shared beach access', 'Dishes and silverware']"
        ],
        [
         "43",
         "369287",
         "Modern Flat at Copacabana - Rio",
         "1862303",
         "False",
         "Copacabana",
         "Entire rental unit",
         "[\"Ethernet connection\", \"Smoking allowed\", \"Bed linens\", \"Niveq body soap\", \"Shower gel\", \"Clothing storage\", \"Dining table\", \"43 inch HDTV with Amazon Prime Video, Netflix, Chromecast\", \"Bidet\", \"Washer\", \"Consul, a G\\u00e1s single oven\", \"Lockbox\", \"Coffee maker: Nespresso\", \"Laundromat nearby\", \"Coffee\", \"Hot water\", \"Hair dryer\", \"Hangers\", \"First aid kit\", \"Wine glasses\", \"Room-darkening shades\", \"Baking sheet\", \"Blender\", \"AC - split type ductless system\", \"Exterior security cameras on property\", \"Consul refrigerator\", \"Freezer\", \"Essentials\", \"Ceiling fan\", \"Pets allowed\", \"Fire extinguisher\", \"Kitchen\", \"Iron\", \"Drying rack for clothing\", \"Stove\", \"Shared beach access\", \"Free dryer \\u2013 In unit\", \"Books and reading material\", \"Wifi\", \"Dishes and silverware\", \"Cooking basics\", \"Movie theater\", \"Microwave\", \"Portable fans\", \"Cleaning products\", \"Extra pillows and blankets\", \"Elevator\", \"Self check-in\"]",
         "202.0",
         "4.64",
         "4.79",
         "4.56",
         "4.79",
         "4.67",
         "4.89",
         "4.64",
         "['Ethernet connection', 'Smoking allowed', 'Bed linens', 'Niveq body soap', 'Shower gel', 'Clothing storage', 'Dining table', '43 inch HDTV with Amazon Prime Video, Netflix, Chromecast', 'Bidet', 'Washer', 'Consul, a Gás single oven', 'Lockbox', 'Coffee maker: Nespresso', 'Laundromat nearby', 'Coffee', 'Hot water', 'Hair dryer', 'Hangers', 'First aid kit', 'Wine glasses', 'Room-darkening shades', 'Baking sheet', 'Blender', 'AC - split type ductless system', 'Exterior security cameras on property', 'Consul refrigerator', 'Freezer', 'Essentials', 'Ceiling fan', 'Pets allowed', 'Fire extinguisher', 'Kitchen', 'Iron', 'Drying rack for clothing', 'Stove', 'Shared beach access', 'Free dryer – In unit', 'Books and reading material', 'Wifi', 'Dishes and silverware', 'Cooking basics', 'Movie theater', 'Microwave', 'Portable fans', 'Cleaning products', 'Extra pillows and blankets', 'Elevator', 'Self check-in']"
        ],
        [
         "44",
         "371950",
         "Excelente Apartamento em Ipanema",
         "1858602",
         "True",
         "Ipanema",
         "Entire condo",
         "[\"Pack \\u2019n play/Travel crib\", \"Dedicated workspace\", \"Oven\", \"Building staff\", \"TV with standard cable\", \"Bed linens\", \"Dining table\", \"Washer\", \"Paid parking off premises\", \"Laundromat nearby\", \"Hot water\", \"Hair dryer\", \"Hangers\", \"Coffee maker\", \"Room-darkening shades\", \"Refrigerator\", \"Freezer\", \"Essentials\", \"Kitchen\", \"Long term stays allowed\", \"Iron\", \"Drying rack for clothing\", \"Stove\", \"Shared beach access\", \"Wifi\", \"Dishes and silverware\", \"Cooking basics\", \"Clothing storage: wardrobe\", \"Microwave\", \"Paid parking on premises\", \"Elevator\", \"Luggage dropoff allowed\", \"Self check-in\", \"Air conditioning\"]",
         "424.0",
         "4.84",
         "4.85",
         "4.81",
         "4.97",
         "4.94",
         "4.98",
         "4.77",
         "['Pack ’n play/Travel crib', 'Dedicated workspace', 'Oven', 'Building staff', 'TV with standard cable', 'Bed linens', 'Dining table', 'Washer', 'Paid parking off premises', 'Laundromat nearby', 'Hot water', 'Hair dryer', 'Hangers', 'Coffee maker', 'Room-darkening shades', 'Refrigerator', 'Freezer', 'Essentials', 'Kitchen', 'Long term stays allowed', 'Iron', 'Drying rack for clothing', 'Stove', 'Shared beach access', 'Wifi', 'Dishes and silverware', 'Cooking basics', 'Clothing storage: wardrobe', 'Microwave', 'Paid parking on premises', 'Elevator', 'Luggage dropoff allowed', 'Self check-in', 'Air conditioning']"
        ],
        [
         "45",
         "380887",
         "COPACABANA ENTRE AS PRAIAS DE IPANEMA E ARPOADOR",
         "1910409",
         "True",
         "Copacabana",
         "Entire rental unit",
         "[\"Washer\", \"Bed linens\", \"Ethernet connection\", \"Iron\", \"Air conditioning\", \"Kitchen\", \"Hangers\", \"Elevator\", \"Wifi\", \"Refrigerator\", \"Dishes and silverware\", \"TV with standard cable\", \"Essentials\", \"Coffee maker\", \"Microwave\", \"Extra pillows and blankets\"]",
         "458.0",
         "4.98",
         "4.98",
         "4.96",
         "5.0",
         "4.98",
         "4.98",
         "4.95",
         "['Washer', 'Bed linens', 'Ethernet connection', 'Iron', 'Air conditioning', 'Kitchen', 'Hangers', 'Elevator', 'Wifi', 'Refrigerator', 'Dishes and silverware', 'TV with standard cable', 'Essentials', 'Coffee maker', 'Microwave', 'Extra pillows and blankets']"
        ],
        [
         "46",
         "396849",
         "Ff702| 3 bedrooms in Leblon",
         "1982737",
         "False",
         "Leblon",
         "Entire rental unit",
         "[\"Dedicated workspace\", \"Smart lock\", \"Oven\", \"TV\", \"Bed linens\", \"Hot water\", \"Hair dryer\", \"Coffee maker\", \"Refrigerator\", \"Freezer\", \"Essentials\", \"Pets allowed\", \"Kitchen\", \"Iron\", \"Window AC unit\", \"Free washer \\u2013 In unit\", \"Wifi\", \"Dishes and silverware\", \"Cooking basics\", \"Toaster\", \"Consul gas stove\", \"Microwave\", \"Free parking on premises\", \"Elevator\", \"Beach access \\u2013 Beachfront\", \"Self check-in\"]",
         "279.0",
         "4.73",
         "4.8",
         "4.69",
         "4.84",
         "4.87",
         "4.94",
         "4.57",
         "['Dedicated workspace', 'Smart lock', 'Oven', 'TV', 'Bed linens', 'Hot water', 'Hair dryer', 'Coffee maker', 'Refrigerator', 'Freezer', 'Essentials', 'Pets allowed', 'Kitchen', 'Iron', 'Window AC unit', 'Free washer – In unit', 'Wifi', 'Dishes and silverware', 'Cooking basics', 'Toaster', 'Consul gas stove', 'Microwave', 'Free parking on premises', 'Elevator', 'Beach access – Beachfront', 'Self check-in']"
        ],
        [
         "47",
         "166177",
         "Studio  70 meters from Copacabana beach",
         "792218",
         "False",
         "Copacabana",
         "Entire condo",
         "[\"Coffee maker: drip coffee maker\", \"Mini fridge\", \"Ethernet connection\", \"TV with standard cable\", \"Body soap\", \"Bed linens\", \"Dining table\", \"Host greets you\", \"Waterfront\", \"Paid street parking off premises\", \"Laundromat nearby\", \"Hot water\", \"Hair dryer\", \"Hangers\", \"Wine glasses\", \"Room-darkening shades\", \"Stainless steel gas stove\", \"Dako oven\", \"Blender\", \"Refrigerator\", \"Essentials\", \"Ceiling fan\", \"Fire extinguisher\", \"Kitchen\", \"Hot water kettle\", \"Long term stays allowed\", \"Iron\", \"Window AC unit\", \"Drying rack for clothing\", \"Shared beach access\", \"Wifi\", \"Dishes and silverware\", \"Cooking basics\", \"Clothing storage: wardrobe\", \"Microwave\", \"Beach view\", \"Extra pillows and blankets\", \"Paid parking on premises\", \"Elevator\"]",
         "222.0",
         "4.56",
         "4.77",
         "4.35",
         "4.84",
         "4.86",
         "4.86",
         "4.59",
         "['Coffee maker: drip coffee maker', 'Mini fridge', 'Ethernet connection', 'TV with standard cable', 'Body soap', 'Bed linens', 'Dining table', 'Host greets you', 'Waterfront', 'Paid street parking off premises', 'Laundromat nearby', 'Hot water', 'Hair dryer', 'Hangers', 'Wine glasses', 'Room-darkening shades', 'Stainless steel gas stove', 'Dako oven', 'Blender', 'Refrigerator', 'Essentials', 'Ceiling fan', 'Fire extinguisher', 'Kitchen', 'Hot water kettle', 'Long term stays allowed', 'Iron', 'Window AC unit', 'Drying rack for clothing', 'Shared beach access', 'Wifi', 'Dishes and silverware', 'Cooking basics', 'Clothing storage: wardrobe', 'Microwave', 'Beach view', 'Extra pillows and blankets', 'Paid parking on premises', 'Elevator']"
        ],
        [
         "48",
         "166972",
         "O MELHOR ESTÚDIO DE  COPACABANA",
         "795470",
         "False",
         "Copacabana",
         "Entire rental unit",
         "[\"Dishes and silverware\", \"Cooking basics\", \"Essentials\", \"Pets allowed\", \"TV with standard cable\", \"Kitchen\", \"Smoking allowed\", \"Hangers\", \"Iron\", \"Elevator\", \"Air conditioning\", \"Wifi\"]",
         "180.0",
         "4.9",
         "5.0",
         "5.0",
         "5.0",
         "5.0",
         "5.0",
         "4.9",
         "['Dishes and silverware', 'Cooking basics', 'Essentials', 'Pets allowed', 'TV with standard cable', 'Kitchen', 'Smoking allowed', 'Hangers', 'Iron', 'Elevator', 'Air conditioning', 'Wifi']"
        ],
        [
         "49",
         "167031",
         "Arpoador beach, the best part of Ipanema",
         "792218",
         "False",
         "Ipanema",
         "Entire condo",
         "[\"Dedicated workspace\", \"Ethernet connection\", \"TV with standard cable\", \"Bed linens\", \"High chair\", \"Garden view\", \"Host greets you\", \"Washer\", \"Hot water\", \"Hair dryer\", \"Hangers\", \"Room-darkening shades\", \"Refrigerator\", \"Essentials\", \"Ceiling fan\", \"Fire extinguisher\", \"Kitchen\", \"Long term stays allowed\", \"Iron\", \"Stove\", \"Wifi\", \"Dishes and silverware\", \"Microwave\", \"Coffee maker: pour-over coffee\", \"Extra pillows and blankets\", \"Paid parking on premises\", \"Beach access \\u2013 Beachfront\", \"Air conditioning\"]",
         "275.0",
         "4.65",
         "4.72",
         "4.39",
         "4.89",
         "4.9",
         "4.92",
         "4.52",
         "['Dedicated workspace', 'Ethernet connection', 'TV with standard cable', 'Bed linens', 'High chair', 'Garden view', 'Host greets you', 'Washer', 'Hot water', 'Hair dryer', 'Hangers', 'Room-darkening shades', 'Refrigerator', 'Essentials', 'Ceiling fan', 'Fire extinguisher', 'Kitchen', 'Long term stays allowed', 'Iron', 'Stove', 'Wifi', 'Dishes and silverware', 'Microwave', 'Coffee maker: pour-over coffee', 'Extra pillows and blankets', 'Paid parking on premises', 'Beach access – Beachfront', 'Air conditioning']"
        ]
       ],
       "shape": {
        "columns": 16,
        "rows": 13321
       }
      },
      "text/html": [
       "<div>\n",
       "<style scoped>\n",
       "    .dataframe tbody tr th:only-of-type {\n",
       "        vertical-align: middle;\n",
       "    }\n",
       "\n",
       "    .dataframe tbody tr th {\n",
       "        vertical-align: top;\n",
       "    }\n",
       "\n",
       "    .dataframe thead th {\n",
       "        text-align: right;\n",
       "    }\n",
       "</style>\n",
       "<table border=\"1\" class=\"dataframe\">\n",
       "  <thead>\n",
       "    <tr style=\"text-align: right;\">\n",
       "      <th></th>\n",
       "      <th>id</th>\n",
       "      <th>name</th>\n",
       "      <th>host_id</th>\n",
       "      <th>host_is_superhost</th>\n",
       "      <th>neighbourhood_cleansed</th>\n",
       "      <th>property_type</th>\n",
       "      <th>amenities</th>\n",
       "      <th>price</th>\n",
       "      <th>review_scores_rating</th>\n",
       "      <th>review_scores_accuracy</th>\n",
       "      <th>review_scores_cleanliness</th>\n",
       "      <th>review_scores_checkin</th>\n",
       "      <th>review_scores_communication</th>\n",
       "      <th>review_scores_location</th>\n",
       "      <th>review_scores_value</th>\n",
       "      <th>amenities_list</th>\n",
       "    </tr>\n",
       "  </thead>\n",
       "  <tbody>\n",
       "    <tr>\n",
       "      <th>0</th>\n",
       "      <td>17878</td>\n",
       "      <td>Very Nice 2Br in Copacabana w. balcony, fast WiFi</td>\n",
       "      <td>68997</td>\n",
       "      <td>False</td>\n",
       "      <td>Copacabana</td>\n",
       "      <td>Entire condo</td>\n",
       "      <td>[\"Oven\", \"Building staff\", \"TV with standard c...</td>\n",
       "      <td>254.0</td>\n",
       "      <td>4.71</td>\n",
       "      <td>4.76</td>\n",
       "      <td>4.64</td>\n",
       "      <td>4.83</td>\n",
       "      <td>4.91</td>\n",
       "      <td>4.78</td>\n",
       "      <td>4.67</td>\n",
       "      <td>[Oven, Building staff, TV with standard cable,...</td>\n",
       "    </tr>\n",
       "    <tr>\n",
       "      <th>1</th>\n",
       "      <td>25026</td>\n",
       "      <td>Beautiful Modern Decorated Studio in Copacabana</td>\n",
       "      <td>102840</td>\n",
       "      <td>True</td>\n",
       "      <td>Copacabana</td>\n",
       "      <td>Entire rental unit</td>\n",
       "      <td>[\"Window AC unit\", \"Room-darkening shades\", \"D...</td>\n",
       "      <td>252.0</td>\n",
       "      <td>4.75</td>\n",
       "      <td>4.74</td>\n",
       "      <td>4.81</td>\n",
       "      <td>4.83</td>\n",
       "      <td>4.93</td>\n",
       "      <td>4.85</td>\n",
       "      <td>4.65</td>\n",
       "      <td>[Window AC unit, Room-darkening shades, Dedica...</td>\n",
       "    </tr>\n",
       "    <tr>\n",
       "      <th>2</th>\n",
       "      <td>35764</td>\n",
       "      <td>COPACABANA SEA BREEZE  -  RIO - 25  X Superhost</td>\n",
       "      <td>153691</td>\n",
       "      <td>True</td>\n",
       "      <td>Copacabana</td>\n",
       "      <td>Entire loft</td>\n",
       "      <td>[\"Building staff\", \"Bed linens\", \"Heating\", \"P...</td>\n",
       "      <td>190.0</td>\n",
       "      <td>4.91</td>\n",
       "      <td>4.94</td>\n",
       "      <td>4.92</td>\n",
       "      <td>4.97</td>\n",
       "      <td>4.95</td>\n",
       "      <td>4.95</td>\n",
       "      <td>4.89</td>\n",
       "      <td>[Building staff, Bed linens, Heating, Paid par...</td>\n",
       "    </tr>\n",
       "    <tr>\n",
       "      <th>3</th>\n",
       "      <td>48305</td>\n",
       "      <td>Bright 6bed Penthouse Seconds from Beach</td>\n",
       "      <td>70933</td>\n",
       "      <td>True</td>\n",
       "      <td>Ipanema</td>\n",
       "      <td>Entire rental unit</td>\n",
       "      <td>[\"Pack \\u2019n play/Travel crib\", \"Private pat...</td>\n",
       "      <td>2239.0</td>\n",
       "      <td>4.77</td>\n",
       "      <td>4.74</td>\n",
       "      <td>4.73</td>\n",
       "      <td>4.84</td>\n",
       "      <td>4.84</td>\n",
       "      <td>4.95</td>\n",
       "      <td>4.59</td>\n",
       "      <td>[Pack ’n play/Travel crib, Private patio or ba...</td>\n",
       "    </tr>\n",
       "    <tr>\n",
       "      <th>4</th>\n",
       "      <td>48901</td>\n",
       "      <td>Extra large 4BD 3BT on the AtlanticAve. Copaca...</td>\n",
       "      <td>222884</td>\n",
       "      <td>False</td>\n",
       "      <td>Copacabana</td>\n",
       "      <td>Entire rental unit</td>\n",
       "      <td>[\"Microwave\", \"Dedicated workspace\", \"Hot wate...</td>\n",
       "      <td>743.0</td>\n",
       "      <td>4.63</td>\n",
       "      <td>4.67</td>\n",
       "      <td>4.42</td>\n",
       "      <td>4.88</td>\n",
       "      <td>4.83</td>\n",
       "      <td>4.94</td>\n",
       "      <td>4.60</td>\n",
       "      <td>[Microwave, Dedicated workspace, Hot water, Ki...</td>\n",
       "    </tr>\n",
       "    <tr>\n",
       "      <th>...</th>\n",
       "      <td>...</td>\n",
       "      <td>...</td>\n",
       "      <td>...</td>\n",
       "      <td>...</td>\n",
       "      <td>...</td>\n",
       "      <td>...</td>\n",
       "      <td>...</td>\n",
       "      <td>...</td>\n",
       "      <td>...</td>\n",
       "      <td>...</td>\n",
       "      <td>...</td>\n",
       "      <td>...</td>\n",
       "      <td>...</td>\n",
       "      <td>...</td>\n",
       "      <td>...</td>\n",
       "      <td>...</td>\n",
       "    </tr>\n",
       "    <tr>\n",
       "      <th>13316</th>\n",
       "      <td>1445922773284650234</td>\n",
       "      <td>Apartamento Copacabana 1 quarto.</td>\n",
       "      <td>548464749</td>\n",
       "      <td>False</td>\n",
       "      <td>Copacabana</td>\n",
       "      <td>Entire rental unit</td>\n",
       "      <td>[\"Exterior security cameras on property\", \"TV\"...</td>\n",
       "      <td>203.0</td>\n",
       "      <td>5.00</td>\n",
       "      <td>5.00</td>\n",
       "      <td>5.00</td>\n",
       "      <td>5.00</td>\n",
       "      <td>5.00</td>\n",
       "      <td>5.00</td>\n",
       "      <td>5.00</td>\n",
       "      <td>[Exterior security cameras on property, TV, Ki...</td>\n",
       "    </tr>\n",
       "    <tr>\n",
       "      <th>13317</th>\n",
       "      <td>1445085593505539396</td>\n",
       "      <td>Loft acolhedor no coração de Copacabana!</td>\n",
       "      <td>81067595</td>\n",
       "      <td>True</td>\n",
       "      <td>Copacabana</td>\n",
       "      <td>Entire rental unit</td>\n",
       "      <td>[\"Smart lock\", \"TV\", \"Body soap\", \"Bed linens\"...</td>\n",
       "      <td>266.0</td>\n",
       "      <td>4.00</td>\n",
       "      <td>5.00</td>\n",
       "      <td>5.00</td>\n",
       "      <td>5.00</td>\n",
       "      <td>5.00</td>\n",
       "      <td>4.00</td>\n",
       "      <td>4.00</td>\n",
       "      <td>[Smart lock, TV, Body soap, Bed linens, Clothi...</td>\n",
       "    </tr>\n",
       "    <tr>\n",
       "      <th>13318</th>\n",
       "      <td>1445121652947657876</td>\n",
       "      <td>[Promoção] Lindo apto ao lado da praia de Copa</td>\n",
       "      <td>310196961</td>\n",
       "      <td>False</td>\n",
       "      <td>Copacabana</td>\n",
       "      <td>Entire rental unit</td>\n",
       "      <td>[\"Paid parking off premises\", \"Dedicated works...</td>\n",
       "      <td>209.0</td>\n",
       "      <td>5.00</td>\n",
       "      <td>5.00</td>\n",
       "      <td>5.00</td>\n",
       "      <td>5.00</td>\n",
       "      <td>5.00</td>\n",
       "      <td>5.00</td>\n",
       "      <td>5.00</td>\n",
       "      <td>[Paid parking off premises, Dedicated workspac...</td>\n",
       "    </tr>\n",
       "    <tr>\n",
       "      <th>13319</th>\n",
       "      <td>1447045166080016387</td>\n",
       "      <td>Copacabana apartament e vaga garagem 100m da p...</td>\n",
       "      <td>143945580</td>\n",
       "      <td>False</td>\n",
       "      <td>Copacabana</td>\n",
       "      <td>Entire rental unit</td>\n",
       "      <td>[\"TV\", \"Kitchen\", \"Smoking allowed\", \"Washer\",...</td>\n",
       "      <td>380.0</td>\n",
       "      <td>5.00</td>\n",
       "      <td>5.00</td>\n",
       "      <td>5.00</td>\n",
       "      <td>5.00</td>\n",
       "      <td>5.00</td>\n",
       "      <td>5.00</td>\n",
       "      <td>5.00</td>\n",
       "      <td>[TV, Kitchen, Smoking allowed, Washer, Air con...</td>\n",
       "    </tr>\n",
       "    <tr>\n",
       "      <th>13320</th>\n",
       "      <td>1447215561804591668</td>\n",
       "      <td>Apartamento Inteiro Copacabana</td>\n",
       "      <td>328384835</td>\n",
       "      <td>False</td>\n",
       "      <td>Copacabana</td>\n",
       "      <td>Entire rental unit</td>\n",
       "      <td>[\"Bed linens\", \"Clothing storage\", \"Shampoo\", ...</td>\n",
       "      <td>170.0</td>\n",
       "      <td>5.00</td>\n",
       "      <td>5.00</td>\n",
       "      <td>5.00</td>\n",
       "      <td>5.00</td>\n",
       "      <td>5.00</td>\n",
       "      <td>5.00</td>\n",
       "      <td>5.00</td>\n",
       "      <td>[Bed linens, Clothing storage, Shampoo, Host g...</td>\n",
       "    </tr>\n",
       "  </tbody>\n",
       "</table>\n",
       "<p>13321 rows × 16 columns</p>\n",
       "</div>"
      ],
      "text/plain": [
       "                        id                                               name  \\\n",
       "0                    17878  Very Nice 2Br in Copacabana w. balcony, fast WiFi   \n",
       "1                    25026    Beautiful Modern Decorated Studio in Copacabana   \n",
       "2                    35764    COPACABANA SEA BREEZE  -  RIO - 25  X Superhost   \n",
       "3                    48305           Bright 6bed Penthouse Seconds from Beach   \n",
       "4                    48901  Extra large 4BD 3BT on the AtlanticAve. Copaca...   \n",
       "...                    ...                                                ...   \n",
       "13316  1445922773284650234                   Apartamento Copacabana 1 quarto.   \n",
       "13317  1445085593505539396           Loft acolhedor no coração de Copacabana!   \n",
       "13318  1445121652947657876     [Promoção] Lindo apto ao lado da praia de Copa   \n",
       "13319  1447045166080016387  Copacabana apartament e vaga garagem 100m da p...   \n",
       "13320  1447215561804591668                     Apartamento Inteiro Copacabana   \n",
       "\n",
       "         host_id  host_is_superhost neighbourhood_cleansed  \\\n",
       "0          68997              False             Copacabana   \n",
       "1         102840               True             Copacabana   \n",
       "2         153691               True             Copacabana   \n",
       "3          70933               True                Ipanema   \n",
       "4         222884              False             Copacabana   \n",
       "...          ...                ...                    ...   \n",
       "13316  548464749              False             Copacabana   \n",
       "13317   81067595               True             Copacabana   \n",
       "13318  310196961              False             Copacabana   \n",
       "13319  143945580              False             Copacabana   \n",
       "13320  328384835              False             Copacabana   \n",
       "\n",
       "            property_type                                          amenities  \\\n",
       "0            Entire condo  [\"Oven\", \"Building staff\", \"TV with standard c...   \n",
       "1      Entire rental unit  [\"Window AC unit\", \"Room-darkening shades\", \"D...   \n",
       "2             Entire loft  [\"Building staff\", \"Bed linens\", \"Heating\", \"P...   \n",
       "3      Entire rental unit  [\"Pack \\u2019n play/Travel crib\", \"Private pat...   \n",
       "4      Entire rental unit  [\"Microwave\", \"Dedicated workspace\", \"Hot wate...   \n",
       "...                   ...                                                ...   \n",
       "13316  Entire rental unit  [\"Exterior security cameras on property\", \"TV\"...   \n",
       "13317  Entire rental unit  [\"Smart lock\", \"TV\", \"Body soap\", \"Bed linens\"...   \n",
       "13318  Entire rental unit  [\"Paid parking off premises\", \"Dedicated works...   \n",
       "13319  Entire rental unit  [\"TV\", \"Kitchen\", \"Smoking allowed\", \"Washer\",...   \n",
       "13320  Entire rental unit  [\"Bed linens\", \"Clothing storage\", \"Shampoo\", ...   \n",
       "\n",
       "        price  review_scores_rating  review_scores_accuracy  \\\n",
       "0       254.0                  4.71                    4.76   \n",
       "1       252.0                  4.75                    4.74   \n",
       "2       190.0                  4.91                    4.94   \n",
       "3      2239.0                  4.77                    4.74   \n",
       "4       743.0                  4.63                    4.67   \n",
       "...       ...                   ...                     ...   \n",
       "13316   203.0                  5.00                    5.00   \n",
       "13317   266.0                  4.00                    5.00   \n",
       "13318   209.0                  5.00                    5.00   \n",
       "13319   380.0                  5.00                    5.00   \n",
       "13320   170.0                  5.00                    5.00   \n",
       "\n",
       "       review_scores_cleanliness  review_scores_checkin  \\\n",
       "0                           4.64                   4.83   \n",
       "1                           4.81                   4.83   \n",
       "2                           4.92                   4.97   \n",
       "3                           4.73                   4.84   \n",
       "4                           4.42                   4.88   \n",
       "...                          ...                    ...   \n",
       "13316                       5.00                   5.00   \n",
       "13317                       5.00                   5.00   \n",
       "13318                       5.00                   5.00   \n",
       "13319                       5.00                   5.00   \n",
       "13320                       5.00                   5.00   \n",
       "\n",
       "       review_scores_communication  review_scores_location  \\\n",
       "0                             4.91                    4.78   \n",
       "1                             4.93                    4.85   \n",
       "2                             4.95                    4.95   \n",
       "3                             4.84                    4.95   \n",
       "4                             4.83                    4.94   \n",
       "...                            ...                     ...   \n",
       "13316                         5.00                    5.00   \n",
       "13317                         5.00                    4.00   \n",
       "13318                         5.00                    5.00   \n",
       "13319                         5.00                    5.00   \n",
       "13320                         5.00                    5.00   \n",
       "\n",
       "       review_scores_value                                     amenities_list  \n",
       "0                     4.67  [Oven, Building staff, TV with standard cable,...  \n",
       "1                     4.65  [Window AC unit, Room-darkening shades, Dedica...  \n",
       "2                     4.89  [Building staff, Bed linens, Heating, Paid par...  \n",
       "3                     4.59  [Pack ’n play/Travel crib, Private patio or ba...  \n",
       "4                     4.60  [Microwave, Dedicated workspace, Hot water, Ki...  \n",
       "...                    ...                                                ...  \n",
       "13316                 5.00  [Exterior security cameras on property, TV, Ki...  \n",
       "13317                 4.00  [Smart lock, TV, Body soap, Bed linens, Clothi...  \n",
       "13318                 5.00  [Paid parking off premises, Dedicated workspac...  \n",
       "13319                 5.00  [TV, Kitchen, Smoking allowed, Washer, Air con...  \n",
       "13320                 5.00  [Bed linens, Clothing storage, Shampoo, Host g...  \n",
       "\n",
       "[13321 rows x 16 columns]"
      ]
     },
     "execution_count": 140,
     "metadata": {},
     "output_type": "execute_result"
    }
   ],
   "source": [
    "listings"
   ]
  },
  {
   "cell_type": "markdown",
   "id": "dfe42aab",
   "metadata": {},
   "source": [
    "Dados limpos e processados:\n",
    "- Amenities tratados e explodidos em arquivo separado\n",
    "- Valores NaN preenchidos  \n",
    "- Filtros de data corrigidos\n",
    "- Dados validados"
   ]
  },
  {
   "cell_type": "markdown",
   "id": "f587f6e2",
   "metadata": {},
   "source": [
    "## Review"
   ]
  },
  {
   "cell_type": "code",
   "execution_count": 141,
   "id": "ae09bda8",
   "metadata": {},
   "outputs": [],
   "source": [
    "reviews = raw_reviews.copy()"
   ]
  },
  {
   "cell_type": "code",
   "execution_count": 142,
   "id": "5fe6c2ba",
   "metadata": {},
   "outputs": [],
   "source": [
    "reviews['id'] = reviews['id'].astype(str)\n",
    "reviews['listing_id'] = reviews['listing_id'].astype(str)"
   ]
  },
  {
   "cell_type": "code",
   "execution_count": 143,
   "id": "38adec38",
   "metadata": {},
   "outputs": [],
   "source": [
    "listings_list = listings['id'].tolist()\n",
    "\n",
    "reviews = reviews[reviews['listing_id'].isin(listings_list)].reset_index(drop=True)"
   ]
  },
  {
   "cell_type": "code",
   "execution_count": 144,
   "id": "e8dc9327",
   "metadata": {},
   "outputs": [],
   "source": [
    "# remover os casos de reviews de comentarios duplicados\n",
    "reviews = reviews[~reviews[['listing_id', 'comments']].duplicated()]"
   ]
  },
  {
   "cell_type": "code",
   "execution_count": 145,
   "id": "beb450d8",
   "metadata": {},
   "outputs": [],
   "source": [
    "reviews = reviews[reviews['date'] >= '2024-01-01']"
   ]
  },
  {
   "cell_type": "code",
   "execution_count": 146,
   "id": "7ed6ac09",
   "metadata": {},
   "outputs": [],
   "source": [
    "reviews = reviews[reviews['comments'].str.len() > 50]"
   ]
  },
  {
   "cell_type": "code",
   "execution_count": 147,
   "id": "6fe3a1f2",
   "metadata": {},
   "outputs": [],
   "source": [
    "reviews.to_csv('data/processed/reviews.csv', index=False)\n",
    "listings.to_csv('data/processed/listings.csv', index=False)"
   ]
  },
  {
   "cell_type": "code",
   "execution_count": 148,
   "id": "a469c5ca",
   "metadata": {},
   "outputs": [
    {
     "data": {
      "application/vnd.microsoft.datawrangler.viewer.v0+json": {
       "columns": [
        {
         "name": "index",
         "rawType": "int64",
         "type": "integer"
        },
        {
         "name": "listing_id",
         "rawType": "object",
         "type": "string"
        },
        {
         "name": "id",
         "rawType": "object",
         "type": "string"
        },
        {
         "name": "date",
         "rawType": "object",
         "type": "string"
        },
        {
         "name": "reviewer_id",
         "rawType": "int64",
         "type": "integer"
        },
        {
         "name": "reviewer_name",
         "rawType": "object",
         "type": "unknown"
        },
        {
         "name": "comments",
         "rawType": "object",
         "type": "string"
        }
       ],
       "ref": "194918a9-6cea-47d1-a8bd-3650345c5c4e",
       "rows": [
        [
         "156",
         "75504",
         "1413892745518166819",
         "2025-05-04",
         "666671602",
         "Camila",
         "A estadia foi maravilhosa! Fomos para assistir ao show da Lady Gaga na praia de Copacabana e a localização do Airbnb não poderia ser melhor, sobretudo considerando a dificuldade de mobilidade após um evento dessa magnitude. O apartamento é muito bom, tem cômodos isolados, o que é positivo para ir com mais gente. Além disso, o apartamento é muito bem equipado, toalhas e roupas de cama limpas, tem ferro de passar, secador de cabelo, tudo limpo e bem cuidado. Alexandre foi um grande querido, flexível com os horários de chegada e partida e nos recebeu muito bem. Enfim, valeu muito a pena a hospedagem e voltaremos com certeza!"
        ],
        [
         "355",
         "76245",
         "1069541646158229802",
         "2024-01-15",
         "18520550",
         "Eduardo",
         "O apartamento é exatamente como nas fotos e na descrição. ÓTIMO!<br/>Diogo e a Sol (a moça responsável pelo check in e limpeza) foram sempre atenciosos e atentos aos pedidos. <br/>A localização é boa, dá pra ir a pé tanto pra Copacabana quanto para Ipanema. <br/>Não tivemos reclamações."
        ],
        [
         "444",
         "76245",
         "1091271840149922183",
         "2024-02-14",
         "23742384",
         "Emanuel",
         "Fue una gran experiencia de carnaval con amigos en el alojamiento. El departamento fue mas lindo que lo mostrado en fotos y super cómodo. Estaba muy limpio y ordenado. Tenia juego de vajillas y accesorios suficientes. Los aires funcionaban muy bien. Fue seguro, hay personal de seguridad en planta baja para el ingreso y es muy accesible la ubicación para moverse a Copacabana o Ipanema. En la zona hay muchos comercios cercanos y esta muy cerca del subte tambien. Diogo fue muy amable en todo momento, se mostró preocupado para que la pasáramos bien y que nos haya gustado el departamento. Solange tambien fue muy atenta y profesional. Sin dudas volveríamos al departamento. Lo recomiendo muchísimo para grupos grandes, ya que sobran los baños, las habitaciones son cómodas y el espacio en común es increíble y super amplio.<br/>Gracias por todo !! Volveremos siempre!"
        ],
        [
         "445",
         "76245",
         "1094208407369623864",
         "2024-02-18",
         "52689096",
         "Anna Clara",
         "Apartamento é maravilhoso.<br/>Tudo mto organizado, limpo e cheiroso! impecavel!<br/>Muito boa a localização!<br/>Recepção com a Sol foi incrível.<br/>amamos!"
        ],
        [
         "446",
         "76245",
         "1105045372211032384",
         "2024-03-04",
         "509860396",
         "Paul",
         "What a great host, this is the second time staying at Diogos accommodation, and got to say enjoyed every minute of my stay in rio. Totally safe and a warm thank you to the 2 security guards that secure this property. As Ive stated in my previous review this accommodation is situated in the perfect place with easy access to Copacabana beach (5-10min walk) ipanema beach (15min walk) shops and restaurants (5min walk)  taxis and metro station. Want to give a thank you to Solange too whowas so attentive through the stay. thanks again guys and defo see you soon"
        ],
        [
         "447",
         "76245",
         "1114483552171964812",
         "2024-03-17",
         "48323094",
         "Marcin",
         "Diogo was super helpful and very kind. apartament was enormous and well located. Good for big groups."
        ],
        [
         "449",
         "76245",
         "1138501040116541074",
         "2024-04-19",
         "3268016",
         "Camille",
         "Very well located <br/>Convenient apartment<br/>We had an issue with one broken bed when we arrives but it was replaced in 24h"
        ],
        [
         "450",
         "76245",
         "1139839086174990449",
         "2024-04-21",
         "371643402",
         "Nicole",
         "Acomoda os doze hóspedes super bem, boa localização e fácil comunicação com os proprietários!"
        ],
        [
         "451",
         "76245",
         "1160130055365467955",
         "2024-05-19",
         "26813545",
         "Milena",
         "Eu e meu grupo tivemos uma estadia ótima no espaço de Diogo em Copacabana. O apartamento é bem espaçoso, perto da praia e com ótimas comodidades. O Diogo foi sempre atencioso, garantindo que nós tivéssemos uma estadia confortável."
        ],
        [
         "452",
         "76245",
         "1166690541984618188",
         "2024-05-28",
         "577503606",
         "Mauro",
         "La pasamos muy bien, y flexibilizó todos los horarios segun nuestros requerimientos tanto in como out. muy recomendable"
        ],
        [
         "453",
         "76245",
         "1170363526562913768",
         "2024-06-02",
         "478777439",
         "Jose",
         "Foi um encontro de familia(12), dentro de um ambiente amplo limpo e totalmente adaptado as nossas necessidades. O apto com quartos enormes salas grande e confortaveis."
        ],
        [
         "454",
         "76245",
         "1246443543676046794",
         "2024-09-15",
         "105178054",
         "Mateus",
         "Apartamento espaçoso. Anfitrião atencioso e com comunicação clara. Espaço limpo e organizado. Localização próxima ao metrô e outros transportes públicos. Fácil acesso de carro e vaga no local. Experiência excelente! Recomendo."
        ],
        [
         "455",
         "76245",
         "1252909906647926492",
         "2024-09-24",
         "189410139",
         "Luis Felipe",
         "Apartamento aconchegante e bem conservado, Diogo muito solícito sempre! Recomendo a todos"
        ],
        [
         "456",
         "76245",
         "1263829644084652450",
         "2024-10-09",
         "31280183",
         "Ignacio",
         "Diogo fue muy atento en todo momento. El departamento es súper amplio y cómodo. La zona es ideal y muy tranquila. Súper recomendable"
        ],
        [
         "457",
         "76245",
         "1292143551824934518",
         "2024-11-17",
         "111981190",
         "Bruno",
         "Apartamento muito espaçoso! Bem localizado. Anúncio é fiel às características do imóvel."
        ],
        [
         "458",
         "76245",
         "1297915635572920733",
         "2024-11-25",
         "110145799",
         "Oscar",
         "Todo perfecto <br/>Lo único el ruido de la favela por la noche"
        ],
        [
         "459",
         "76245",
         "1317453453015041312",
         "2024-12-22",
         "170443904",
         "Pablo",
         "Excelente apartamento para grupos grandes. Cuenta con muchas camas y baños y los ambientes son amplios. Un comedor muy cómodo para 12 personas, la cocina con todo lo necesario. Lavarropas de gran capacidad. Portero en el edificio. La calle es segura y tranquila, con tiendas de todo tipo a una cuadra. <br/>Diogo y Dayane respondieron en seguida cada consulta y resolvieron inmediatamente si surgió algún inconveniente. Sin duda volvería a este apartamento en otra ocasión."
        ],
        [
         "460",
         "76245",
         "1326113744573000097",
         "2025-01-03",
         "385972752",
         "Matias",
         "Nuestra estadía fue sencillamente perfecta. Desde el momento en que llegamos, la casa superó nuestras expectativas: todo estaba impecable, en excelentes condiciones y tal cual se mostraba en las fotos. Nos sentimos como en casa gracias a su ambiente acogedor y a los detalles cuidadosamente pensados.<br/>La ubicación es inmejorable. Tener la playa a solo dos cuadras fue un lujo absoluto, ideal para disfrutar al máximo de cada día junto al mar. Además, la cercanía a locales y tiendas nos facilitó muchísimo la estadía, ya que siempre teníamos todo lo que necesitábamos al alcance.<br/>Un agradecimiento especial a Diogo, el anfitrión, quien realmente marcó la diferencia. Su atención fue excepcional: siempre amable, atento y disponible para cualquier consulta o necesidad que tuviéramos. Nos hizo sentir cuidados en todo momento.<br/>Recomendaría este lugar sin ninguna duda. Si buscan una combinación perfecta de comodidad, ubicación y excelente atención, este es el lugar. ¡Nos encantaría volver!"
        ],
        [
         "461",
         "76245",
         "1338516717965716812",
         "2025-01-20",
         "225003530",
         "Santiago",
         "Diogo’s place is really cool for big groups of people, with great capacity and distribution but also a good touch of style and decoration. We were a group of 10 friends and enjoyed the apartment a lot, with 3 showers with great water pressure and temperature it felt right at home. Each bedroom has privacy and ACs. The living is really spacious and comfy. Good kitchen and service area to wash and dry the clothes. The neighborhood is really peaceful and we walked to the ipanema beach with no problem."
        ],
        [
         "462",
         "76245",
         "1347875256482061342",
         "2025-02-02",
         "291045269",
         "Claudia",
         "Ubicación espaciosa, buena comunicación con el dueño. Le falta mejorar aires acondicionados (mucho ruido y solo las habitaciones tienen aire), ropa de cama y toallas."
        ],
        [
         "463",
         "76245",
         "1353736060097711263",
         "2025-02-10",
         "326917129",
         "Monique",
         "Foi exatamente como eu esperava. O apartamento amplo acomodou muito bem as 12 pessoas que viajavam comigo. Tinha varias toalhas diaponiveis. Ar condicionado funcionando. Mtos utensilios na cozinha e roupa de cama. O Diogo sempre respondia com mta gentileza e nos ajudou com as duvidas iniciais no check in. Localizacao eh mto estrategica. Mto perto da praia e do mercado e trabquila de ir caminhando pra Ipanema. Amamos a experiencia e recomendamos com certeza."
        ],
        [
         "464",
         "76245",
         "1358088977847109906",
         "2025-02-16",
         "436074921",
         "Millaray",
         "Muy buen hospedaje, cercano a la playa y supermercados.  Accesible al transporte (micros, metro, taxis, etc.) <br/>El anfitrión muy amable y preocupado por nuestra estadía, respondía rápido a las preguntas que se le realizaban. <br/>El departamento contaba con las suficientes comodidades para familia numerosa<br/>Muy recomendado"
        ],
        [
         "466",
         "76245",
         "1372540102654718716",
         "2025-03-08",
         "673262001",
         "Roberto",
         "Excelente opción! Tuvimos un percance con unos amigos y se mostraron muy prestos a ayudar, eso agradezco muchísimo. Soy muy amables, la casa es muy amplia y cercana a la playa. Totalmente recomendable."
        ],
        [
         "467",
         "76245",
         "1404484525396502487",
         "2025-04-21",
         "382968781",
         "Marcia",
         "A acomodação condiz exatamente como é divulgado. Apartamento amplo, bem limpo e organizado. Ótima localização, perto de tudo e todos os comércios. Diogo e sua assistente sempre respondem rápido e estão de prontidão para o que precisar. <br/>Voltaria com toda certeza."
        ],
        [
         "525",
         "17878",
         "1070986096417935746",
         "2024-01-17",
         "97789881",
         "Gabriela",
         "Amazing place! Matthias provided great recommendations, always made sure we felt comfortable. The apartment was like the pictures, lots of space and a beautiful balcony. Great host and location."
        ],
        [
         "526",
         "17878",
         "1097811978236184912",
         "2024-02-23",
         "398960236",
         "Joshua",
         "I had the best time and Rio and this airbnb was one of the highlights! It was right near the beach and clubs. I had an amazing time and felt like a local"
        ],
        [
         "527",
         "17878",
         "1121059537178672194",
         "2024-03-26",
         "280538458",
         "Joseph",
         "Matthias is a great host, very friendly, great communication and allowed me later check out. His home is in a great area, 1 block from the beach and 1 block from the metro. Nice coffee shops around.<br/>The apartment is as described, the terrace is great. It's big and spacious. It is on the first floor so there are people above you but you still get privacy as there is a big awning."
        ],
        [
         "528",
         "17878",
         "1125420914789068128",
         "2024-04-01",
         "3497888",
         "Paolo",
         "Cozy apartments, very close to the beach, loved the terrace!"
        ],
        [
         "529",
         "17878",
         "1129740723249422905",
         "2024-04-07",
         "148284793",
         "Ben",
         "Matthias was a fantastic host and the place was amazing. Matthias was very responsive every time I had a question and helped us out with an early check in and late check out when we had a late flight the day of check out. The place has a huge private balcony that we enjoyed and only 2 blocks from Copacabana beach and close to many restaurants (go to Pão & Companhia for a delicious breakfast buffet). The apartment was very clean and well stocked with extra towels, toilet paper, etc. We felt very safe as well because there were doormen who would let us in. 100% recommend this place."
        ],
        [
         "530",
         "17878",
         "1142059332654854537",
         "2024-04-24",
         "460872535",
         "Celio",
         "We had an amazing stay at this beautiful place. When we arrived, the apartment was very clean and looked better than the pictures. The location near the beaches of Copacabana is perfect. Most places were walking distance and otherwise you could be picked up right outside for an Uber. All the facilities were there and we felt super safe. The balcony is also a great addition.<br/>But, most importantly, Matthias is an amazing host. He had great tips to make our trip one to remember. It was very easy to make contact with Matthias and we could ask him literally anything. <br/>In short: we recommend this place to anybody!"
        ],
        [
         "531",
         "17878",
         "1155867167783790201",
         "2024-05-13",
         "2455727",
         "Fernanda",
         "This apartment is two blocks away from the beach and the Copacabana Palace. The high ceilings and enormous terrace makes it quite spacious, and the double windows (tested during Madonna’s concert!) make it quite well insulated. There’s AC in the bedrooms and living room, which is great. In terms of furniture/comfort, it could do with a few more pillows, low tables, etc, which is something we missed staying longer and with a baby. But otherwise really nice spot, and Matthias is a great host super responsive and flexible."
        ],
        [
         "532",
         "17878",
         "1174641565396602712",
         "2024-06-08",
         "109459465",
         "Tennyson",
         "Great spot! This Airbnb was conveniently located near plenty of restaurants, which made grabbing a bite super easy. Plus, it's just a block away from the beach, so you can easily take a stroll or enjoy some downtime by the ocean. Overall, a solid location for those looking to relax and explore the area. Would recommend!"
        ],
        [
         "533",
         "17878",
         "1194281433079053657",
         "2024-07-05",
         "46412711",
         "Andrae",
         "Great apartment in a heart of Copacabana a block away from the beach.  Apartment was spacious and had everything you needed to feel at home. Security was very friendly and great help entire time I stayed. Matthias was very responsive and gave a lot of gave a lot of great recommendations. I would recommend this apartment for smallgroups for families."
        ],
        [
         "534",
         "17878",
         "1213805409760158076",
         "2024-08-01",
         "157791687",
         "Eva",
         "Had a great stay at this airbnb. The location was great: the beach was a 2 minute walk away. Their were lots of restaurants surrounding the apartment and everything else was doable with an Uber. <br/>The apartment itself was spacious with a large balcony. Was a great getaway to explore Rio.  <br/>Would recommend."
        ],
        [
         "535",
         "17878",
         "1225408581319601420",
         "2024-08-17",
         "569820838",
         "Jana",
         "The pictures of the place is from a very long time ago, the reality is an old dirty smelly apartment. Mould smell, old house without ventilation smell, very dirty wall, bathroom dirty, a super super BLACK mould bathroom curtain, kitchen is not clean , mould stuff there as well. Beds are not comfortable very old too, pillows are tin and hard. The sofas has been through some ruff years, all scratches nd dirty, super stinky. <br/>The air con works, WiFi works and it’s close to the beach. That’s the “good stuffy” the host responds fast ."
        ],
        [
         "536",
         "17878",
         "1229042864835057294",
         "2024-08-22",
         "586892725",
         "Mustafa",
         "Not a luxury apartment by any means but the ideal place if you’re looking for the perfect location right next to copacabana beach. Lots of shops, restaurants and easily accessible. The building is fine, clean although the bathroom and the elevator feel and look dated, overall it is good value for money based on its location. If I’m staying in Rio, will use this property again."
        ],
        [
         "537",
         "17878",
         "1241361995593147190",
         "2024-09-08",
         "322415601",
         "Nicolas Sylvain Pierre Daniel",
         "L’appartement est très bien placé, conforme aux photos et très agréable à vivre avec un grand salon et une belle terrasse. La résidence est sécurisé, je recommande."
        ],
        [
         "538",
         "17878",
         "1255115408530739544",
         "2024-09-27",
         "44689560",
         "Lucas",
         "Apartamento bem equipado, bem localizado e com muitas coisas nos arredores, amamos passar a semana aí!"
        ],
        [
         "539",
         "17878",
         "1259427505512372451",
         "2024-10-03",
         "307848724",
         "Euan",
         "The flat was exactly as it appears in photos. Very clean, ample space, large bedrooms. Balcony was a nice touch. Location is excellent and the doorman downstairs is convenient. Highly recommend this property and would stay again."
        ],
        [
         "540",
         "17878",
         "1321116138694453175",
         "2024-12-27",
         "492732261",
         "Juan Ignacio",
         "Excelente estadía. Todo estaba limpio , y ordenado como se mostraba en las fotos. La ubicación es excelente y mathias siempre respondió rápido mis consultas .<br/>Recomiendo 100% este departamento .<br/>gracias"
        ],
        [
         "541",
         "17878",
         "1326882374774767531",
         "2025-01-04",
         "4659040",
         "Fernando",
         "Excellent experience! Particularly for our purpose of spending New Year’s Eve,  the location met 100% our expectations. Also, the host is super responsive, accurately describes the property and it was very proactive to resolve any matters that came up during our stay. Will definitely come back."
        ],
        [
         "542",
         "17878",
         "1339253210683608354",
         "2025-01-21",
         "3872262",
         "Marcio",
         "A 150 metros de la playa, el departamento está muy bien para pasar unos días. Todo funcional y en condiciones. Cocina de aspecto básico pero con todo lo necesario (cafetera/tostadora/microondas/cocina/horno/filtro de agua para beber). Es una calle interna que puede parecer peligrosa al principio pero no es diferente a muchas zonas de RIO. Hay personal en la puerta 24/7 muy atento. Matthias nos brindó todas las instrucciones y nos ofreció facilidades. Pasamos una estadía muy buena y tranquila. Muy conforme en general."
        ],
        [
         "543",
         "17878",
         "1350788577128214610",
         "2025-02-06",
         "23226515",
         "Amina",
         "My husband and I really had a great time at the appartment. Fantastic location, close to the beach, restaurants, shopping, metro and more! I recommend this place if you want to enjoy Rio and the hot weather! <br/>the appartment was clean and huge balcony to enjoy the evenings."
        ],
        [
         "544",
         "17878",
         "1363142854089548420",
         "2025-02-23",
         "236649239",
         "Katherine",
         "Matthias es un excelente anfitrión, muy amable. El departamento es muy lindo, limpio, cómodo y tiene una excelente ubicación. Recomiendo 100%"
        ],
        [
         "545",
         "17878",
         "1386989522265115924",
         "2025-03-28",
         "265751428",
         "Florin",
         "Best host I had on Airbnb, very easy and efficient communication, the flat is 5 minutes away from the Copacabana beach, plenty of coffee shops and local restaurants to choose from. Everything you need within few minutes walk. <br/>The flat was cosy and very spacious with outstanding level of cleanliness, it is very useful to have a balcony in a hot climate.<br/>Highly recommended"
        ],
        [
         "546",
         "17878",
         "1397902427238598064",
         "2025-04-12",
         "48492793",
         "Hilde",
         "Appartement gelegen op ideale locatie vlakbij het strand, goede prijs kwaliteitverhouding."
        ],
        [
         "547",
         "17878",
         "1405902599554479723",
         "2025-04-23",
         "203079884",
         "Mona Huyen",
         "Amazing stay and the location is perfect for your Rio adventures!"
        ],
        [
         "548",
         "17878",
         "1409497151860303715",
         "2025-04-28",
         "4173787",
         "Carrie",
         "Great location- minutes from the beach. Matthias was a great communicator! Place is simple and gets great light."
        ],
        [
         "549",
         "17878",
         "1420437486362557222",
         "2025-05-13",
         "474978963",
         "Guilherme",
         "Estadia perfeita! Ficamos 13 dias no apartamento e nos sentimos em casa. A varanda é perfeita, a localização também. Tivemos acesso a absolutamente tudo o tempo todo. Matthias tem um tesouro em mãos, esse apartamento é aconchegante, bem decorado, com boa conexão de internet e no coração de Copa. Extremamente contente em ter selecionado essa estadia para minha viagem!"
        ],
        [
         "550",
         "17878",
         "1426902222960248944",
         "2025-05-22",
         "186489729",
         "Émilie",
         "Nous avons adoré notre séjour à Copacabana! L’appartement était parfait pour 2 filles. Quartier relativement sécuritaire et tout près de la plage Copacabana. Merci à Matthias."
        ]
       ],
       "shape": {
        "columns": 6,
        "rows": 217879
       }
      },
      "text/html": [
       "<div>\n",
       "<style scoped>\n",
       "    .dataframe tbody tr th:only-of-type {\n",
       "        vertical-align: middle;\n",
       "    }\n",
       "\n",
       "    .dataframe tbody tr th {\n",
       "        vertical-align: top;\n",
       "    }\n",
       "\n",
       "    .dataframe thead th {\n",
       "        text-align: right;\n",
       "    }\n",
       "</style>\n",
       "<table border=\"1\" class=\"dataframe\">\n",
       "  <thead>\n",
       "    <tr style=\"text-align: right;\">\n",
       "      <th></th>\n",
       "      <th>listing_id</th>\n",
       "      <th>id</th>\n",
       "      <th>date</th>\n",
       "      <th>reviewer_id</th>\n",
       "      <th>reviewer_name</th>\n",
       "      <th>comments</th>\n",
       "    </tr>\n",
       "  </thead>\n",
       "  <tbody>\n",
       "    <tr>\n",
       "      <th>156</th>\n",
       "      <td>75504</td>\n",
       "      <td>1413892745518166819</td>\n",
       "      <td>2025-05-04</td>\n",
       "      <td>666671602</td>\n",
       "      <td>Camila</td>\n",
       "      <td>A estadia foi maravilhosa! Fomos para assistir...</td>\n",
       "    </tr>\n",
       "    <tr>\n",
       "      <th>355</th>\n",
       "      <td>76245</td>\n",
       "      <td>1069541646158229802</td>\n",
       "      <td>2024-01-15</td>\n",
       "      <td>18520550</td>\n",
       "      <td>Eduardo</td>\n",
       "      <td>O apartamento é exatamente como nas fotos e na...</td>\n",
       "    </tr>\n",
       "    <tr>\n",
       "      <th>444</th>\n",
       "      <td>76245</td>\n",
       "      <td>1091271840149922183</td>\n",
       "      <td>2024-02-14</td>\n",
       "      <td>23742384</td>\n",
       "      <td>Emanuel</td>\n",
       "      <td>Fue una gran experiencia de carnaval con amigo...</td>\n",
       "    </tr>\n",
       "    <tr>\n",
       "      <th>445</th>\n",
       "      <td>76245</td>\n",
       "      <td>1094208407369623864</td>\n",
       "      <td>2024-02-18</td>\n",
       "      <td>52689096</td>\n",
       "      <td>Anna Clara</td>\n",
       "      <td>Apartamento é maravilhoso.&lt;br/&gt;Tudo mto organi...</td>\n",
       "    </tr>\n",
       "    <tr>\n",
       "      <th>446</th>\n",
       "      <td>76245</td>\n",
       "      <td>1105045372211032384</td>\n",
       "      <td>2024-03-04</td>\n",
       "      <td>509860396</td>\n",
       "      <td>Paul</td>\n",
       "      <td>What a great host, this is the second time sta...</td>\n",
       "    </tr>\n",
       "    <tr>\n",
       "      <th>...</th>\n",
       "      <td>...</td>\n",
       "      <td>...</td>\n",
       "      <td>...</td>\n",
       "      <td>...</td>\n",
       "      <td>...</td>\n",
       "      <td>...</td>\n",
       "    </tr>\n",
       "    <tr>\n",
       "      <th>553292</th>\n",
       "      <td>1445085593505539396</td>\n",
       "      <td>1447155414860951392</td>\n",
       "      <td>2025-06-19</td>\n",
       "      <td>219850385</td>\n",
       "      <td>Valério</td>\n",
       "      <td>Apartamento show, nota dez!!! Banheiro com chu...</td>\n",
       "    </tr>\n",
       "    <tr>\n",
       "      <th>553293</th>\n",
       "      <td>1445085593505539396</td>\n",
       "      <td>1449393364569164333</td>\n",
       "      <td>2025-06-22</td>\n",
       "      <td>152967290</td>\n",
       "      <td>Fernanda</td>\n",
       "      <td>Ótima localização !&lt;br/&gt;Apto impecável e muito...</td>\n",
       "    </tr>\n",
       "    <tr>\n",
       "      <th>553294</th>\n",
       "      <td>1445121652947657876</td>\n",
       "      <td>1448624354737633950</td>\n",
       "      <td>2025-06-21</td>\n",
       "      <td>234146322</td>\n",
       "      <td>Josana</td>\n",
       "      <td>Ficamos felizes com a escolha, pois o apartame...</td>\n",
       "    </tr>\n",
       "    <tr>\n",
       "      <th>553296</th>\n",
       "      <td>1445922773284650234</td>\n",
       "      <td>1449377081691974585</td>\n",
       "      <td>2025-06-22</td>\n",
       "      <td>148123400</td>\n",
       "      <td>Renato</td>\n",
       "      <td>Apartamento ótimo para rápidas estadias, limpo...</td>\n",
       "    </tr>\n",
       "    <tr>\n",
       "      <th>553298</th>\n",
       "      <td>1445643649071156354</td>\n",
       "      <td>1451542250963550113</td>\n",
       "      <td>2025-06-25</td>\n",
       "      <td>480530999</td>\n",
       "      <td>Diego</td>\n",
       "      <td>Nuestra estadía de 5 noches en el departamento...</td>\n",
       "    </tr>\n",
       "  </tbody>\n",
       "</table>\n",
       "<p>217879 rows × 6 columns</p>\n",
       "</div>"
      ],
      "text/plain": [
       "                 listing_id                   id        date  reviewer_id  \\\n",
       "156                   75504  1413892745518166819  2025-05-04    666671602   \n",
       "355                   76245  1069541646158229802  2024-01-15     18520550   \n",
       "444                   76245  1091271840149922183  2024-02-14     23742384   \n",
       "445                   76245  1094208407369623864  2024-02-18     52689096   \n",
       "446                   76245  1105045372211032384  2024-03-04    509860396   \n",
       "...                     ...                  ...         ...          ...   \n",
       "553292  1445085593505539396  1447155414860951392  2025-06-19    219850385   \n",
       "553293  1445085593505539396  1449393364569164333  2025-06-22    152967290   \n",
       "553294  1445121652947657876  1448624354737633950  2025-06-21    234146322   \n",
       "553296  1445922773284650234  1449377081691974585  2025-06-22    148123400   \n",
       "553298  1445643649071156354  1451542250963550113  2025-06-25    480530999   \n",
       "\n",
       "       reviewer_name                                           comments  \n",
       "156           Camila  A estadia foi maravilhosa! Fomos para assistir...  \n",
       "355          Eduardo  O apartamento é exatamente como nas fotos e na...  \n",
       "444          Emanuel  Fue una gran experiencia de carnaval con amigo...  \n",
       "445       Anna Clara  Apartamento é maravilhoso.<br/>Tudo mto organi...  \n",
       "446             Paul  What a great host, this is the second time sta...  \n",
       "...              ...                                                ...  \n",
       "553292       Valério  Apartamento show, nota dez!!! Banheiro com chu...  \n",
       "553293      Fernanda  Ótima localização !<br/>Apto impecável e muito...  \n",
       "553294        Josana  Ficamos felizes com a escolha, pois o apartame...  \n",
       "553296        Renato  Apartamento ótimo para rápidas estadias, limpo...  \n",
       "553298         Diego  Nuestra estadía de 5 noches en el departamento...  \n",
       "\n",
       "[217879 rows x 6 columns]"
      ]
     },
     "execution_count": 148,
     "metadata": {},
     "output_type": "execute_result"
    }
   ],
   "source": [
    "reviews"
   ]
  },
  {
   "cell_type": "code",
   "execution_count": 149,
   "id": "l59fjviygr9",
   "metadata": {},
   "outputs": [
    {
     "name": "stdout",
     "output_type": "stream",
     "text": [
      "=== VALIDAÇÃO DOS DADOS LIMPOS ===\n",
      "Total de listings: 13321\n",
      "Total de reviews: 217879\n",
      "Total de amenities únicos: 3889\n",
      "\n",
      "Bairros incluídos: ['Copacabana' 'Ipanema' 'Leblon' 'Lagoa' 'Jardim Botânico']\n",
      "Tipos de propriedade: ['Entire condo' 'Entire rental unit' 'Entire loft'\n",
      " 'Entire serviced apartment' 'Entire townhouse' 'Entire home'\n",
      " 'Entire vacation home' 'Entire guest suite' 'Entire place' 'Tiny home'\n",
      " 'Entire guesthouse' 'Entire villa' 'Casa particular' 'Entire cottage']\n",
      "\n",
      "Range de preços: $74.00 - $35409.00\n",
      "Range de datas dos reviews: 2024-01-01 - 2025-07-03\n",
      "\n",
      "Valores NaN restantes:\n",
      "Listings: 894\n",
      "Reviews: 1\n",
      "\n",
      "Tamanho médio dos comentários: 251.4 caracteres\n"
     ]
    }
   ],
   "source": [
    "# Validações dos dados limpos\n",
    "print(\"=== VALIDAÇÃO DOS DADOS LIMPOS ===\")\n",
    "print(f\"Total de listings: {len(listings)}\")\n",
    "print(f\"Total de reviews: {len(reviews)}\")\n",
    "print(f\"Total de amenities únicos: {amenities_exploded['amenity'].nunique()}\")\n",
    "\n",
    "print(f\"\\nBairros incluídos: {listings['neighbourhood_cleansed'].unique()}\")\n",
    "print(f\"Tipos de propriedade: {listings['property_type'].unique()}\")\n",
    "\n",
    "print(f\"\\nRange de preços: ${listings['price'].min():.2f} - ${listings['price'].max():.2f}\")\n",
    "print(f\"Range de datas dos reviews: {reviews['date'].min()} - {reviews['date'].max()}\")\n",
    "\n",
    "print(f\"\\nValores NaN restantes:\")\n",
    "print(f\"Listings: {listings.isnull().sum().sum()}\")\n",
    "print(f\"Reviews: {reviews.isnull().sum().sum()}\")\n",
    "\n",
    "print(f\"\\nTamanho médio dos comentários: {reviews['comments'].str.len().mean():.1f} caracteres\")"
   ]
  },
  {
   "cell_type": "code",
   "execution_count": null,
   "id": "b00ed0ca",
   "metadata": {},
   "outputs": [],
   "source": []
  },
  {
   "cell_type": "code",
   "execution_count": null,
   "id": "984184e4",
   "metadata": {},
   "outputs": [],
   "source": []
  }
 ],
 "metadata": {
  "kernelspec": {
   "display_name": "Python 3",
   "language": "python",
   "name": "python3"
  },
  "language_info": {
   "codemirror_mode": {
    "name": "ipython",
    "version": 3
   },
   "file_extension": ".py",
   "mimetype": "text/x-python",
   "name": "python",
   "nbconvert_exporter": "python",
   "pygments_lexer": "ipython3",
   "version": "3.12.8"
  }
 },
 "nbformat": 4,
 "nbformat_minor": 5
}
