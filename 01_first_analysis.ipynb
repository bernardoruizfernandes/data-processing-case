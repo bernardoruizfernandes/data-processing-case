{
 "cells": [
  {
   "cell_type": "markdown",
   "metadata": {},
   "source": [
    "# First Analysis"
   ]
  },
  {
   "cell_type": "markdown",
   "metadata": {},
   "source": [
    "## Imports and Loads"
   ]
  },
  {
   "cell_type": "code",
   "execution_count": 11,
   "metadata": {},
   "outputs": [],
   "source": [
    "import pandas as pd\n"
   ]
  },
  {
   "cell_type": "code",
   "execution_count": 12,
   "metadata": {},
   "outputs": [],
   "source": [
    "# Load datasets\n",
    "listings = pd.read_parquet('data/raw/listings.parquet')\n",
    "reviews = pd.read_parquet('data/raw/reviews.parquet')"
   ]
  },
  {
   "cell_type": "markdown",
   "metadata": {},
   "source": [
    "## Step 1: Data Overview"
   ]
  },
  {
   "cell_type": "code",
   "execution_count": 13,
   "metadata": {},
   "outputs": [
    {
     "data": {
      "application/vnd.microsoft.datawrangler.viewer.v0+json": {
       "columns": [
        {
         "name": "index",
         "rawType": "object",
         "type": "string"
        },
        {
         "name": "id",
         "rawType": "float64",
         "type": "float"
        },
        {
         "name": "listing_url",
         "rawType": "object",
         "type": "unknown"
        },
        {
         "name": "scrape_id",
         "rawType": "float64",
         "type": "float"
        },
        {
         "name": "last_scraped",
         "rawType": "object",
         "type": "unknown"
        },
        {
         "name": "source",
         "rawType": "object",
         "type": "unknown"
        },
        {
         "name": "name",
         "rawType": "object",
         "type": "unknown"
        },
        {
         "name": "description",
         "rawType": "object",
         "type": "unknown"
        },
        {
         "name": "neighborhood_overview",
         "rawType": "object",
         "type": "unknown"
        },
        {
         "name": "picture_url",
         "rawType": "object",
         "type": "unknown"
        },
        {
         "name": "host_id",
         "rawType": "float64",
         "type": "float"
        },
        {
         "name": "host_url",
         "rawType": "object",
         "type": "unknown"
        },
        {
         "name": "host_name",
         "rawType": "object",
         "type": "unknown"
        },
        {
         "name": "host_since",
         "rawType": "object",
         "type": "unknown"
        },
        {
         "name": "host_location",
         "rawType": "object",
         "type": "unknown"
        },
        {
         "name": "host_about",
         "rawType": "object",
         "type": "unknown"
        },
        {
         "name": "host_response_time",
         "rawType": "object",
         "type": "unknown"
        },
        {
         "name": "host_response_rate",
         "rawType": "object",
         "type": "unknown"
        },
        {
         "name": "host_acceptance_rate",
         "rawType": "object",
         "type": "unknown"
        },
        {
         "name": "host_is_superhost",
         "rawType": "object",
         "type": "unknown"
        },
        {
         "name": "host_thumbnail_url",
         "rawType": "object",
         "type": "unknown"
        },
        {
         "name": "host_picture_url",
         "rawType": "object",
         "type": "unknown"
        },
        {
         "name": "host_neighbourhood",
         "rawType": "object",
         "type": "unknown"
        },
        {
         "name": "host_listings_count",
         "rawType": "float64",
         "type": "float"
        },
        {
         "name": "host_total_listings_count",
         "rawType": "float64",
         "type": "float"
        },
        {
         "name": "host_verifications",
         "rawType": "object",
         "type": "unknown"
        },
        {
         "name": "host_has_profile_pic",
         "rawType": "object",
         "type": "unknown"
        },
        {
         "name": "host_identity_verified",
         "rawType": "object",
         "type": "unknown"
        },
        {
         "name": "neighbourhood",
         "rawType": "object",
         "type": "unknown"
        },
        {
         "name": "neighbourhood_cleansed",
         "rawType": "object",
         "type": "unknown"
        },
        {
         "name": "neighbourhood_group_cleansed",
         "rawType": "float64",
         "type": "float"
        },
        {
         "name": "latitude",
         "rawType": "float64",
         "type": "float"
        },
        {
         "name": "longitude",
         "rawType": "float64",
         "type": "float"
        },
        {
         "name": "property_type",
         "rawType": "object",
         "type": "unknown"
        },
        {
         "name": "room_type",
         "rawType": "object",
         "type": "unknown"
        },
        {
         "name": "accommodates",
         "rawType": "float64",
         "type": "float"
        },
        {
         "name": "bathrooms",
         "rawType": "float64",
         "type": "float"
        },
        {
         "name": "bathrooms_text",
         "rawType": "object",
         "type": "unknown"
        },
        {
         "name": "bedrooms",
         "rawType": "float64",
         "type": "float"
        },
        {
         "name": "beds",
         "rawType": "float64",
         "type": "float"
        },
        {
         "name": "amenities",
         "rawType": "object",
         "type": "unknown"
        },
        {
         "name": "price",
         "rawType": "object",
         "type": "unknown"
        },
        {
         "name": "minimum_nights",
         "rawType": "float64",
         "type": "float"
        },
        {
         "name": "maximum_nights",
         "rawType": "float64",
         "type": "float"
        },
        {
         "name": "minimum_minimum_nights",
         "rawType": "float64",
         "type": "float"
        },
        {
         "name": "maximum_minimum_nights",
         "rawType": "float64",
         "type": "float"
        },
        {
         "name": "minimum_maximum_nights",
         "rawType": "float64",
         "type": "float"
        },
        {
         "name": "maximum_maximum_nights",
         "rawType": "float64",
         "type": "float"
        },
        {
         "name": "minimum_nights_avg_ntm",
         "rawType": "float64",
         "type": "float"
        },
        {
         "name": "maximum_nights_avg_ntm",
         "rawType": "float64",
         "type": "float"
        },
        {
         "name": "calendar_updated",
         "rawType": "float64",
         "type": "float"
        },
        {
         "name": "has_availability",
         "rawType": "object",
         "type": "unknown"
        },
        {
         "name": "availability_30",
         "rawType": "float64",
         "type": "float"
        },
        {
         "name": "availability_60",
         "rawType": "float64",
         "type": "float"
        },
        {
         "name": "availability_90",
         "rawType": "float64",
         "type": "float"
        },
        {
         "name": "availability_365",
         "rawType": "float64",
         "type": "float"
        },
        {
         "name": "calendar_last_scraped",
         "rawType": "object",
         "type": "unknown"
        },
        {
         "name": "number_of_reviews",
         "rawType": "float64",
         "type": "float"
        },
        {
         "name": "number_of_reviews_ltm",
         "rawType": "float64",
         "type": "float"
        },
        {
         "name": "number_of_reviews_l30d",
         "rawType": "float64",
         "type": "float"
        },
        {
         "name": "availability_eoy",
         "rawType": "float64",
         "type": "float"
        },
        {
         "name": "number_of_reviews_ly",
         "rawType": "float64",
         "type": "float"
        },
        {
         "name": "estimated_occupancy_l365d",
         "rawType": "float64",
         "type": "float"
        },
        {
         "name": "estimated_revenue_l365d",
         "rawType": "float64",
         "type": "float"
        },
        {
         "name": "first_review",
         "rawType": "object",
         "type": "unknown"
        },
        {
         "name": "last_review",
         "rawType": "object",
         "type": "unknown"
        },
        {
         "name": "review_scores_rating",
         "rawType": "float64",
         "type": "float"
        },
        {
         "name": "review_scores_accuracy",
         "rawType": "float64",
         "type": "float"
        },
        {
         "name": "review_scores_cleanliness",
         "rawType": "float64",
         "type": "float"
        },
        {
         "name": "review_scores_checkin",
         "rawType": "float64",
         "type": "float"
        },
        {
         "name": "review_scores_communication",
         "rawType": "float64",
         "type": "float"
        },
        {
         "name": "review_scores_location",
         "rawType": "float64",
         "type": "float"
        },
        {
         "name": "review_scores_value",
         "rawType": "float64",
         "type": "float"
        },
        {
         "name": "license",
         "rawType": "float64",
         "type": "float"
        },
        {
         "name": "instant_bookable",
         "rawType": "object",
         "type": "unknown"
        },
        {
         "name": "calculated_host_listings_count",
         "rawType": "float64",
         "type": "float"
        },
        {
         "name": "calculated_host_listings_count_entire_homes",
         "rawType": "float64",
         "type": "float"
        },
        {
         "name": "calculated_host_listings_count_private_rooms",
         "rawType": "float64",
         "type": "float"
        },
        {
         "name": "calculated_host_listings_count_shared_rooms",
         "rawType": "float64",
         "type": "float"
        },
        {
         "name": "reviews_per_month",
         "rawType": "float64",
         "type": "float"
        }
       ],
       "ref": "7ad85012-3c82-4da4-ac2f-ded2cd4841f7",
       "rows": [
        [
         "count",
         "42572.0",
         "42572",
         "42572.0",
         "42572",
         "42572",
         "42572",
         "41561",
         "16513",
         "42572",
         "42572.0",
         "42572",
         "41092",
         "41029",
         "32724",
         "19397",
         "34568",
         "34568",
         "37578",
         "41196",
         "41029",
         "41029",
         "36052",
         "41029.0",
         "41029.0",
         "41029",
         "41029",
         "41029",
         "16513",
         "42572",
         "0.0",
         "42572.0",
         "42572.0",
         "42572",
         "42572",
         "42572.0",
         "38951.0",
         "42516",
         "41836.0",
         "38981.0",
         "42572",
         "38992",
         "42572.0",
         "42572.0",
         "42567.0",
         "42567.0",
         "42567.0",
         "42567.0",
         "42572.0",
         "42572.0",
         "0.0",
         "42116",
         "42572.0",
         "42572.0",
         "42572.0",
         "42572.0",
         "42572",
         "42572.0",
         "42572.0",
         "42572.0",
         "42572.0",
         "42572.0",
         "42572.0",
         "38992.0",
         "33949",
         "33949",
         "33949.0",
         "33942.0",
         "33943.0",
         "33942.0",
         "33942.0",
         "33942.0",
         "33942.0",
         "0.0",
         "42572",
         "42572.0",
         "42572.0",
         "42572.0",
         "42572.0",
         "33949.0"
        ],
        [
         "unique",
         null,
         "42572",
         null,
         "8",
         "2",
         "40289",
         "38004",
         "14274",
         "41726",
         null,
         "24935",
         "7058",
         "4948",
         "626",
         "8725",
         "4",
         "85",
         "100",
         "2",
         "22719",
         "22719",
         "591",
         null,
         null,
         "7",
         "2",
         "2",
         "252",
         "154",
         null,
         null,
         null,
         "82",
         "4",
         null,
         null,
         "48",
         null,
         null,
         "39085",
         "2434",
         null,
         null,
         null,
         null,
         null,
         null,
         null,
         null,
         null,
         "1",
         null,
         null,
         null,
         null,
         "8",
         null,
         null,
         null,
         null,
         null,
         null,
         null,
         "3576",
         "1419",
         null,
         null,
         null,
         null,
         null,
         null,
         null,
         null,
         "2",
         null,
         null,
         null,
         null,
         null
        ],
        [
         "top",
         null,
         "https://www.airbnb.com/rooms/17878",
         null,
         "2025-06-27",
         "city scrape",
         "Apartamento em Copacabana",
         "Relax with the whole family in this quiet accommodation.",
         "Copacabana is located in Rio de Janeiro's stunning South Zone and is widely recognized for its beautiful beach and exuberant promenade lined with black and white Portuguese stones that form a mosaic in the shape of ocean waves. In addition to this natural beauty, a variety of conveniences await just a few steps away, including markets, pharmacies, restaurants, snack bars and bars, making your stay even more comfortable and practical.<br /><br />Be sure to explore the Ipanema and Arpoador neighborhoods, which are within walking distance of Copacabana, allowing for a pleasant walk or bike ride along the way.<br /><br />During your stay, a must-see is the Copacabana Fort, a historic landmark that offers a fascinating perspective of the area. And when it comes to appreciating natural beauty in all its splendor, don't miss the opportunity to witness the city's most breathtaking sunset from the majestic Pedra do Arpoador, a truly captivating setting.",
         "https://a0.muscache.com/pictures/dc1b2280-007c-426f-ba40-e6288979c77a.jpg",
         null,
         "https://www.airbnb.com/users/show/6000862",
         "Daniel",
         "2013-04-19",
         "Rio de Janeiro, Brazil",
         "Olá!\n\nAqui quem fala é o Omar da Omar do Rio.\n\nComecei minha história no Airbnb em 2013, alugando um quarto na minha casa para pagar as dívidas da minha mãe.\n\nTive oportunidade de hospedar pessoas do mundo todo e isso me despertou também o quê é hoje uma grande paixão: a hospitalidade.\n\nFundei a Omar do Rio em 2017 e hoje somos mais de 90 colaboradores dedicados que cuidamos de mais de 250 acomodações dentro do estado do RJ.\n\nVamos Juntos?",
         "within an hour",
         "100%",
         "100%",
         "f",
         "https://a0.muscache.com/defaults/user_pic-50x50.png?v=3",
         "https://a0.muscache.com/defaults/user_pic-225x225.png?v=3",
         "Copacabana",
         null,
         null,
         "['email', 'phone']",
         "t",
         "t",
         "Rio de Janeiro, Brazil",
         "Copacabana",
         null,
         null,
         null,
         "Entire rental unit",
         "Entire home/apt",
         null,
         null,
         "1 bath",
         null,
         null,
         "[\"TV\", \"Kitchen\", \"Washer\", \"Air conditioning\", \"Wifi\"]",
         "$300.00",
         null,
         null,
         null,
         null,
         null,
         null,
         null,
         null,
         null,
         "t",
         null,
         null,
         null,
         null,
         "2025-06-27",
         null,
         null,
         null,
         null,
         null,
         null,
         null,
         "2025-03-05",
         "2025-06-22",
         null,
         null,
         null,
         null,
         null,
         null,
         null,
         null,
         "f",
         null,
         null,
         null,
         null,
         null
        ],
        [
         "freq",
         null,
         "1",
         null,
         "11944",
         "38994",
         "174",
         "262",
         "176",
         "15",
         null,
         "226",
         "431",
         "235",
         "25166",
         "263",
         "21965",
         "24221",
         "8332",
         "27260",
         "1508",
         "1508",
         "11086",
         null,
         null,
         "32136",
         "39518",
         "33878",
         "10781",
         "13099",
         null,
         null,
         null,
         "27839",
         "33990",
         null,
         null,
         "21366",
         null,
         null,
         "202",
         "418",
         null,
         null,
         null,
         null,
         null,
         null,
         null,
         null,
         null,
         "42116",
         null,
         null,
         null,
         null,
         "11944",
         null,
         null,
         null,
         null,
         null,
         null,
         null,
         "508",
         "2685",
         null,
         null,
         null,
         null,
         null,
         null,
         null,
         null,
         "32772",
         null,
         null,
         null,
         null,
         null
        ],
        [
         "mean",
         "7.837188969226714e+17",
         null,
         "20250624193519.0",
         null,
         null,
         null,
         null,
         null,
         null,
         "231579140.031664",
         null,
         null,
         null,
         null,
         null,
         null,
         null,
         null,
         null,
         null,
         null,
         null,
         "13.33863852397085",
         "23.89412366862463",
         null,
         null,
         null,
         null,
         null,
         null,
         "-22.965791192607057",
         "-43.24781134497869",
         null,
         null,
         "3.9452222117823923",
         "1.4860722446150292",
         null,
         "1.512238263696338",
         "2.3541981991226497",
         null,
         null,
         "3.638964577656676",
         "362.241943061167",
         "3.379707284986022",
         "4.33744449925999",
         "448.2130053797543",
         "479.04517584043975",
         "3.67955933477403",
         "461.6855163017946",
         null,
         null,
         "19.044912148830218",
         "40.823428544583294",
         "63.508033449215446",
         "199.26407028093584",
         null,
         "25.11690782674058",
         "8.885464624635912",
         "0.5855491872592314",
         "123.12275674152025",
         "6.561730715023959",
         "54.05240533684112",
         "21034.138284776363",
         null,
         null,
         "4.806461456891219",
         "4.819612574391609",
         "4.77522198980644",
         "4.889382181368217",
         "4.881811914442284",
         "4.8595895940133165",
         "4.72460874432856",
         null,
         null,
         "9.63642769895706",
         "8.766842055811331",
         "0.7710232077421779",
         "0.09409940806163676",
         "1.204918259742555"
        ],
        [
         "std",
         "5.5219591706711974e+17",
         null,
         "0.0",
         null,
         null,
         null,
         null,
         null,
         null,
         "215255513.977038",
         null,
         null,
         null,
         null,
         null,
         null,
         null,
         null,
         null,
         null,
         null,
         null,
         "45.86445661434463",
         "108.3825400363132",
         null,
         null,
         null,
         null,
         null,
         null,
         "0.03558238890084238",
         "0.09990627999884345",
         null,
         null,
         "2.2840616846288344",
         "0.9695120617146064",
         null,
         "0.9965967427911961",
         "2.132745657510141",
         null,
         null,
         "14.795695789036662",
         "377.2348178158788",
         "13.190848780352793",
         "15.015812545345366",
         "427.1985900436111",
         "436.6207098535925",
         "13.484279388278537",
         "425.59793523585506",
         null,
         null,
         "11.527845420187829",
         "21.694681868065008",
         "31.48407168969503",
         "126.35944983140209",
         null,
         "47.330773672368224",
         "13.088714671480181",
         "1.1796572471629825",
         "65.81912600659147",
         "11.897583091543854",
         "71.7912763798977",
         "97315.49621971627",
         null,
         null,
         "0.37451777308249357",
         "0.3663017579186774",
         "0.4054583280517765",
         "0.29966226062703116",
         "0.3107696828849501",
         "0.3087880692069064",
         "0.4164770273966565",
         null,
         null,
         "25.66014312866516",
         "25.503866338113074",
         "2.041901705799044",
         "0.9898244093082779",
         "1.2661091345475481"
        ],
        [
         "min",
         "17878.0",
         null,
         "20250624193519.0",
         null,
         null,
         null,
         null,
         null,
         null,
         "3607.0",
         null,
         null,
         null,
         null,
         null,
         null,
         null,
         null,
         null,
         null,
         null,
         null,
         "1.0",
         "1.0",
         null,
         null,
         null,
         null,
         null,
         null,
         "-23.07292",
         "-43.72300934046507",
         null,
         null,
         "1.0",
         "0.0",
         null,
         "0.0",
         "0.0",
         null,
         null,
         "1.0",
         "1.0",
         "1.0",
         "1.0",
         "1.0",
         "1.0",
         "1.0",
         "1.0",
         null,
         null,
         "0.0",
         "0.0",
         "0.0",
         "0.0",
         null,
         "0.0",
         "0.0",
         "0.0",
         "0.0",
         "0.0",
         "0.0",
         "0.0",
         null,
         null,
         "0.0",
         "1.0",
         "1.0",
         "1.0",
         "1.0",
         "1.0",
         "1.0",
         null,
         null,
         "1.0",
         "0.0",
         "0.0",
         "0.0",
         "0.01"
        ],
        [
         "25%",
         "47869357.25",
         null,
         "20250624193519.0",
         null,
         null,
         null,
         null,
         null,
         null,
         "36566357.0",
         null,
         null,
         null,
         null,
         null,
         null,
         null,
         null,
         null,
         null,
         null,
         null,
         "1.0",
         "1.0",
         null,
         null,
         null,
         null,
         null,
         null,
         "-22.984316643685414",
         "-43.297495276597054",
         null,
         null,
         "2.0",
         "1.0",
         null,
         "1.0",
         "1.0",
         null,
         null,
         "1.0",
         "59.0",
         "1.0",
         "2.0",
         "87.5",
         "89.0",
         "1.3",
         "89.0",
         null,
         null,
         "8.0",
         "25.0",
         "44.0",
         "88.0",
         null,
         "1.0",
         "0.0",
         "0.0",
         "76.0",
         "0.0",
         "0.0",
         "0.0",
         null,
         null,
         "4.76",
         "4.8",
         "4.72",
         "4.89",
         "4.88",
         "4.84",
         "4.67",
         null,
         null,
         "1.0",
         "1.0",
         "0.0",
         "0.0",
         "0.28"
        ],
        [
         "50%",
         "9.993600872782319e+17",
         null,
         "20250624193519.0",
         null,
         null,
         null,
         null,
         null,
         null,
         "155075329.5",
         null,
         null,
         null,
         null,
         null,
         null,
         null,
         null,
         null,
         null,
         null,
         null,
         "2.0",
         "3.0",
         null,
         null,
         null,
         null,
         null,
         null,
         "-22.97154",
         "-43.1935705998678",
         null,
         null,
         "4.0",
         "1.0",
         null,
         "1.0",
         "2.0",
         null,
         null,
         "2.0",
         "365.0",
         "2.0",
         "3.0",
         "365.0",
         "365.0",
         "2.0",
         "365.0",
         null,
         null,
         "24.0",
         "52.0",
         "80.0",
         "182.0",
         null,
         "7.0",
         "3.0",
         "0.0",
         "150.0",
         "1.0",
         "18.0",
         "7040.0",
         null,
         null,
         "4.92",
         "4.93",
         "4.9",
         "4.99",
         "5.0",
         "4.96",
         "4.83",
         null,
         null,
         "2.0",
         "1.0",
         "0.0",
         "0.0",
         "0.78"
        ],
        [
         "75%",
         "1.2843310419524406e+18",
         null,
         "20250624193519.0",
         null,
         null,
         null,
         null,
         null,
         null,
         "425340446.75",
         null,
         null,
         null,
         null,
         null,
         null,
         null,
         null,
         null,
         null,
         null,
         null,
         "7.0",
         "9.0",
         null,
         null,
         null,
         null,
         null,
         null,
         "-22.9512075",
         "-43.18455",
         null,
         null,
         "5.0",
         "2.0",
         null,
         "2.0",
         "3.0",
         null,
         null,
         "3.0",
         "365.0",
         "3.0",
         "4.0",
         "1125.0",
         "1125.0",
         "3.0",
         "1125.0",
         null,
         null,
         "29.0",
         "59.0",
         "89.0",
         "338.0",
         null,
         "28.0",
         "13.0",
         "1.0",
         "183.0",
         "8.0",
         "80.0",
         "25110.0",
         null,
         null,
         "5.0",
         "5.0",
         "5.0",
         "5.0",
         "5.0",
         "5.0",
         "5.0",
         null,
         null,
         "5.0",
         "4.0",
         "1.0",
         "0.0",
         "1.74"
        ],
        [
         "max",
         "1.450244536469985e+18",
         null,
         "20250624193519.0",
         null,
         null,
         null,
         null,
         null,
         null,
         "703072927.0",
         null,
         null,
         null,
         null,
         null,
         null,
         null,
         null,
         null,
         null,
         null,
         null,
         "847.0",
         "2309.0",
         null,
         null,
         null,
         null,
         null,
         null,
         "-22.75051",
         "-43.1044",
         null,
         null,
         "16.0",
         "20.0",
         null,
         "30.0",
         "52.0",
         null,
         null,
         "1000.0",
         "1125.0",
         "730.0",
         "1125.0",
         "1125.0",
         "1125.0",
         "730.0",
         "1125.0",
         null,
         null,
         "30.0",
         "60.0",
         "90.0",
         "365.0",
         null,
         "744.0",
         "165.0",
         "16.0",
         "190.0",
         "154.0",
         "255.0",
         "16200000.0",
         null,
         null,
         "5.0",
         "5.0",
         "5.0",
         "5.0",
         "5.0",
         "5.0",
         "5.0",
         null,
         null,
         "226.0",
         "226.0",
         "20.0",
         "20.0",
         "15.39"
        ]
       ],
       "shape": {
        "columns": 79,
        "rows": 11
       }
      },
      "text/html": [
       "<div>\n",
       "<style scoped>\n",
       "    .dataframe tbody tr th:only-of-type {\n",
       "        vertical-align: middle;\n",
       "    }\n",
       "\n",
       "    .dataframe tbody tr th {\n",
       "        vertical-align: top;\n",
       "    }\n",
       "\n",
       "    .dataframe thead th {\n",
       "        text-align: right;\n",
       "    }\n",
       "</style>\n",
       "<table border=\"1\" class=\"dataframe\">\n",
       "  <thead>\n",
       "    <tr style=\"text-align: right;\">\n",
       "      <th></th>\n",
       "      <th>id</th>\n",
       "      <th>listing_url</th>\n",
       "      <th>scrape_id</th>\n",
       "      <th>last_scraped</th>\n",
       "      <th>source</th>\n",
       "      <th>name</th>\n",
       "      <th>description</th>\n",
       "      <th>neighborhood_overview</th>\n",
       "      <th>picture_url</th>\n",
       "      <th>host_id</th>\n",
       "      <th>...</th>\n",
       "      <th>review_scores_communication</th>\n",
       "      <th>review_scores_location</th>\n",
       "      <th>review_scores_value</th>\n",
       "      <th>license</th>\n",
       "      <th>instant_bookable</th>\n",
       "      <th>calculated_host_listings_count</th>\n",
       "      <th>calculated_host_listings_count_entire_homes</th>\n",
       "      <th>calculated_host_listings_count_private_rooms</th>\n",
       "      <th>calculated_host_listings_count_shared_rooms</th>\n",
       "      <th>reviews_per_month</th>\n",
       "    </tr>\n",
       "  </thead>\n",
       "  <tbody>\n",
       "    <tr>\n",
       "      <th>count</th>\n",
       "      <td>4.257200e+04</td>\n",
       "      <td>42572</td>\n",
       "      <td>4.257200e+04</td>\n",
       "      <td>42572</td>\n",
       "      <td>42572</td>\n",
       "      <td>42572</td>\n",
       "      <td>41561</td>\n",
       "      <td>16513</td>\n",
       "      <td>42572</td>\n",
       "      <td>4.257200e+04</td>\n",
       "      <td>...</td>\n",
       "      <td>33942.000000</td>\n",
       "      <td>33942.000000</td>\n",
       "      <td>33942.000000</td>\n",
       "      <td>0.0</td>\n",
       "      <td>42572</td>\n",
       "      <td>42572.000000</td>\n",
       "      <td>42572.000000</td>\n",
       "      <td>42572.000000</td>\n",
       "      <td>42572.000000</td>\n",
       "      <td>33949.000000</td>\n",
       "    </tr>\n",
       "    <tr>\n",
       "      <th>unique</th>\n",
       "      <td>NaN</td>\n",
       "      <td>42572</td>\n",
       "      <td>NaN</td>\n",
       "      <td>8</td>\n",
       "      <td>2</td>\n",
       "      <td>40289</td>\n",
       "      <td>38004</td>\n",
       "      <td>14274</td>\n",
       "      <td>41726</td>\n",
       "      <td>NaN</td>\n",
       "      <td>...</td>\n",
       "      <td>NaN</td>\n",
       "      <td>NaN</td>\n",
       "      <td>NaN</td>\n",
       "      <td>NaN</td>\n",
       "      <td>2</td>\n",
       "      <td>NaN</td>\n",
       "      <td>NaN</td>\n",
       "      <td>NaN</td>\n",
       "      <td>NaN</td>\n",
       "      <td>NaN</td>\n",
       "    </tr>\n",
       "    <tr>\n",
       "      <th>top</th>\n",
       "      <td>NaN</td>\n",
       "      <td>https://www.airbnb.com/rooms/17878</td>\n",
       "      <td>NaN</td>\n",
       "      <td>2025-06-27</td>\n",
       "      <td>city scrape</td>\n",
       "      <td>Apartamento em Copacabana</td>\n",
       "      <td>Relax with the whole family in this quiet acco...</td>\n",
       "      <td>Copacabana is located in Rio de Janeiro's stun...</td>\n",
       "      <td>https://a0.muscache.com/pictures/dc1b2280-007c...</td>\n",
       "      <td>NaN</td>\n",
       "      <td>...</td>\n",
       "      <td>NaN</td>\n",
       "      <td>NaN</td>\n",
       "      <td>NaN</td>\n",
       "      <td>NaN</td>\n",
       "      <td>f</td>\n",
       "      <td>NaN</td>\n",
       "      <td>NaN</td>\n",
       "      <td>NaN</td>\n",
       "      <td>NaN</td>\n",
       "      <td>NaN</td>\n",
       "    </tr>\n",
       "    <tr>\n",
       "      <th>freq</th>\n",
       "      <td>NaN</td>\n",
       "      <td>1</td>\n",
       "      <td>NaN</td>\n",
       "      <td>11944</td>\n",
       "      <td>38994</td>\n",
       "      <td>174</td>\n",
       "      <td>262</td>\n",
       "      <td>176</td>\n",
       "      <td>15</td>\n",
       "      <td>NaN</td>\n",
       "      <td>...</td>\n",
       "      <td>NaN</td>\n",
       "      <td>NaN</td>\n",
       "      <td>NaN</td>\n",
       "      <td>NaN</td>\n",
       "      <td>32772</td>\n",
       "      <td>NaN</td>\n",
       "      <td>NaN</td>\n",
       "      <td>NaN</td>\n",
       "      <td>NaN</td>\n",
       "      <td>NaN</td>\n",
       "    </tr>\n",
       "    <tr>\n",
       "      <th>mean</th>\n",
       "      <td>7.837189e+17</td>\n",
       "      <td>NaN</td>\n",
       "      <td>2.025062e+13</td>\n",
       "      <td>NaN</td>\n",
       "      <td>NaN</td>\n",
       "      <td>NaN</td>\n",
       "      <td>NaN</td>\n",
       "      <td>NaN</td>\n",
       "      <td>NaN</td>\n",
       "      <td>2.315791e+08</td>\n",
       "      <td>...</td>\n",
       "      <td>4.881812</td>\n",
       "      <td>4.859590</td>\n",
       "      <td>4.724609</td>\n",
       "      <td>NaN</td>\n",
       "      <td>NaN</td>\n",
       "      <td>9.636428</td>\n",
       "      <td>8.766842</td>\n",
       "      <td>0.771023</td>\n",
       "      <td>0.094099</td>\n",
       "      <td>1.204918</td>\n",
       "    </tr>\n",
       "    <tr>\n",
       "      <th>std</th>\n",
       "      <td>5.521959e+17</td>\n",
       "      <td>NaN</td>\n",
       "      <td>0.000000e+00</td>\n",
       "      <td>NaN</td>\n",
       "      <td>NaN</td>\n",
       "      <td>NaN</td>\n",
       "      <td>NaN</td>\n",
       "      <td>NaN</td>\n",
       "      <td>NaN</td>\n",
       "      <td>2.152555e+08</td>\n",
       "      <td>...</td>\n",
       "      <td>0.310770</td>\n",
       "      <td>0.308788</td>\n",
       "      <td>0.416477</td>\n",
       "      <td>NaN</td>\n",
       "      <td>NaN</td>\n",
       "      <td>25.660143</td>\n",
       "      <td>25.503866</td>\n",
       "      <td>2.041902</td>\n",
       "      <td>0.989824</td>\n",
       "      <td>1.266109</td>\n",
       "    </tr>\n",
       "    <tr>\n",
       "      <th>min</th>\n",
       "      <td>1.787800e+04</td>\n",
       "      <td>NaN</td>\n",
       "      <td>2.025062e+13</td>\n",
       "      <td>NaN</td>\n",
       "      <td>NaN</td>\n",
       "      <td>NaN</td>\n",
       "      <td>NaN</td>\n",
       "      <td>NaN</td>\n",
       "      <td>NaN</td>\n",
       "      <td>3.607000e+03</td>\n",
       "      <td>...</td>\n",
       "      <td>1.000000</td>\n",
       "      <td>1.000000</td>\n",
       "      <td>1.000000</td>\n",
       "      <td>NaN</td>\n",
       "      <td>NaN</td>\n",
       "      <td>1.000000</td>\n",
       "      <td>0.000000</td>\n",
       "      <td>0.000000</td>\n",
       "      <td>0.000000</td>\n",
       "      <td>0.010000</td>\n",
       "    </tr>\n",
       "    <tr>\n",
       "      <th>25%</th>\n",
       "      <td>4.786936e+07</td>\n",
       "      <td>NaN</td>\n",
       "      <td>2.025062e+13</td>\n",
       "      <td>NaN</td>\n",
       "      <td>NaN</td>\n",
       "      <td>NaN</td>\n",
       "      <td>NaN</td>\n",
       "      <td>NaN</td>\n",
       "      <td>NaN</td>\n",
       "      <td>3.656636e+07</td>\n",
       "      <td>...</td>\n",
       "      <td>4.880000</td>\n",
       "      <td>4.840000</td>\n",
       "      <td>4.670000</td>\n",
       "      <td>NaN</td>\n",
       "      <td>NaN</td>\n",
       "      <td>1.000000</td>\n",
       "      <td>1.000000</td>\n",
       "      <td>0.000000</td>\n",
       "      <td>0.000000</td>\n",
       "      <td>0.280000</td>\n",
       "    </tr>\n",
       "    <tr>\n",
       "      <th>50%</th>\n",
       "      <td>9.993601e+17</td>\n",
       "      <td>NaN</td>\n",
       "      <td>2.025062e+13</td>\n",
       "      <td>NaN</td>\n",
       "      <td>NaN</td>\n",
       "      <td>NaN</td>\n",
       "      <td>NaN</td>\n",
       "      <td>NaN</td>\n",
       "      <td>NaN</td>\n",
       "      <td>1.550753e+08</td>\n",
       "      <td>...</td>\n",
       "      <td>5.000000</td>\n",
       "      <td>4.960000</td>\n",
       "      <td>4.830000</td>\n",
       "      <td>NaN</td>\n",
       "      <td>NaN</td>\n",
       "      <td>2.000000</td>\n",
       "      <td>1.000000</td>\n",
       "      <td>0.000000</td>\n",
       "      <td>0.000000</td>\n",
       "      <td>0.780000</td>\n",
       "    </tr>\n",
       "    <tr>\n",
       "      <th>75%</th>\n",
       "      <td>1.284331e+18</td>\n",
       "      <td>NaN</td>\n",
       "      <td>2.025062e+13</td>\n",
       "      <td>NaN</td>\n",
       "      <td>NaN</td>\n",
       "      <td>NaN</td>\n",
       "      <td>NaN</td>\n",
       "      <td>NaN</td>\n",
       "      <td>NaN</td>\n",
       "      <td>4.253404e+08</td>\n",
       "      <td>...</td>\n",
       "      <td>5.000000</td>\n",
       "      <td>5.000000</td>\n",
       "      <td>5.000000</td>\n",
       "      <td>NaN</td>\n",
       "      <td>NaN</td>\n",
       "      <td>5.000000</td>\n",
       "      <td>4.000000</td>\n",
       "      <td>1.000000</td>\n",
       "      <td>0.000000</td>\n",
       "      <td>1.740000</td>\n",
       "    </tr>\n",
       "    <tr>\n",
       "      <th>max</th>\n",
       "      <td>1.450245e+18</td>\n",
       "      <td>NaN</td>\n",
       "      <td>2.025062e+13</td>\n",
       "      <td>NaN</td>\n",
       "      <td>NaN</td>\n",
       "      <td>NaN</td>\n",
       "      <td>NaN</td>\n",
       "      <td>NaN</td>\n",
       "      <td>NaN</td>\n",
       "      <td>7.030729e+08</td>\n",
       "      <td>...</td>\n",
       "      <td>5.000000</td>\n",
       "      <td>5.000000</td>\n",
       "      <td>5.000000</td>\n",
       "      <td>NaN</td>\n",
       "      <td>NaN</td>\n",
       "      <td>226.000000</td>\n",
       "      <td>226.000000</td>\n",
       "      <td>20.000000</td>\n",
       "      <td>20.000000</td>\n",
       "      <td>15.390000</td>\n",
       "    </tr>\n",
       "  </tbody>\n",
       "</table>\n",
       "<p>11 rows × 79 columns</p>\n",
       "</div>"
      ],
      "text/plain": [
       "                  id                         listing_url     scrape_id  \\\n",
       "count   4.257200e+04                               42572  4.257200e+04   \n",
       "unique           NaN                               42572           NaN   \n",
       "top              NaN  https://www.airbnb.com/rooms/17878           NaN   \n",
       "freq             NaN                                   1           NaN   \n",
       "mean    7.837189e+17                                 NaN  2.025062e+13   \n",
       "std     5.521959e+17                                 NaN  0.000000e+00   \n",
       "min     1.787800e+04                                 NaN  2.025062e+13   \n",
       "25%     4.786936e+07                                 NaN  2.025062e+13   \n",
       "50%     9.993601e+17                                 NaN  2.025062e+13   \n",
       "75%     1.284331e+18                                 NaN  2.025062e+13   \n",
       "max     1.450245e+18                                 NaN  2.025062e+13   \n",
       "\n",
       "       last_scraped       source                       name  \\\n",
       "count         42572        42572                      42572   \n",
       "unique            8            2                      40289   \n",
       "top      2025-06-27  city scrape  Apartamento em Copacabana   \n",
       "freq          11944        38994                        174   \n",
       "mean            NaN          NaN                        NaN   \n",
       "std             NaN          NaN                        NaN   \n",
       "min             NaN          NaN                        NaN   \n",
       "25%             NaN          NaN                        NaN   \n",
       "50%             NaN          NaN                        NaN   \n",
       "75%             NaN          NaN                        NaN   \n",
       "max             NaN          NaN                        NaN   \n",
       "\n",
       "                                              description  \\\n",
       "count                                               41561   \n",
       "unique                                              38004   \n",
       "top     Relax with the whole family in this quiet acco...   \n",
       "freq                                                  262   \n",
       "mean                                                  NaN   \n",
       "std                                                   NaN   \n",
       "min                                                   NaN   \n",
       "25%                                                   NaN   \n",
       "50%                                                   NaN   \n",
       "75%                                                   NaN   \n",
       "max                                                   NaN   \n",
       "\n",
       "                                    neighborhood_overview  \\\n",
       "count                                               16513   \n",
       "unique                                              14274   \n",
       "top     Copacabana is located in Rio de Janeiro's stun...   \n",
       "freq                                                  176   \n",
       "mean                                                  NaN   \n",
       "std                                                   NaN   \n",
       "min                                                   NaN   \n",
       "25%                                                   NaN   \n",
       "50%                                                   NaN   \n",
       "75%                                                   NaN   \n",
       "max                                                   NaN   \n",
       "\n",
       "                                              picture_url       host_id  ...  \\\n",
       "count                                               42572  4.257200e+04  ...   \n",
       "unique                                              41726           NaN  ...   \n",
       "top     https://a0.muscache.com/pictures/dc1b2280-007c...           NaN  ...   \n",
       "freq                                                   15           NaN  ...   \n",
       "mean                                                  NaN  2.315791e+08  ...   \n",
       "std                                                   NaN  2.152555e+08  ...   \n",
       "min                                                   NaN  3.607000e+03  ...   \n",
       "25%                                                   NaN  3.656636e+07  ...   \n",
       "50%                                                   NaN  1.550753e+08  ...   \n",
       "75%                                                   NaN  4.253404e+08  ...   \n",
       "max                                                   NaN  7.030729e+08  ...   \n",
       "\n",
       "       review_scores_communication review_scores_location review_scores_value  \\\n",
       "count                 33942.000000           33942.000000        33942.000000   \n",
       "unique                         NaN                    NaN                 NaN   \n",
       "top                            NaN                    NaN                 NaN   \n",
       "freq                           NaN                    NaN                 NaN   \n",
       "mean                      4.881812               4.859590            4.724609   \n",
       "std                       0.310770               0.308788            0.416477   \n",
       "min                       1.000000               1.000000            1.000000   \n",
       "25%                       4.880000               4.840000            4.670000   \n",
       "50%                       5.000000               4.960000            4.830000   \n",
       "75%                       5.000000               5.000000            5.000000   \n",
       "max                       5.000000               5.000000            5.000000   \n",
       "\n",
       "       license instant_bookable calculated_host_listings_count  \\\n",
       "count      0.0            42572                   42572.000000   \n",
       "unique     NaN                2                            NaN   \n",
       "top        NaN                f                            NaN   \n",
       "freq       NaN            32772                            NaN   \n",
       "mean       NaN              NaN                       9.636428   \n",
       "std        NaN              NaN                      25.660143   \n",
       "min        NaN              NaN                       1.000000   \n",
       "25%        NaN              NaN                       1.000000   \n",
       "50%        NaN              NaN                       2.000000   \n",
       "75%        NaN              NaN                       5.000000   \n",
       "max        NaN              NaN                     226.000000   \n",
       "\n",
       "       calculated_host_listings_count_entire_homes  \\\n",
       "count                                 42572.000000   \n",
       "unique                                         NaN   \n",
       "top                                            NaN   \n",
       "freq                                           NaN   \n",
       "mean                                      8.766842   \n",
       "std                                      25.503866   \n",
       "min                                       0.000000   \n",
       "25%                                       1.000000   \n",
       "50%                                       1.000000   \n",
       "75%                                       4.000000   \n",
       "max                                     226.000000   \n",
       "\n",
       "       calculated_host_listings_count_private_rooms  \\\n",
       "count                                  42572.000000   \n",
       "unique                                          NaN   \n",
       "top                                             NaN   \n",
       "freq                                            NaN   \n",
       "mean                                       0.771023   \n",
       "std                                        2.041902   \n",
       "min                                        0.000000   \n",
       "25%                                        0.000000   \n",
       "50%                                        0.000000   \n",
       "75%                                        1.000000   \n",
       "max                                       20.000000   \n",
       "\n",
       "       calculated_host_listings_count_shared_rooms reviews_per_month  \n",
       "count                                 42572.000000      33949.000000  \n",
       "unique                                         NaN               NaN  \n",
       "top                                            NaN               NaN  \n",
       "freq                                           NaN               NaN  \n",
       "mean                                      0.094099          1.204918  \n",
       "std                                       0.989824          1.266109  \n",
       "min                                       0.000000          0.010000  \n",
       "25%                                       0.000000          0.280000  \n",
       "50%                                       0.000000          0.780000  \n",
       "75%                                       0.000000          1.740000  \n",
       "max                                      20.000000         15.390000  \n",
       "\n",
       "[11 rows x 79 columns]"
      ]
     },
     "execution_count": 13,
     "metadata": {},
     "output_type": "execute_result"
    }
   ],
   "source": [
    "listings.describe(include='all')"
   ]
  },
  {
   "cell_type": "code",
   "execution_count": 14,
   "metadata": {},
   "outputs": [
    {
     "data": {
      "text/plain": [
       "(42572, 79)"
      ]
     },
     "execution_count": 14,
     "metadata": {},
     "output_type": "execute_result"
    }
   ],
   "source": [
    "listings.shape"
   ]
  },
  {
   "cell_type": "markdown",
   "metadata": {},
   "source": [
    "Aqui podemos entender que a base de listings se trata dos imoveis listados no BnB\n",
    "\n",
    "TODO:\n",
    "- conversao dos dados (ex: id esta como float)\n",
    "- remocao de colunas nao necessarias\n",
    "- remocao de duplicadas"
   ]
  },
  {
   "cell_type": "code",
   "execution_count": 15,
   "metadata": {},
   "outputs": [
    {
     "data": {
      "application/vnd.microsoft.datawrangler.viewer.v0+json": {
       "columns": [
        {
         "name": "index",
         "rawType": "object",
         "type": "string"
        },
        {
         "name": "listing_id",
         "rawType": "float64",
         "type": "float"
        },
        {
         "name": "id",
         "rawType": "float64",
         "type": "float"
        },
        {
         "name": "date",
         "rawType": "object",
         "type": "unknown"
        },
        {
         "name": "reviewer_id",
         "rawType": "float64",
         "type": "float"
        },
        {
         "name": "reviewer_name",
         "rawType": "object",
         "type": "unknown"
        },
        {
         "name": "comments",
         "rawType": "object",
         "type": "unknown"
        }
       ],
       "ref": "71d07ef8-15c4-403b-bfcd-d957bfc697ef",
       "rows": [
        [
         "count",
         "1069277.0",
         "1069277.0",
         "1069277",
         "1069277.0",
         "1069275",
         "1069244"
        ],
        [
         "unique",
         null,
         null,
         "5078",
         null,
         "107690",
         "1024185"
        ],
        [
         "top",
         null,
         null,
         "2025-05-04",
         null,
         "Lucas",
         "."
        ],
        [
         "freq",
         null,
         null,
         "6699",
         null,
         "9797",
         "2311"
        ],
        [
         "mean",
         "3.89082431285655e+17",
         "8.677614889290641e+17",
         null,
         "246945744.3414915",
         null,
         null
        ],
        [
         "std",
         "4.9039304023471936e+17",
         "4.942815009759998e+17",
         null,
         "188230872.62596014",
         null,
         null
        ],
        [
         "min",
         "17878.0",
         "50636.0",
         null,
         "5.0",
         null,
         null
        ],
        [
         "25%",
         "16503070.0",
         "5.775118812135512e+17",
         null,
         "79023901.0",
         null,
         null
        ],
        [
         "50%",
         "47739091.0",
         "1.0203464234823473e+18",
         null,
         "213940141.0",
         null,
         null
        ],
        [
         "75%",
         "8.487149653404772e+17",
         "1.2870545725129644e+18",
         null,
         "403677755.0",
         null,
         null
        ],
        [
         "max",
         "1.4501781377591928e+18",
         "1.4574008656863892e+18",
         null,
         "704631524.0",
         null,
         null
        ]
       ],
       "shape": {
        "columns": 6,
        "rows": 11
       }
      },
      "text/html": [
       "<div>\n",
       "<style scoped>\n",
       "    .dataframe tbody tr th:only-of-type {\n",
       "        vertical-align: middle;\n",
       "    }\n",
       "\n",
       "    .dataframe tbody tr th {\n",
       "        vertical-align: top;\n",
       "    }\n",
       "\n",
       "    .dataframe thead th {\n",
       "        text-align: right;\n",
       "    }\n",
       "</style>\n",
       "<table border=\"1\" class=\"dataframe\">\n",
       "  <thead>\n",
       "    <tr style=\"text-align: right;\">\n",
       "      <th></th>\n",
       "      <th>listing_id</th>\n",
       "      <th>id</th>\n",
       "      <th>date</th>\n",
       "      <th>reviewer_id</th>\n",
       "      <th>reviewer_name</th>\n",
       "      <th>comments</th>\n",
       "    </tr>\n",
       "  </thead>\n",
       "  <tbody>\n",
       "    <tr>\n",
       "      <th>count</th>\n",
       "      <td>1.069277e+06</td>\n",
       "      <td>1.069277e+06</td>\n",
       "      <td>1069277</td>\n",
       "      <td>1.069277e+06</td>\n",
       "      <td>1069275</td>\n",
       "      <td>1069244</td>\n",
       "    </tr>\n",
       "    <tr>\n",
       "      <th>unique</th>\n",
       "      <td>NaN</td>\n",
       "      <td>NaN</td>\n",
       "      <td>5078</td>\n",
       "      <td>NaN</td>\n",
       "      <td>107690</td>\n",
       "      <td>1024185</td>\n",
       "    </tr>\n",
       "    <tr>\n",
       "      <th>top</th>\n",
       "      <td>NaN</td>\n",
       "      <td>NaN</td>\n",
       "      <td>2025-05-04</td>\n",
       "      <td>NaN</td>\n",
       "      <td>Lucas</td>\n",
       "      <td>.</td>\n",
       "    </tr>\n",
       "    <tr>\n",
       "      <th>freq</th>\n",
       "      <td>NaN</td>\n",
       "      <td>NaN</td>\n",
       "      <td>6699</td>\n",
       "      <td>NaN</td>\n",
       "      <td>9797</td>\n",
       "      <td>2311</td>\n",
       "    </tr>\n",
       "    <tr>\n",
       "      <th>mean</th>\n",
       "      <td>3.890824e+17</td>\n",
       "      <td>8.677615e+17</td>\n",
       "      <td>NaN</td>\n",
       "      <td>2.469457e+08</td>\n",
       "      <td>NaN</td>\n",
       "      <td>NaN</td>\n",
       "    </tr>\n",
       "    <tr>\n",
       "      <th>std</th>\n",
       "      <td>4.903930e+17</td>\n",
       "      <td>4.942815e+17</td>\n",
       "      <td>NaN</td>\n",
       "      <td>1.882309e+08</td>\n",
       "      <td>NaN</td>\n",
       "      <td>NaN</td>\n",
       "    </tr>\n",
       "    <tr>\n",
       "      <th>min</th>\n",
       "      <td>1.787800e+04</td>\n",
       "      <td>5.063600e+04</td>\n",
       "      <td>NaN</td>\n",
       "      <td>5.000000e+00</td>\n",
       "      <td>NaN</td>\n",
       "      <td>NaN</td>\n",
       "    </tr>\n",
       "    <tr>\n",
       "      <th>25%</th>\n",
       "      <td>1.650307e+07</td>\n",
       "      <td>5.775119e+17</td>\n",
       "      <td>NaN</td>\n",
       "      <td>7.902390e+07</td>\n",
       "      <td>NaN</td>\n",
       "      <td>NaN</td>\n",
       "    </tr>\n",
       "    <tr>\n",
       "      <th>50%</th>\n",
       "      <td>4.773909e+07</td>\n",
       "      <td>1.020346e+18</td>\n",
       "      <td>NaN</td>\n",
       "      <td>2.139401e+08</td>\n",
       "      <td>NaN</td>\n",
       "      <td>NaN</td>\n",
       "    </tr>\n",
       "    <tr>\n",
       "      <th>75%</th>\n",
       "      <td>8.487150e+17</td>\n",
       "      <td>1.287055e+18</td>\n",
       "      <td>NaN</td>\n",
       "      <td>4.036778e+08</td>\n",
       "      <td>NaN</td>\n",
       "      <td>NaN</td>\n",
       "    </tr>\n",
       "    <tr>\n",
       "      <th>max</th>\n",
       "      <td>1.450178e+18</td>\n",
       "      <td>1.457401e+18</td>\n",
       "      <td>NaN</td>\n",
       "      <td>7.046315e+08</td>\n",
       "      <td>NaN</td>\n",
       "      <td>NaN</td>\n",
       "    </tr>\n",
       "  </tbody>\n",
       "</table>\n",
       "</div>"
      ],
      "text/plain": [
       "          listing_id            id        date   reviewer_id reviewer_name  \\\n",
       "count   1.069277e+06  1.069277e+06     1069277  1.069277e+06       1069275   \n",
       "unique           NaN           NaN        5078           NaN        107690   \n",
       "top              NaN           NaN  2025-05-04           NaN         Lucas   \n",
       "freq             NaN           NaN        6699           NaN          9797   \n",
       "mean    3.890824e+17  8.677615e+17         NaN  2.469457e+08           NaN   \n",
       "std     4.903930e+17  4.942815e+17         NaN  1.882309e+08           NaN   \n",
       "min     1.787800e+04  5.063600e+04         NaN  5.000000e+00           NaN   \n",
       "25%     1.650307e+07  5.775119e+17         NaN  7.902390e+07           NaN   \n",
       "50%     4.773909e+07  1.020346e+18         NaN  2.139401e+08           NaN   \n",
       "75%     8.487150e+17  1.287055e+18         NaN  4.036778e+08           NaN   \n",
       "max     1.450178e+18  1.457401e+18         NaN  7.046315e+08           NaN   \n",
       "\n",
       "       comments  \n",
       "count   1069244  \n",
       "unique  1024185  \n",
       "top           .  \n",
       "freq       2311  \n",
       "mean        NaN  \n",
       "std         NaN  \n",
       "min         NaN  \n",
       "25%         NaN  \n",
       "50%         NaN  \n",
       "75%         NaN  \n",
       "max         NaN  "
      ]
     },
     "execution_count": 15,
     "metadata": {},
     "output_type": "execute_result"
    }
   ],
   "source": [
    "reviews.describe(include='all')"
   ]
  },
  {
   "cell_type": "code",
   "execution_count": 16,
   "metadata": {},
   "outputs": [
    {
     "data": {
      "text/plain": [
       "(1069277, 6)"
      ]
     },
     "execution_count": 16,
     "metadata": {},
     "output_type": "execute_result"
    }
   ],
   "source": [
    "reviews.shape"
   ]
  },
  {
   "cell_type": "markdown",
   "metadata": {},
   "source": [
    "Aqui podemos ver que temos a tabela dos comentarios\n",
    "\n",
    "TODO:\n",
    "- conversao dos dados (ex: id esta como float)\n",
    "- selecionar somente os comentarios de listings de interesse\n",
    "- Remover review sem comentario\n",
    "- tratamento dos textos"
   ]
  },
  {
   "cell_type": "markdown",
   "metadata": {},
   "source": [
    "## Step 2: Quality Check\n"
   ]
  },
  {
   "cell_type": "code",
   "execution_count": 17,
   "metadata": {},
   "outputs": [
    {
     "name": "stdout",
     "output_type": "stream",
     "text": [
      "Duplicate listings: 0\n",
      "Duplicate reviews: 0\n"
     ]
    }
   ],
   "source": [
    "print(\"Duplicate listings:\", listings.duplicated().sum())\n",
    "print(\"Duplicate reviews:\", reviews.duplicated().sum())"
   ]
  },
  {
   "cell_type": "code",
   "execution_count": 18,
   "metadata": {},
   "outputs": [
    {
     "name": "stdout",
     "output_type": "stream",
     "text": [
      "id duplicates in listings: 0\n",
      "id duplicates in reviews: 0\n"
     ]
    }
   ],
   "source": [
    "print(\"id duplicates in listings:\", listings['id'].duplicated().sum())\n",
    "print(\"id duplicates in reviews:\", reviews['id'].duplicated().sum())\n"
   ]
  },
  {
   "cell_type": "markdown",
   "metadata": {},
   "source": [
    "Nao temos linhas duplicadas"
   ]
  },
  {
   "cell_type": "code",
   "execution_count": 19,
   "metadata": {},
   "outputs": [
    {
     "data": {
      "application/vnd.microsoft.datawrangler.viewer.v0+json": {
       "columns": [
        {
         "name": "comments",
         "rawType": "object",
         "type": "string"
        },
        {
         "name": "count",
         "rawType": "int64",
         "type": "integer"
        }
       ],
       "ref": "60ef88c9-306c-422b-a01c-e97cc5cc0196",
       "rows": [
        [
         ".",
         "2311"
        ],
        [
         "Excelente",
         "1188"
        ],
        [
         "Muito bom",
         "954"
        ],
        [
         "Ótimo",
         "667"
        ],
        [
         "Excelente!",
         "591"
        ],
        [
         "Muito bom!",
         "529"
        ],
        [
         "Ótima localização",
         "388"
        ],
        [
         "Ótima estadia",
         "387"
        ],
        [
         "muito bom",
         "348"
        ],
        [
         "Top",
         "335"
        ],
        [
         "Ótima",
         "334"
        ],
        [
         "Tudo perfeito",
         "329"
        ],
        [
         "excelente",
         "323"
        ],
        [
         "Tudo perfeito!",
         "277"
        ],
        [
         "Recomendo",
         "273"
        ],
        [
         "Perfeito",
         "255"
        ],
        [
         "Ótima estadia!",
         "249"
        ],
        [
         "Tudo ótimo",
         "249"
        ],
        [
         "Muito boa",
         "242"
        ],
        [
         "Tudo ótimo!",
         "241"
        ],
        [
         "Ótimo!",
         "232"
        ],
        [
         "Ok",
         "224"
        ],
        [
         "ótimo",
         "211"
        ],
        [
         "Ótima localização!",
         "207"
        ],
        [
         "Boa",
         "198"
        ],
        [
         "Excelente.",
         "184"
        ],
        [
         "Ótima localização.",
         "183"
        ],
        [
         "Bom",
         "183"
        ],
        [
         "Excelente localização",
         "178"
        ],
        [
         "Recomendo!",
         "177"
        ],
        [
         "Great place",
         "164"
        ],
        [
         "Todo excelente",
         "158"
        ],
        [
         "Great location",
         "154"
        ],
        [
         "Tudo ok",
         "153"
        ],
        [
         "Otimo",
         "152"
        ],
        [
         "Ótima estadia.",
         "149"
        ],
        [
         "Todo bien",
         "148"
        ],
        [
         "Muito bom.",
         "148"
        ],
        [
         "Ótimo lugar",
         "140"
        ],
        [
         "Excelente estadia",
         "139"
        ],
        [
         "Tudo perfeito.",
         "138"
        ],
        [
         "Perfeito!",
         "137"
        ],
        [
         "Todo muy bien",
         "135"
        ],
        [
         "Excelente estadia!",
         "128"
        ],
        [
         "Todo perfecto",
         "125"
        ],
        [
         "Great place!",
         "124"
        ],
        [
         "Excelente!!",
         "121"
        ],
        [
         "Excelente localização!",
         "121"
        ],
        [
         "Excelente ubicación",
         "118"
        ],
        [
         "ok",
         "117"
        ]
       ],
       "shape": {
        "columns": 1,
        "rows": 1024185
       }
      },
      "text/plain": [
       "comments\n",
       ".                                                                                                                                                                                                                                                                                                                                                                                                                                                                                                                                                                                                                                                                                                                                                                                                                                                                                                                                                                                         2311\n",
       "Excelente                                                                                                                                                                                                                                                                                                                                                                                                                                                                                                                                                                                                                                                                                                                                                                                                                                                                                                                                                                                 1188\n",
       "Muito bom                                                                                                                                                                                                                                                                                                                                                                                                                                                                                                                                                                                                                                                                                                                                                                                                                                                                                                                                                                                  954\n",
       "Ótimo                                                                                                                                                                                                                                                                                                                                                                                                                                                                                                                                                                                                                                                                                                                                                                                                                                                                                                                                                                                      667\n",
       "Excelente!                                                                                                                                                                                                                                                                                                                                                                                                                                                                                                                                                                                                                                                                                                                                                                                                                                                                                                                                                                                 591\n",
       "                                                                                                                                                                                                                                                                                                                                                                                                                                                                                                                                                                                                                                                                                                                                                                                                                                                                                                                                                                                          ... \n",
       "Perfeita, super recomendo vale muito a pena                                                                                                                                                                                                                                                                                                                                                                                                                                                                                                                                                                                                                                                                                                                                                                                                                                                                                                                                                  1\n",
       "buena estadia , departamento con todo lo necesario , y queda frente a la playa , precio calidad recomendado                                                                                                                                                                                                                                                                                                                                                                                                                                                                                                                                                                                                                                                                                                                                                                                                                                                                                  1\n",
       "Hospedagem ótima e fomos muito bem atendidos pelo Felipe. A vista da sala e da suíte são um diferencial. Voltaremos com certeza!                                                                                                                                                                                                                                                                                                                                                                                                                                                                                                                                                                                                                                                                                                                                                                                                                                                             1\n",
       "Ótimo Ap , conforme o anúncio<br/> pessoalmente melhor ainda ,  Passamos 4 dias  em Família, Felipe  sem comentários... foi excelente em tudo,  prestativo , Educado,  chegamos já estava do lado de fora aguardando nossa chegada! Show ! <br/>Já indiquei para algumas pessoas e voltarei sem erro!  e não poderia deixa de fala do pessoal da portaria , muitooooo educados , portaria 24hs .                                                                                                                                                                                                                                                                                                                                                                                                                                                                                                                                                                                             1\n",
       "pessoal podem alugar tranquilamente. o anfitrião e a esposa dele respondem muito rápido, o imóvel é novo, o ar gela bastante e é super próximo da praia (1min a pé)e do Rio centro (carro ou moto 15 min). Tudo o que precisamos no imóvel Pierre arrumou para gente, por ser um imóvel novo e nós sermos os primeiros hóspedes eles estão terminando de colocar os utensílios de cozinha.(tem o básico) mas se precisar de alguma coisa é só mandar msg eles respondem na hora. as roupas de cama estavam super cheirosas. o lugar é igual nas fotos (cozinha com fogão e geladeira, banheiro e o quarto com ar). o valor é acessível pela região, tem restaurantes, farmácia e mercado tudo muito próximo, coisa de menos de 5 mim. achei ideal para quem vai para o Rj fazer curso ou curtir a praia e busca um imóvel para descansar! sem barulho ao redor, achei seguro tbm. quando eu precisar ficar nessa região vou alugar dele novamente! eu gostei e achei que valeu a pena!       1\n",
       "Name: count, Length: 1024185, dtype: int64"
      ]
     },
     "execution_count": 19,
     "metadata": {},
     "output_type": "execute_result"
    }
   ],
   "source": [
    "reviews['comments'].value_counts()"
   ]
  },
  {
   "cell_type": "markdown",
   "metadata": {},
   "source": [
    "Temos muitos comentarios que nao dizem nada a respeito da experiencia\n",
    "\n",
    "TODO:\n",
    "- Limpeza dos comentarios"
   ]
  },
  {
   "cell_type": "code",
   "execution_count": 20,
   "metadata": {},
   "outputs": [
    {
     "data": {
      "application/vnd.microsoft.datawrangler.viewer.v0+json": {
       "columns": [
        {
         "name": "amenities",
         "rawType": "object",
         "type": "string"
        },
        {
         "name": "count",
         "rawType": "int64",
         "type": "integer"
        }
       ],
       "ref": "9a8be8be-7758-4390-b67b-072a285802a6",
       "rows": [
        [
         "[\"TV\", \"Kitchen\", \"Washer\", \"Air conditioning\", \"Wifi\"]",
         "202"
        ],
        [
         "[\"Wifi\", \"Kitchen\", \"Air conditioning\", \"TV\"]",
         "162"
        ],
        [
         "[]",
         "110"
        ],
        [
         "[\"TV\", \"Kitchen\", \"Free parking on premises\", \"Washer\", \"Air conditioning\", \"Wifi\"]",
         "65"
        ],
        [
         "[\"Dedicated workspace\", \"TV\", \"Kitchen\", \"Washer\", \"Air conditioning\", \"Wifi\"]",
         "59"
        ],
        [
         "[\"Wifi\", \"Kitchen\", \"TV\"]",
         "56"
        ],
        [
         "[\"Exterior security cameras on property\", \"TV\", \"Kitchen\", \"Washer\", \"Air conditioning\", \"Wifi\"]",
         "55"
        ],
        [
         "[\"Exterior security cameras on property\", \"TV\", \"Kitchen\", \"Air conditioning\", \"Wifi\"]",
         "49"
        ],
        [
         "[\"Wifi\", \"Washer\", \"Kitchen\", \"TV\"]",
         "46"
        ],
        [
         "[\"TV\", \"Kitchen\", \"Free parking on premises\", \"Air conditioning\", \"Wifi\"]",
         "34"
        ],
        [
         "[\"TV\", \"Kitchen\", \"Beach access \\u2013 Beachfront\", \"Air conditioning\", \"Wifi\"]",
         "33"
        ],
        [
         "[\"TV\", \"Pets allowed\", \"Kitchen\", \"Air conditioning\", \"Wifi\"]",
         "30"
        ],
        [
         "[\"TV\", \"Pets allowed\", \"Kitchen\", \"Washer\", \"Air conditioning\", \"Wifi\"]",
         "30"
        ],
        [
         "[\"TV\", \"Kitchen\", \"Beach access \\u2013 Beachfront\", \"Washer\", \"Air conditioning\", \"Wifi\"]",
         "30"
        ],
        [
         "[\"TV\", \"Kitchen\", \"Washer\", \"Lock on bedroom door\", \"Wifi\"]",
         "23"
        ],
        [
         "[\"Wifi\", \"Air conditioning\", \"TV\", \"Kitchen\"]",
         "22"
        ],
        [
         "[\"Kitchen\", \"Wifi\", \"Lock on bedroom door\", \"TV\"]",
         "22"
        ],
        [
         "[\"Exterior security cameras on property\", \"TV\", \"Kitchen\", \"Free parking on premises\", \"Washer\", \"Air conditioning\", \"Wifi\"]",
         "22"
        ],
        [
         "[\"Dedicated workspace\", \"TV\", \"Kitchen\", \"Air conditioning\", \"Wifi\"]",
         "21"
        ],
        [
         "[\"TV\", \"Kitchen\", \"Host greets you\", \"Washer\", \"Air conditioning\", \"Wifi\"]",
         "21"
        ],
        [
         "[\"Dedicated workspace\", \"TV\", \"Kitchen\", \"Free parking on premises\", \"Washer\", \"Air conditioning\", \"Wifi\"]",
         "21"
        ],
        [
         "[\"TV\", \"Kitchen\", \"Washer\", \"Lock on bedroom door\", \"Air conditioning\", \"Wifi\"]",
         "21"
        ],
        [
         "[\"Exterior security cameras on property\", \"TV\", \"Kitchen\", \"Beach access \\u2013 Beachfront\", \"Air conditioning\", \"Wifi\"]",
         "20"
        ],
        [
         "[\"Kitchen\", \"Wifi\"]",
         "20"
        ],
        [
         "[\"Exterior security cameras on property\", \"Wifi\", \"Kitchen\", \"TV\"]",
         "19"
        ],
        [
         "[\"Kitchen\", \"Air conditioning\", \"Wifi\"]",
         "18"
        ],
        [
         "[\"Exterior security cameras on property\", \"TV\", \"Kitchen\", \"Beach access \\u2013 Beachfront\", \"Washer\", \"Air conditioning\", \"Wifi\"]",
         "18"
        ],
        [
         "[\"TV\", \"Kitchen\", \"Paid parking on premises\", \"Washer\", \"Air conditioning\", \"Wifi\"]",
         "18"
        ],
        [
         "[\"Exterior security cameras on property\", \"TV\", \"Kitchen\", \"Washer\", \"Wifi\"]",
         "17"
        ],
        [
         "[\"Washer\", \"TV\", \"Kitchen\", \"Air conditioning\", \"Wifi\"]",
         "17"
        ],
        [
         "[\"Washer\", \"TV\", \"Air conditioning\", \"Kitchen\", \"Wifi\"]",
         "17"
        ],
        [
         "[\"TV\", \"Kitchen\", \"Host greets you\", \"Air conditioning\", \"Wifi\"]",
         "17"
        ],
        [
         "[\"TV\", \"Kitchen\", \"Smoking allowed\", \"Washer\", \"Air conditioning\", \"Wifi\"]",
         "16"
        ],
        [
         "[\"Washer\", \"Kitchen\", \"Wifi\"]",
         "16"
        ],
        [
         "[\"Pack \\u2019n play/Travel crib\", \"Dedicated workspace\", \"TV with standard cable\", \"Body soap\", \"Bed linens\", \"Clothing storage\", \"Shampoo\", \"Dining table\", \"Gym\", \"Washer\", \"Hot water\", \"Hair dryer\", \"Hot tub\", \"Dryer\", \"Hangers\", \"Coffee maker\", \"Wine glasses\", \"Room-darkening shades\", \"Blender\", \"Refrigerator\", \"Freezer\", \"Essentials\", \"Kitchen\", \"Long term stays allowed\", \"Iron\", \"Drying rack for clothing\", \"Stove\", \"Conditioner\", \"Pool\", \"Wifi\", \"Dishes and silverware\", \"Cooking basics\", \"Microwave\", \"Crib\", \"Cleaning products\", \"Free parking on premises\", \"Outdoor furniture\", \"Elevator\", \"Air conditioning\"]",
         "16"
        ],
        [
         "[\"Wifi\", \"Air conditioning\", \"TV\"]",
         "15"
        ],
        [
         "[\"Lock on bedroom door\", \"Wifi\"]",
         "15"
        ],
        [
         "[\"Kitchen\", \"Air conditioning\", \"Wifi\", \"TV\"]",
         "15"
        ],
        [
         "[\"Outdoor dining area\", \"Dedicated workspace\", \"TV\", \"Kitchen\", \"Outdoor shower\", \"Fire pit\", \"Paid parking on premises\", \"BBQ grill\", \"Washer\", \"Wifi\"]",
         "14"
        ],
        [
         "[\"Kitchen\", \"Air conditioning\", \"TV\"]",
         "14"
        ],
        [
         "[\"Dedicated workspace\", \"TV\", \"Kitchen\", \"Beach access \\u2013 Beachfront\", \"Washer\", \"Air conditioning\", \"Wifi\"]",
         "14"
        ],
        [
         "[\"Washer\", \"Kitchen\", \"Air conditioning\", \"Wifi\"]",
         "14"
        ],
        [
         "[\"Dedicated workspace\", \"TV\", \"Kitchen\", \"Washer\", \"Lock on bedroom door\", \"Air conditioning\", \"Wifi\"]",
         "14"
        ],
        [
         "[\"Exterior security cameras on property\", \"Dedicated workspace\", \"TV\", \"Kitchen\", \"Washer\", \"Air conditioning\", \"Wifi\"]",
         "14"
        ],
        [
         "[\"Kitchen\", \"Washer\", \"Lock on bedroom door\", \"Wifi\"]",
         "13"
        ],
        [
         "[\"Dedicated workspace\", \"TV\", \"Body soap\", \"Bed linens\", \"Gym\", \"Shampoo\", \"Washer\", \"Keypad\", \"Dryer\", \"Hangers\", \"Coffee maker\", \"Refrigerator\", \"Shared sauna\", \"Essentials\", \"Kitchen\", \"Long term stays allowed\", \"Stove\", \"Wifi\", \"Dishes and silverware\", \"Microwave\", \"Elevator\", \"Self check-in\", \"Air conditioning\"]",
         "13"
        ],
        [
         "[\"TV\", \"Kitchen\", \"Free parking on premises\", \"Washer\", \"Wifi\"]",
         "13"
        ],
        [
         "[\"Pool table\", \"Exterior security cameras on property\", \"Dedicated workspace\", \"Cooking basics\", \"Outdoor dining area\", \"TV\", \"Exercise equipment\", \"Fire extinguisher\", \"Kitchen\", \"Bed linens\", \"Clothing storage\", \"Free parking on premises\", \"Pool\", \"BBQ grill\", \"Lock on bedroom door\", \"Wifi\"]",
         "13"
        ],
        [
         "[\"TV\", \"Kitchen\", \"Smoking allowed\", \"Air conditioning\", \"Wifi\"]",
         "13"
        ],
        [
         "[\"TV\", \"Pets allowed\", \"Kitchen\", \"Smoking allowed\", \"Washer\", \"Air conditioning\", \"Wifi\"]",
         "13"
        ]
       ],
       "shape": {
        "columns": 1,
        "rows": 39085
       }
      },
      "text/plain": [
       "amenities\n",
       "[\"TV\", \"Kitchen\", \"Washer\", \"Air conditioning\", \"Wifi\"]                                                                                                                                                                                                                                                                                                                                                                                                                                                                                                                                                                                                                                                                                                                                                                                                                                                                                                                202\n",
       "[\"Wifi\", \"Kitchen\", \"Air conditioning\", \"TV\"]                                                                                                                                                                                                                                                                                                                                                                                                                                                                                                                                                                                                                                                                                                                                                                                                                                                                                                                          162\n",
       "[]                                                                                                                                                                                                                                                                                                                                                                                                                                                                                                                                                                                                                                                                                                                                                                                                                                                                                                                                                                     110\n",
       "[\"TV\", \"Kitchen\", \"Free parking on premises\", \"Washer\", \"Air conditioning\", \"Wifi\"]                                                                                                                                                                                                                                                                                                                                                                                                                                                                                                                                                                                                                                                                                                                                                                                                                                                                                     65\n",
       "[\"Dedicated workspace\", \"TV\", \"Kitchen\", \"Washer\", \"Air conditioning\", \"Wifi\"]                                                                                                                                                                                                                                                                                                                                                                                                                                                                                                                                                                                                                                                                                                                                                                                                                                                                                          59\n",
       "                                                                                                                                                                                                                                                                                                                                                                                                                                                                                                                                                                                                                                                                                                                                                                                                                                                                                                                                                                      ... \n",
       "[\"Window AC unit\", \"Room-darkening shades\", \"Ethernet connection\", \"Dedicated workspace\", \"Essentials\", \"Host greets you\", \"Wine glasses\", \"Free street parking\", \"Mountain view\", \"Fire extinguisher\", \"Iron\", \"47 inch HDTV with Amazon Prime Video, Disney+, premium cable, Netflix, standard cable, HBO Max\", \"Luggage dropoff allowed\", \"Wifi\", \"Freezer\", \"Hammock\", \"Bed linens\", \"Cooking basics\", \"Baking sheet\", \"Hot water\", \"Stainless steel gas stove\", \"Trash compactor\", \"Kitchen\", \"Smoking allowed\", \"Stainless steel oven\", \"Long term stays allowed\", \"Microwave\", \"Extra pillows and blankets\", \"Dining table\", \"Cleaning available during stay\", \"Private entrance\", \"City skyline view\", \"Drying rack for clothing\", \"Laundromat nearby\", \"Cleaning products\", \"Elevator\", \"Waterfront\", \"Shared beach access\", \"Dishes and silverware\", \"Portable fans\"]                                                                                          1\n",
       "[\"Dedicated workspace\", \"Smart lock\", \"Private patio or balcony\", \"TV\", \"Children\\u2019s books and toys\", \"Ethernet connection\", \"Bed linens\", \"Dining table\", \"Mosquito net\", \"Shared backyard\", \"Board games\", \"Hot water\", \"Hangers\", \"Room-darkening shades\", \"AC - split type ductless system\", \"Refrigerator\", \"Electrolux stove\", \"Forno de fog\\u00e3o electrolux oven\", \"Children\\u2019s dinnerware\", \"Exterior security cameras on property\", \"Essentials\", \"Pets allowed\", \"Fire extinguisher\", \"Kitchen\", \"City skyline view\", \"Iron\", \"Smoke alarm\", \"Drying rack for clothing\", \"Free washer \\u2013 In unit\", \"Free dryer \\u2013 In unit\", \"Wifi\", \"Dishes and silverware\", \"Cooking basics\", \"Microwave\", \"Exercise equipment\", \"Sound system\", \"Portable fans\", \"Shared pool - available all year\", \"Cleaning products\", \"Extra pillows and blankets\", \"Outdoor furniture\", \"Free parking on premises\", \"Paid parking on premises\", \"Self check-in\"]      1\n",
       "[\"Coffee maker: drip coffee maker\", \"Mini fridge\", \"Dedicated workspace\", \"Bed linens\", \"Dining table\", \"Host greets you\", \"Paid parking lot off premises\", \"Keypad\", \"Laundromat nearby\", \"Hot water\", \"Hair dryer\", \"Hangers\", \"Children\\u2019s books and toys for ages 2-5 years old\", \"Wine glasses\", \"Room-darkening shades\", \"Blender\", \"Refrigerator\", \"AC - split type ductless system\", \"Exterior security cameras on property\", \"Kitchen\", \"Long term stays allowed\", \"Iron\", \"Drying rack for clothing\", \"Shared beach access\", \"Books and reading material\", \"Wifi\", \"Dishes and silverware\", \"Cooking basics\", \"Clothing storage: wardrobe\", \"42 inch HDTV with Netflix\", \"Microwave\", \"Extra pillows and blankets\", \"Elevator\", \"Self check-in\"]                                                                                                                                                                                                           1\n",
       "[\"Mini fridge\", \"Body soap\", \"Bed linens\", \"Piano\", \"Laundromat nearby\", \"Hot water\", \"Hair dryer\", \"Hangers\", \"Room-darkening shades\", \"Essentials\", \"Ceiling fan\", \"Fire extinguisher\", \"Shared beach access\", \"Wifi\", \"HDTV with standard cable\", \"Clothing storage: wardrobe\", \"Microwave\", \"Portable fans\", \"Extra pillows and blankets\", \"Elevator\", \"Lock on bedroom door\"]                                                                                                                                                                                                                                                                                                                                                                                                                                                                                                                                                                                       1\n",
       "[\"Dedicated workspace\", \"TV\", \"Kitchen\", \"Free parking on premises\", \"Lock on bedroom door\", \"Air conditioning\", \"Wifi\"]                                                                                                                                                                                                                                                                                                                                                                                                                                                                                                                                                                                                                                                                                                                                                                                                                                                 1\n",
       "Name: count, Length: 39085, dtype: int64"
      ]
     },
     "execution_count": 20,
     "metadata": {},
     "output_type": "execute_result"
    }
   ],
   "source": [
    "listings['amenities'].value_counts()"
   ]
  },
  {
   "cell_type": "markdown",
   "metadata": {},
   "source": [
    "As amenities estao em formato de lista, vamos precisar explodir elas\n",
    "\n",
    "TODO:\n",
    "- explodir lista de amenities\n",
    "- remover as desnecessarias\n"
   ]
  },
  {
   "cell_type": "markdown",
   "metadata": {},
   "source": [
    "## Tratamentos a serem feitos\n",
    "\n",
    "\n",
    "**listings**\n",
    "- Converter id para string\n",
    "- filtrar somente regiao de interesse\n",
    "- remover colunas nao necessarias\n",
    "- explidir amenities\n",
    "\n",
    "\n",
    "**reviews** \n",
    "- converter ids para string\n",
    "- filtrar comments de interesse\n",
    "- garantir que o comment se refere a um apartamento de interesse"
   ]
  },
  {
   "cell_type": "markdown",
   "metadata": {},
   "source": []
  }
 ],
 "metadata": {
  "kernelspec": {
   "display_name": "Python 3",
   "language": "python",
   "name": "python3"
  },
  "language_info": {
   "codemirror_mode": {
    "name": "ipython",
    "version": 3
   },
   "file_extension": ".py",
   "mimetype": "text/x-python",
   "name": "python",
   "nbconvert_exporter": "python",
   "pygments_lexer": "ipython3",
   "version": "3.12.8"
  }
 },
 "nbformat": 4,
 "nbformat_minor": 4
}
