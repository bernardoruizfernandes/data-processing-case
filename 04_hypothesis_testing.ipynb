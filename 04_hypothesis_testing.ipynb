{
 "cells": [
  {
   "cell_type": "markdown",
   "metadata": {},
   "source": [
    "# Análise de Amenities: Satisfação vs Preço\n",
    "\n",
    "## Hipóteses:\n",
    "**H1:** Quais amenities controláveis geram mais elogios?  \n",
    "**H2:** Quais amenities estruturadas impactam mais o preço?"
   ]
  },
  {
   "cell_type": "code",
   "execution_count": 91,
   "metadata": {},
   "outputs": [],
   "source": [
    "import pandas as pd\n",
    "import numpy as np\n",
    "import matplotlib.pyplot as plt\n",
    "import seaborn as sns\n",
    "import ast\n",
    "\n",
    "# Configurar estilo\n",
    "plt.style.use('default')\n",
    "sns.set_palette(\"husl\")\n",
    "\n",
    "# Carregar dados\n",
    "listings = pd.read_csv('data/processed/listings.csv')\n",
    "amenities_comments = pd.read_csv('data/processed/amenities_from_comments.csv')"
   ]
  },
  {
   "cell_type": "code",
   "execution_count": 92,
   "metadata": {},
   "outputs": [
    {
     "name": "stdout",
     "output_type": "stream",
     "text": [
      "H1: Ranking de Satisfação\n"
     ]
    },
    {
     "data": {
      "application/vnd.microsoft.datawrangler.viewer.v0+json": {
       "columns": [
        {
         "name": "index",
         "rawType": "int64",
         "type": "integer"
        },
        {
         "name": "Amenity",
         "rawType": "object",
         "type": "string"
        },
        {
         "name": "Impact Score",
         "rawType": "float64",
         "type": "float"
        },
        {
         "name": "Satisfação %",
         "rawType": "float64",
         "type": "float"
        },
        {
         "name": "Elogios",
         "rawType": "int64",
         "type": "integer"
        },
        {
         "name": "Menções",
         "rawType": "int64",
         "type": "integer"
        }
       ],
       "ref": "32de51f9-2557-41c1-9ca9-b1e7252decee",
       "rows": [
        [
         "0",
         "kitchen",
         "341.2",
         "80.4",
         "86",
         "107"
        ],
        [
         "1",
         "wifi",
         "326.0",
         "85.9",
         "61",
         "71"
        ],
        [
         "6",
         "ac",
         "204.7",
         "88.9",
         "8",
         "9"
        ],
        [
         "7",
         "tv",
         "179.2",
         "100.0",
         "5",
         "5"
        ],
        [
         "8",
         "air conditioning",
         "121.0",
         "64.7",
         "11",
         "17"
        ],
        [
         "2",
         "appliances",
         "114.7",
         "80.0",
         "4",
         "5"
        ],
        [
         "5",
         "bedding",
         "114.7",
         "80.0",
         "4",
         "5"
        ],
        [
         "3",
         "bed",
         "102.3",
         "66.7",
         "6",
         "9"
        ]
       ],
       "shape": {
        "columns": 5,
        "rows": 8
       }
      },
      "text/html": [
       "<div>\n",
       "<style scoped>\n",
       "    .dataframe tbody tr th:only-of-type {\n",
       "        vertical-align: middle;\n",
       "    }\n",
       "\n",
       "    .dataframe tbody tr th {\n",
       "        vertical-align: top;\n",
       "    }\n",
       "\n",
       "    .dataframe thead th {\n",
       "        text-align: right;\n",
       "    }\n",
       "</style>\n",
       "<table border=\"1\" class=\"dataframe\">\n",
       "  <thead>\n",
       "    <tr style=\"text-align: right;\">\n",
       "      <th></th>\n",
       "      <th>Amenity</th>\n",
       "      <th>Impact Score</th>\n",
       "      <th>Satisfação %</th>\n",
       "      <th>Elogios</th>\n",
       "      <th>Menções</th>\n",
       "    </tr>\n",
       "  </thead>\n",
       "  <tbody>\n",
       "    <tr>\n",
       "      <th>0</th>\n",
       "      <td>kitchen</td>\n",
       "      <td>341.2</td>\n",
       "      <td>80.4</td>\n",
       "      <td>86</td>\n",
       "      <td>107</td>\n",
       "    </tr>\n",
       "    <tr>\n",
       "      <th>1</th>\n",
       "      <td>wifi</td>\n",
       "      <td>326.0</td>\n",
       "      <td>85.9</td>\n",
       "      <td>61</td>\n",
       "      <td>71</td>\n",
       "    </tr>\n",
       "    <tr>\n",
       "      <th>6</th>\n",
       "      <td>ac</td>\n",
       "      <td>204.7</td>\n",
       "      <td>88.9</td>\n",
       "      <td>8</td>\n",
       "      <td>9</td>\n",
       "    </tr>\n",
       "    <tr>\n",
       "      <th>7</th>\n",
       "      <td>tv</td>\n",
       "      <td>179.2</td>\n",
       "      <td>100.0</td>\n",
       "      <td>5</td>\n",
       "      <td>5</td>\n",
       "    </tr>\n",
       "    <tr>\n",
       "      <th>8</th>\n",
       "      <td>air conditioning</td>\n",
       "      <td>121.0</td>\n",
       "      <td>64.7</td>\n",
       "      <td>11</td>\n",
       "      <td>17</td>\n",
       "    </tr>\n",
       "    <tr>\n",
       "      <th>2</th>\n",
       "      <td>appliances</td>\n",
       "      <td>114.7</td>\n",
       "      <td>80.0</td>\n",
       "      <td>4</td>\n",
       "      <td>5</td>\n",
       "    </tr>\n",
       "    <tr>\n",
       "      <th>5</th>\n",
       "      <td>bedding</td>\n",
       "      <td>114.7</td>\n",
       "      <td>80.0</td>\n",
       "      <td>4</td>\n",
       "      <td>5</td>\n",
       "    </tr>\n",
       "    <tr>\n",
       "      <th>3</th>\n",
       "      <td>bed</td>\n",
       "      <td>102.3</td>\n",
       "      <td>66.7</td>\n",
       "      <td>6</td>\n",
       "      <td>9</td>\n",
       "    </tr>\n",
       "  </tbody>\n",
       "</table>\n",
       "</div>"
      ],
      "text/plain": [
       "            Amenity  Impact Score  Satisfação %  Elogios  Menções\n",
       "0           kitchen         341.2          80.4       86      107\n",
       "1              wifi         326.0          85.9       61       71\n",
       "6                ac         204.7          88.9        8        9\n",
       "7                tv         179.2         100.0        5        5\n",
       "8  air conditioning         121.0          64.7       11       17\n",
       "2        appliances         114.7          80.0        4        5\n",
       "5           bedding         114.7          80.0        4        5\n",
       "3               bed         102.3          66.7        6        9"
      ]
     },
     "metadata": {},
     "output_type": "display_data"
    }
   ],
   "source": [
    "# H1: Análise de Satisfação (Amenities dos Comentários)\n",
    "\n",
    "# Amenities controláveis\n",
    "controlable = ['wifi', 'tv', 'air conditioning', 'ac', 'kitchen', 'appliances', \n",
    "               'bed', 'bedding', 'linens', 'towels', 'cleaning', 'shower']\n",
    "\n",
    "# Processar dados\n",
    "df_h1 = amenities_comments[amenities_comments['item'].isin(controlable)]\n",
    "\n",
    "# Calcular métricas por amenity\n",
    "satisfaction_data = []\n",
    "for amenity in df_h1['item'].unique():\n",
    "    data = df_h1[df_h1['item'] == amenity]\n",
    "    \n",
    "    if len(data) >= 3:  # Mínimo 3 menções\n",
    "        total = len(data)\n",
    "        positive = len(data[data['sentiment'] == 'positive'])\n",
    "        negative = len(data[data['sentiment'] == 'negative'])\n",
    "        \n",
    "        satisfaction_pct = (positive / total) * 100\n",
    "        impact_score = satisfaction_pct * np.log(total + 1) * ((positive + negative) / total)\n",
    "        \n",
    "        satisfaction_data.append({\n",
    "            'amenity': amenity,\n",
    "            'total_mentions': total,\n",
    "            'positive_count': positive,\n",
    "            'negative_count': negative,\n",
    "            'satisfaction_pct': satisfaction_pct,\n",
    "            'impact_score': impact_score\n",
    "        })\n",
    "\n",
    "# Criar DataFrame\n",
    "df_satisfaction = pd.DataFrame(satisfaction_data).sort_values('impact_score', ascending=False)\n",
    "\n",
    "# Tabela H1\n",
    "print(\"H1: Ranking de Satisfação\")\n",
    "satisfaction_table = df_satisfaction[['amenity', 'impact_score', 'satisfaction_pct', 'positive_count', 'total_mentions']].round(1)\n",
    "satisfaction_table.columns = ['Amenity', 'Impact Score', 'Satisfação %', 'Elogios', 'Menções']\n",
    "display(satisfaction_table.head(8))"
   ]
  },
  {
   "cell_type": "code",
   "execution_count": 93,
   "metadata": {},
   "outputs": [
    {
     "name": "stdout",
     "output_type": "stream",
     "text": [
      "H2: Ranking de Impacto no Preço\n"
     ]
    },
    {
     "data": {
      "application/vnd.microsoft.datawrangler.viewer.v0+json": {
       "columns": [
        {
         "name": "index",
         "rawType": "int64",
         "type": "integer"
        },
        {
         "name": "Amenity",
         "rawType": "object",
         "type": "string"
        },
        {
         "name": "Impacto %",
         "rawType": "float64",
         "type": "float"
        },
        {
         "name": "Diferença R$",
         "rawType": "float64",
         "type": "float"
        },
        {
         "name": "Propriedades",
         "rawType": "int64",
         "type": "integer"
        }
       ],
       "ref": "f97de979-1b98-4e8d-80da-5fa29260e5cc",
       "rows": [
        [
         "55",
         "free dryer – in unit",
         "43.6",
         "200.0",
         "57"
        ],
        [
         "67",
         "cleaning available during stay",
         "40.3",
         "186.0",
         "42"
        ],
        [
         "36",
         "free parking on premises",
         "34.4",
         "155.0",
         "101"
        ],
        [
         "64",
         "mountain view",
         "32.8",
         "154.0",
         "44"
        ],
        [
         "0",
         "kitchen",
         "29.1",
         "110.5",
         "352"
        ],
        [
         "66",
         "dryer",
         "28.8",
         "137.0",
         "42"
        ],
        [
         "46",
         "free washer – in unit",
         "27.6",
         "127.0",
         "76"
        ],
        [
         "54",
         "host greets you",
         "25.1",
         "118.0",
         "58"
        ]
       ],
       "shape": {
        "columns": 4,
        "rows": 8
       }
      },
      "text/html": [
       "<div>\n",
       "<style scoped>\n",
       "    .dataframe tbody tr th:only-of-type {\n",
       "        vertical-align: middle;\n",
       "    }\n",
       "\n",
       "    .dataframe tbody tr th {\n",
       "        vertical-align: top;\n",
       "    }\n",
       "\n",
       "    .dataframe thead th {\n",
       "        text-align: right;\n",
       "    }\n",
       "</style>\n",
       "<table border=\"1\" class=\"dataframe\">\n",
       "  <thead>\n",
       "    <tr style=\"text-align: right;\">\n",
       "      <th></th>\n",
       "      <th>Amenity</th>\n",
       "      <th>Impacto %</th>\n",
       "      <th>Diferença R$</th>\n",
       "      <th>Propriedades</th>\n",
       "    </tr>\n",
       "  </thead>\n",
       "  <tbody>\n",
       "    <tr>\n",
       "      <th>55</th>\n",
       "      <td>free dryer – in unit</td>\n",
       "      <td>43.6</td>\n",
       "      <td>200.0</td>\n",
       "      <td>57</td>\n",
       "    </tr>\n",
       "    <tr>\n",
       "      <th>67</th>\n",
       "      <td>cleaning available during stay</td>\n",
       "      <td>40.3</td>\n",
       "      <td>186.0</td>\n",
       "      <td>42</td>\n",
       "    </tr>\n",
       "    <tr>\n",
       "      <th>36</th>\n",
       "      <td>free parking on premises</td>\n",
       "      <td>34.4</td>\n",
       "      <td>155.0</td>\n",
       "      <td>101</td>\n",
       "    </tr>\n",
       "    <tr>\n",
       "      <th>64</th>\n",
       "      <td>mountain view</td>\n",
       "      <td>32.8</td>\n",
       "      <td>154.0</td>\n",
       "      <td>44</td>\n",
       "    </tr>\n",
       "    <tr>\n",
       "      <th>0</th>\n",
       "      <td>kitchen</td>\n",
       "      <td>29.1</td>\n",
       "      <td>110.5</td>\n",
       "      <td>352</td>\n",
       "    </tr>\n",
       "    <tr>\n",
       "      <th>66</th>\n",
       "      <td>dryer</td>\n",
       "      <td>28.8</td>\n",
       "      <td>137.0</td>\n",
       "      <td>42</td>\n",
       "    </tr>\n",
       "    <tr>\n",
       "      <th>46</th>\n",
       "      <td>free washer – in unit</td>\n",
       "      <td>27.6</td>\n",
       "      <td>127.0</td>\n",
       "      <td>76</td>\n",
       "    </tr>\n",
       "    <tr>\n",
       "      <th>54</th>\n",
       "      <td>host greets you</td>\n",
       "      <td>25.1</td>\n",
       "      <td>118.0</td>\n",
       "      <td>58</td>\n",
       "    </tr>\n",
       "  </tbody>\n",
       "</table>\n",
       "</div>"
      ],
      "text/plain": [
       "                           Amenity  Impacto %  Diferença R$  Propriedades\n",
       "55            free dryer – in unit       43.6         200.0            57\n",
       "67  cleaning available during stay       40.3         186.0            42\n",
       "36        free parking on premises       34.4         155.0           101\n",
       "64                   mountain view       32.8         154.0            44\n",
       "0                          kitchen       29.1         110.5           352\n",
       "66                           dryer       28.8         137.0            42\n",
       "46           free washer – in unit       27.6         127.0            76\n",
       "54                 host greets you       25.1         118.0            58"
      ]
     },
     "metadata": {},
     "output_type": "display_data"
    }
   ],
   "source": [
    "# H2: Análise de Preço (Amenities Estruturadas)\n",
    "\n",
    "# Pegar listings com dados da IA\n",
    "listings_ai = amenities_comments['listing_id'].unique()\n",
    "df_h2 = listings[listings['id'].isin(listings_ai)].dropna(subset=['price'])\n",
    "\n",
    "# Função para extrair amenities\n",
    "def extract_amenities(amenities_str):\n",
    "    if pd.isna(amenities_str):\n",
    "        return []\n",
    "    try:\n",
    "        if isinstance(amenities_str, str):\n",
    "            amenities_list = ast.literal_eval(amenities_str)\n",
    "        else:\n",
    "            amenities_list = amenities_str\n",
    "        return [amenity.lower().strip() for amenity in amenities_list]\n",
    "    except:\n",
    "        return []\n",
    "\n",
    "# Processar amenities estruturadas\n",
    "df_h2['amenities_processed'] = df_h2['amenities'].apply(extract_amenities)\n",
    "\n",
    "# Encontrar amenities comuns\n",
    "all_amenities = []\n",
    "for amenities_list in df_h2['amenities_processed']:\n",
    "    all_amenities.extend(amenities_list)\n",
    "\n",
    "amenity_counts = pd.Series(all_amenities).value_counts()\n",
    "common_amenities = amenity_counts[amenity_counts >= len(df_h2) * 0.1].index.tolist()\n",
    "\n",
    "# Calcular impacto no preço\n",
    "price_data = []\n",
    "for amenity in common_amenities:\n",
    "    df_h2[f'has_{amenity}'] = df_h2['amenities_processed'].apply(lambda x: amenity in x)\n",
    "    \n",
    "    with_amenity = df_h2[df_h2[f'has_{amenity}'] == True]['price']\n",
    "    without_amenity = df_h2[df_h2[f'has_{amenity}'] == False]['price']\n",
    "    \n",
    "    if len(with_amenity) >= 10 and len(without_amenity) >= 10:\n",
    "        median_with = with_amenity.median()\n",
    "        median_without = without_amenity.median()\n",
    "        impact_pct = ((median_with - median_without) / median_without) * 100\n",
    "        diff_reais = median_with - median_without\n",
    "        \n",
    "        price_data.append({\n",
    "            'amenity': amenity,\n",
    "            'price_impact_pct': impact_pct,\n",
    "            'diff_reais': diff_reais,\n",
    "            'count_with': len(with_amenity),\n",
    "            'median_with': median_with,\n",
    "            'median_without': median_without\n",
    "        })\n",
    "\n",
    "# Criar DataFrame\n",
    "df_price = pd.DataFrame(price_data).sort_values('price_impact_pct', ascending=False)\n",
    "\n",
    "# Tabela H2\n",
    "print(\"H2: Ranking de Impacto no Preço\")\n",
    "price_table = df_price[['amenity', 'price_impact_pct', 'diff_reais', 'count_with']].round(1)\n",
    "price_table.columns = ['Amenity', 'Impacto %', 'Diferença R$', 'Propriedades']\n",
    "display(price_table.head(8))"
   ]
  },
  {
   "cell_type": "code",
   "execution_count": 94,
   "metadata": {},
   "outputs": [
    {
     "data": {
      "image/png": "[encoded data removed]",
      "text/plain": [
       "<Figure size 1500x1000 with 4 Axes>"
      ]
     },
     "metadata": {},
     "output_type": "display_data"
    }
   ],
   "source": [
    "# Visualizações Comparativas\n",
    "\n",
    "fig, ((ax1, ax2), (ax3, ax4)) = plt.subplots(2, 2, figsize=(15, 10))\n",
    "\n",
    "# 1. Impact Score (Satisfação)\n",
    "top_satisfaction = df_satisfaction.head(6)\n",
    "ax1.barh(top_satisfaction['amenity'], top_satisfaction['impact_score'], color='skyblue')\n",
    "ax1.set_title('H1: Impact Score (Satisfação)')\n",
    "ax1.set_xlabel('Impact Score')\n",
    "\n",
    "# 2. Impacto no Preço\n",
    "top_price = df_price.head(6)\n",
    "ax2.barh(top_price['amenity'], top_price['price_impact_pct'], color='lightcoral')\n",
    "ax2.set_title('H2: Impacto no Preço (%)')\n",
    "ax2.set_xlabel('% Impacto no Preço')\n",
    "\n",
    "# 3. Volume de Elogios\n",
    "ax3.barh(top_satisfaction['amenity'], top_satisfaction['positive_count'], color='lightgreen')\n",
    "ax3.set_title('Volume de Elogios')\n",
    "ax3.set_xlabel('Número de Elogios')\n",
    "\n",
    "# 4. Diferença em Reais\n",
    "ax4.barh(top_price['amenity'], top_price['diff_reais'], color='gold')\n",
    "ax4.set_title('Diferença em R$/dia')\n",
    "ax4.set_xlabel('R$ por diária')\n",
    "\n",
    "plt.tight_layout()\n",
    "plt.show()"
   ]
  },
  {
   "cell_type": "code",
   "execution_count": 95,
   "metadata": {},
   "outputs": [
    {
     "data": {
      "application/vnd.microsoft.datawrangler.viewer.v0+json": {
       "columns": [
        {
         "name": "index",
         "rawType": "int64",
         "type": "integer"
        },
        {
         "name": "Ranking Satisfação",
         "rawType": "object",
         "type": "string"
        },
        {
         "name": "Ranking Preço",
         "rawType": "object",
         "type": "string"
        }
       ],
       "ref": "7e39ba54-7a39-4286-b755-7beb39ea48af",
       "rows": [
        [
         "0",
         "1. kitchen (341)",
         "56. free dryer – in unit (+44%)"
        ],
        [
         "1",
         "2. wifi (326)",
         "68. cleaning available during stay (+40%)"
        ],
        [
         "2",
         "7. ac (205)",
         "37. free parking on premises (+34%)"
        ],
        [
         "3",
         "8. tv (179)",
         "65. mountain view (+33%)"
        ],
        [
         "4",
         "9. air conditioning (121)",
         "1. kitchen (+29%)"
        ]
       ],
       "shape": {
        "columns": 2,
        "rows": 5
       }
      },
      "text/html": [
       "<div>\n",
       "<style scoped>\n",
       "    .dataframe tbody tr th:only-of-type {\n",
       "        vertical-align: middle;\n",
       "    }\n",
       "\n",
       "    .dataframe tbody tr th {\n",
       "        vertical-align: top;\n",
       "    }\n",
       "\n",
       "    .dataframe thead th {\n",
       "        text-align: right;\n",
       "    }\n",
       "</style>\n",
       "<table border=\"1\" class=\"dataframe\">\n",
       "  <thead>\n",
       "    <tr style=\"text-align: right;\">\n",
       "      <th></th>\n",
       "      <th>Ranking Satisfação</th>\n",
       "      <th>Ranking Preço</th>\n",
       "    </tr>\n",
       "  </thead>\n",
       "  <tbody>\n",
       "    <tr>\n",
       "      <th>0</th>\n",
       "      <td>1. kitchen (341)</td>\n",
       "      <td>56. free dryer – in unit (+44%)</td>\n",
       "    </tr>\n",
       "    <tr>\n",
       "      <th>1</th>\n",
       "      <td>2. wifi (326)</td>\n",
       "      <td>68. cleaning available during stay (+40%)</td>\n",
       "    </tr>\n",
       "    <tr>\n",
       "      <th>2</th>\n",
       "      <td>7. ac (205)</td>\n",
       "      <td>37. free parking on premises (+34%)</td>\n",
       "    </tr>\n",
       "    <tr>\n",
       "      <th>3</th>\n",
       "      <td>8. tv (179)</td>\n",
       "      <td>65. mountain view (+33%)</td>\n",
       "    </tr>\n",
       "    <tr>\n",
       "      <th>4</th>\n",
       "      <td>9. air conditioning (121)</td>\n",
       "      <td>1. kitchen (+29%)</td>\n",
       "    </tr>\n",
       "  </tbody>\n",
       "</table>\n",
       "</div>"
      ],
      "text/plain": [
       "          Ranking Satisfação                              Ranking Preço\n",
       "0           1. kitchen (341)            56. free dryer – in unit (+44%)\n",
       "1              2. wifi (326)  68. cleaning available during stay (+40%)\n",
       "2                7. ac (205)        37. free parking on premises (+34%)\n",
       "3                8. tv (179)                   65. mountain view (+33%)\n",
       "4  9. air conditioning (121)                          1. kitchen (+29%)"
      ]
     },
     "metadata": {},
     "output_type": "display_data"
    }
   ],
   "source": [
    "# Comparação Direta: Satisfação vs Preço\n",
    "\n",
    "# Criar tabela comparativa\n",
    "comparison_data = {\n",
    "    'Ranking Satisfação': [f\"{i+1}. {row['amenity']} ({row['impact_score']:.0f})\" \n",
    "                          for i, row in df_satisfaction.head(5).iterrows()],\n",
    "    'Ranking Preço': [f\"{i+1}. {row['amenity']} (+{row['price_impact_pct']:.0f}%)\" \n",
    "                     for i, row in df_price.head(5).iterrows()]\n",
    "}\n",
    "\n",
    "comparison_df = pd.DataFrame(comparison_data)\n",
    "display(comparison_df)"
   ]
  },
  {
   "cell_type": "code",
   "execution_count": 96,
   "metadata": {},
   "outputs": [
    {
     "data": {
      "application/vnd.microsoft.datawrangler.viewer.v0+json": {
       "columns": [
        {
         "name": "index",
         "rawType": "int64",
         "type": "integer"
        },
        {
         "name": "Métrica",
         "rawType": "object",
         "type": "string"
        },
        {
         "name": "Valor",
         "rawType": "object",
         "type": "string"
        },
        {
         "name": "Detalhes",
         "rawType": "object",
         "type": "string"
        }
       ],
       "ref": "30ed3607-70be-4470-8896-7d3f9a612c48",
       "rows": [
        [
         "0",
         "WiFi vs Média de Elogios",
         "3.5x mais elogios",
         "61 vs 17.5"
        ],
        [
         "1",
         "Melhor Satisfação",
         "kitchen (341 pts)",
         "86 elogios, 80%"
        ],
        [
         "2",
         "Melhor Preço",
         "free dryer – in unit (+44%)",
         "+R$200/dia"
        ],
        [
         "3",
         "Mais Eficiente",
         "tv (1.00)",
         "5 elogios / 5 menções"
        ]
       ],
       "shape": {
        "columns": 3,
        "rows": 4
       }
      },
      "text/html": [
       "<div>\n",
       "<style scoped>\n",
       "    .dataframe tbody tr th:only-of-type {\n",
       "        vertical-align: middle;\n",
       "    }\n",
       "\n",
       "    .dataframe tbody tr th {\n",
       "        vertical-align: top;\n",
       "    }\n",
       "\n",
       "    .dataframe thead th {\n",
       "        text-align: right;\n",
       "    }\n",
       "</style>\n",
       "<table border=\"1\" class=\"dataframe\">\n",
       "  <thead>\n",
       "    <tr style=\"text-align: right;\">\n",
       "      <th></th>\n",
       "      <th>Métrica</th>\n",
       "      <th>Valor</th>\n",
       "      <th>Detalhes</th>\n",
       "    </tr>\n",
       "  </thead>\n",
       "  <tbody>\n",
       "    <tr>\n",
       "      <th>0</th>\n",
       "      <td>WiFi vs Média de Elogios</td>\n",
       "      <td>3.5x mais elogios</td>\n",
       "      <td>61 vs 17.5</td>\n",
       "    </tr>\n",
       "    <tr>\n",
       "      <th>1</th>\n",
       "      <td>Melhor Satisfação</td>\n",
       "      <td>kitchen (341 pts)</td>\n",
       "      <td>86 elogios, 80%</td>\n",
       "    </tr>\n",
       "    <tr>\n",
       "      <th>2</th>\n",
       "      <td>Melhor Preço</td>\n",
       "      <td>free dryer – in unit (+44%)</td>\n",
       "      <td>+R$200/dia</td>\n",
       "    </tr>\n",
       "    <tr>\n",
       "      <th>3</th>\n",
       "      <td>Mais Eficiente</td>\n",
       "      <td>tv (1.00)</td>\n",
       "      <td>5 elogios / 5 menções</td>\n",
       "    </tr>\n",
       "  </tbody>\n",
       "</table>\n",
       "</div>"
      ],
      "text/plain": [
       "                    Métrica                        Valor  \\\n",
       "0  WiFi vs Média de Elogios            3.5x mais elogios   \n",
       "1         Melhor Satisfação            kitchen (341 pts)   \n",
       "2              Melhor Preço  free dryer – in unit (+44%)   \n",
       "3            Mais Eficiente                    tv (1.00)   \n",
       "\n",
       "                Detalhes  \n",
       "0             61 vs 17.5  \n",
       "1        86 elogios, 80%  \n",
       "2             +R$200/dia  \n",
       "3  5 elogios / 5 menções  "
      ]
     },
     "metadata": {},
     "output_type": "display_data"
    }
   ],
   "source": [
    "# Insights-Chave\n",
    "\n",
    "# Métricas de performance relativa\n",
    "media_elogios = df_satisfaction['positive_count'].mean()\n",
    "wifi_data = df_satisfaction[df_satisfaction['amenity'] == 'wifi']\n",
    "\n",
    "insights_data = []\n",
    "\n",
    "# WiFi vs média\n",
    "if len(wifi_data) > 0:\n",
    "    wifi_elogios = wifi_data.iloc[0]['positive_count']\n",
    "    multiplicador = wifi_elogios / media_elogios\n",
    "    insights_data.append({\n",
    "        'Métrica': 'WiFi vs Média de Elogios',\n",
    "        'Valor': f\"{multiplicador:.1f}x mais elogios\",\n",
    "        'Detalhes': f\"{wifi_elogios} vs {media_elogios:.1f}\"\n",
    "    })\n",
    "\n",
    "# Top performers\n",
    "if len(df_satisfaction) > 0:\n",
    "    top_sat = df_satisfaction.iloc[0]\n",
    "    insights_data.append({\n",
    "        'Métrica': 'Melhor Satisfação',\n",
    "        'Valor': f\"{top_sat['amenity']} ({top_sat['impact_score']:.0f} pts)\",\n",
    "        'Detalhes': f\"{top_sat['positive_count']} elogios, {top_sat['satisfaction_pct']:.0f}%\"\n",
    "    })\n",
    "\n",
    "if len(df_price) > 0:\n",
    "    top_price = df_price.iloc[0]\n",
    "    insights_data.append({\n",
    "        'Métrica': 'Melhor Preço',\n",
    "        'Valor': f\"{top_price['amenity']} (+{top_price['price_impact_pct']:.0f}%)\",\n",
    "        'Detalhes': f\"+R${top_price['diff_reais']:.0f}/dia\"\n",
    "    })\n",
    "\n",
    "# Eficiência (elogios por menção)\n",
    "df_satisfaction['eficiencia'] = df_satisfaction['positive_count'] / df_satisfaction['total_mentions']\n",
    "most_efficient = df_satisfaction.sort_values('eficiencia', ascending=False).iloc[0]\n",
    "insights_data.append({\n",
    "    'Métrica': 'Mais Eficiente',\n",
    "    'Valor': f\"{most_efficient['amenity']} ({most_efficient['eficiencia']:.2f})\",\n",
    "    'Detalhes': f\"{most_efficient['positive_count']} elogios / {most_efficient['total_mentions']} menções\"\n",
    "})\n",
    "\n",
    "insights_df = pd.DataFrame(insights_data)\n",
    "display(insights_df)"
   ]
  },
  {
   "cell_type": "code",
   "execution_count": 97,
   "metadata": {},
   "outputs": [
    {
     "data": {
      "application/vnd.microsoft.datawrangler.viewer.v0+json": {
       "columns": [
        {
         "name": "index",
         "rawType": "int64",
         "type": "integer"
        },
        {
         "name": "Hipótese",
         "rawType": "object",
         "type": "string"
        },
        {
         "name": "Resultado",
         "rawType": "object",
         "type": "string"
        },
        {
         "name": "Evidência",
         "rawType": "object",
         "type": "string"
        }
       ],
       "ref": "319e490e-7a72-4a8e-8024-9973d0140352",
       "rows": [
        [
         "0",
         "H1: Satisfação",
         "kitchen lidera",
         "341 impact score, 86 elogios"
        ],
        [
         "1",
         "H2: Preço",
         "free dryer – in unit lidera",
         "+44% (+R$200/dia)"
        ],
        [
         "2",
         "Recomendação",
         "Para satisfação: kitchen | Para receita: free dryer – in unit",
         "Baseado em análise comparativa"
        ]
       ],
       "shape": {
        "columns": 3,
        "rows": 3
       }
      },
      "text/html": [
       "<div>\n",
       "<style scoped>\n",
       "    .dataframe tbody tr th:only-of-type {\n",
       "        vertical-align: middle;\n",
       "    }\n",
       "\n",
       "    .dataframe tbody tr th {\n",
       "        vertical-align: top;\n",
       "    }\n",
       "\n",
       "    .dataframe thead th {\n",
       "        text-align: right;\n",
       "    }\n",
       "</style>\n",
       "<table border=\"1\" class=\"dataframe\">\n",
       "  <thead>\n",
       "    <tr style=\"text-align: right;\">\n",
       "      <th></th>\n",
       "      <th>Hipótese</th>\n",
       "      <th>Resultado</th>\n",
       "      <th>Evidência</th>\n",
       "    </tr>\n",
       "  </thead>\n",
       "  <tbody>\n",
       "    <tr>\n",
       "      <th>0</th>\n",
       "      <td>H1: Satisfação</td>\n",
       "      <td>kitchen lidera</td>\n",
       "      <td>341 impact score, 86 elogios</td>\n",
       "    </tr>\n",
       "    <tr>\n",
       "      <th>1</th>\n",
       "      <td>H2: Preço</td>\n",
       "      <td>free dryer – in unit lidera</td>\n",
       "      <td>+44% (+R$200/dia)</td>\n",
       "    </tr>\n",
       "    <tr>\n",
       "      <th>2</th>\n",
       "      <td>Recomendação</td>\n",
       "      <td>Para satisfação: kitchen | Para receita: free ...</td>\n",
       "      <td>Baseado em análise comparativa</td>\n",
       "    </tr>\n",
       "  </tbody>\n",
       "</table>\n",
       "</div>"
      ],
      "text/plain": [
       "         Hipótese                                          Resultado  \\\n",
       "0  H1: Satisfação                                     kitchen lidera   \n",
       "1       H2: Preço                        free dryer – in unit lidera   \n",
       "2    Recomendação  Para satisfação: kitchen | Para receita: free ...   \n",
       "\n",
       "                        Evidência  \n",
       "0    341 impact score, 86 elogios  \n",
       "1               +44% (+R$200/dia)  \n",
       "2  Baseado em análise comparativa  "
      ]
     },
     "metadata": {},
     "output_type": "display_data"
    }
   ],
   "source": [
    "# Conclusões\n",
    "\n",
    "# Resposta às hipóteses\n",
    "results_data = []\n",
    "\n",
    "# H1: Satisfação\n",
    "if len(df_satisfaction) > 0:\n",
    "    winner_h1 = df_satisfaction.iloc[0]\n",
    "    results_data.append({\n",
    "        'Hipótese': 'H1: Satisfação',\n",
    "        'Resultado': f\"{winner_h1['amenity']} lidera\",\n",
    "        'Evidência': f\"{winner_h1['impact_score']:.0f} impact score, {winner_h1['positive_count']} elogios\"\n",
    "    })\n",
    "\n",
    "# H2: Preço\n",
    "if len(df_price) > 0:\n",
    "    winner_h2 = df_price.iloc[0]\n",
    "    results_data.append({\n",
    "        'Hipótese': 'H2: Preço', \n",
    "        'Resultado': f\"{winner_h2['amenity']} lidera\",\n",
    "        'Evidência': f\"+{winner_h2['price_impact_pct']:.0f}% (+R${winner_h2['diff_reais']:.0f}/dia)\"\n",
    "    })\n",
    "\n",
    "# Recomendação\n",
    "if len(df_satisfaction) > 0 and len(df_price) > 0:\n",
    "    sat_winner = df_satisfaction.iloc[0]['amenity']\n",
    "    price_winner = df_price.iloc[0]['amenity']\n",
    "    \n",
    "    if sat_winner.lower() == price_winner.lower():\n",
    "        recommendation = f\"Investir em {sat_winner}: vence em satisfação E preço\"\n",
    "    else:\n",
    "        recommendation = f\"Para satisfação: {sat_winner} | Para receita: {price_winner}\"\n",
    "    \n",
    "    results_data.append({\n",
    "        'Hipótese': 'Recomendação',\n",
    "        'Resultado': recommendation,\n",
    "        'Evidência': 'Baseado em análise comparativa'\n",
    "    })\n",
    "\n",
    "results_df = pd.DataFrame(results_data)\n",
    "display(results_df)"
   ]
  },
  {
   "cell_type": "code",
   "execution_count": 98,
   "metadata": {},
   "outputs": [
    {
     "data": {
      "application/vnd.microsoft.datawrangler.viewer.v0+json": {
       "columns": [
        {
         "name": "index",
         "rawType": "int64",
         "type": "integer"
        },
        {
         "name": "Métrica",
         "rawType": "object",
         "type": "string"
        },
        {
         "name": "Valor",
         "rawType": "object",
         "type": "unknown"
        }
       ],
       "ref": "6b0cc334-1ad1-4fd6-9e6f-32250df47098",
       "rows": [
        [
         "0",
         "Total comentários processados",
         "621"
        ],
        [
         "1",
         "Amenities controláveis analisadas",
         "11"
        ],
        [
         "2",
         "Amenities estruturadas analisadas",
         "72"
        ],
        [
         "3",
         "Listings com preço válido",
         "362"
        ],
        [
         "4",
         "Média elogios por amenity",
         "17.5"
        ],
        [
         "5",
         "WiFi vs média",
         "3.5x"
        ]
       ],
       "shape": {
        "columns": 2,
        "rows": 6
       }
      },
      "text/html": [
       "<div>\n",
       "<style scoped>\n",
       "    .dataframe tbody tr th:only-of-type {\n",
       "        vertical-align: middle;\n",
       "    }\n",
       "\n",
       "    .dataframe tbody tr th {\n",
       "        vertical-align: top;\n",
       "    }\n",
       "\n",
       "    .dataframe thead th {\n",
       "        text-align: right;\n",
       "    }\n",
       "</style>\n",
       "<table border=\"1\" class=\"dataframe\">\n",
       "  <thead>\n",
       "    <tr style=\"text-align: right;\">\n",
       "      <th></th>\n",
       "      <th>Métrica</th>\n",
       "      <th>Valor</th>\n",
       "    </tr>\n",
       "  </thead>\n",
       "  <tbody>\n",
       "    <tr>\n",
       "      <th>0</th>\n",
       "      <td>Total comentários processados</td>\n",
       "      <td>621</td>\n",
       "    </tr>\n",
       "    <tr>\n",
       "      <th>1</th>\n",
       "      <td>Amenities controláveis analisadas</td>\n",
       "      <td>11</td>\n",
       "    </tr>\n",
       "    <tr>\n",
       "      <th>2</th>\n",
       "      <td>Amenities estruturadas analisadas</td>\n",
       "      <td>72</td>\n",
       "    </tr>\n",
       "    <tr>\n",
       "      <th>3</th>\n",
       "      <td>Listings com preço válido</td>\n",
       "      <td>362</td>\n",
       "    </tr>\n",
       "    <tr>\n",
       "      <th>4</th>\n",
       "      <td>Média elogios por amenity</td>\n",
       "      <td>17.5</td>\n",
       "    </tr>\n",
       "    <tr>\n",
       "      <th>5</th>\n",
       "      <td>WiFi vs média</td>\n",
       "      <td>3.5x</td>\n",
       "    </tr>\n",
       "  </tbody>\n",
       "</table>\n",
       "</div>"
      ],
      "text/plain": [
       "                             Métrica Valor\n",
       "0      Total comentários processados   621\n",
       "1  Amenities controláveis analisadas    11\n",
       "2  Amenities estruturadas analisadas    72\n",
       "3          Listings com preço válido   362\n",
       "4          Média elogios por amenity  17.5\n",
       "5                      WiFi vs média  3.5x"
      ]
     },
     "metadata": {},
     "output_type": "display_data"
    }
   ],
   "source": [
    "# Estatísticas Finais\n",
    "\n",
    "# Resumo dos dados analisados\n",
    "stats_data = [\n",
    "    ['Total comentários processados', len(amenities_comments)],\n",
    "    ['Amenities controláveis analisadas', len(df_satisfaction)],\n",
    "    ['Amenities estruturadas analisadas', len(df_price)],\n",
    "    ['Listings com preço válido', len(df_h2)],\n",
    "    ['Média elogios por amenity', f\"{media_elogios:.1f}\"],\n",
    "    ['WiFi vs média', f\"{wifi_elogios/media_elogios:.1f}x\" if len(wifi_data) > 0 else 'N/A']\n",
    "]\n",
    "\n",
    "stats_df = pd.DataFrame(stats_data, columns=['Métrica', 'Valor'])\n",
    "display(stats_df)"
   ]
  }
 ],
 "metadata": {
  "kernelspec": {
   "display_name": "Python 3",
   "language": "python",
   "name": "python3"
  },
  "language_info": {
   "codemirror_mode": {
    "name": "ipython",
    "version": 3
   },
   "file_extension": ".py",
   "mimetype": "text/x-python",
   "name": "python",
   "nbconvert_exporter": "python",
   "pygments_lexer": "ipython3",
   "version": "3.8.5"
  }
 },
 "nbformat": 4,
 "nbformat_minor": 4
}
